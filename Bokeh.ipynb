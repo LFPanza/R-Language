{
 "cells": [
  {
   "cell_type": "markdown",
   "metadata": {},
   "source": [
    "### Bokeh"
   ]
  },
  {
   "cell_type": "code",
   "execution_count": 1,
   "metadata": {},
   "outputs": [],
   "source": [
    "# Importando o módulo Bokeh\n",
    "import bokeh\n",
    "from bokeh.io import show, output_notebook\n",
    "from bokeh.plotting import figure, output_file\n",
    "from bokeh.models import ColumnDataSource\n",
    "from bokeh.transform import factor_cmap\n",
    "from bokeh.palettes import Spectral6"
   ]
  },
  {
   "cell_type": "code",
   "execution_count": 2,
   "metadata": {},
   "outputs": [
    {
     "data": {
      "text/html": [
       "\n",
       "    <div class=\"bk-root\">\n",
       "        <a href=\"https://bokeh.pydata.org\" target=\"_blank\" class=\"bk-logo bk-logo-small bk-logo-notebook\"></a>\n",
       "        <span id=\"1001\">Loading BokehJS ...</span>\n",
       "    </div>"
      ]
     },
     "metadata": {},
     "output_type": "display_data"
    },
    {
     "data": {
      "application/javascript": [
       "\n",
       "(function(root) {\n",
       "  function now() {\n",
       "    return new Date();\n",
       "  }\n",
       "\n",
       "  var force = true;\n",
       "\n",
       "  if (typeof (root._bokeh_onload_callbacks) === \"undefined\" || force === true) {\n",
       "    root._bokeh_onload_callbacks = [];\n",
       "    root._bokeh_is_loading = undefined;\n",
       "  }\n",
       "\n",
       "  var JS_MIME_TYPE = 'application/javascript';\n",
       "  var HTML_MIME_TYPE = 'text/html';\n",
       "  var EXEC_MIME_TYPE = 'application/vnd.bokehjs_exec.v0+json';\n",
       "  var CLASS_NAME = 'output_bokeh rendered_html';\n",
       "\n",
       "  /**\n",
       "   * Render data to the DOM node\n",
       "   */\n",
       "  function render(props, node) {\n",
       "    var script = document.createElement(\"script\");\n",
       "    node.appendChild(script);\n",
       "  }\n",
       "\n",
       "  /**\n",
       "   * Handle when an output is cleared or removed\n",
       "   */\n",
       "  function handleClearOutput(event, handle) {\n",
       "    var cell = handle.cell;\n",
       "\n",
       "    var id = cell.output_area._bokeh_element_id;\n",
       "    var server_id = cell.output_area._bokeh_server_id;\n",
       "    // Clean up Bokeh references\n",
       "    if (id != null && id in Bokeh.index) {\n",
       "      Bokeh.index[id].model.document.clear();\n",
       "      delete Bokeh.index[id];\n",
       "    }\n",
       "\n",
       "    if (server_id !== undefined) {\n",
       "      // Clean up Bokeh references\n",
       "      var cmd = \"from bokeh.io.state import curstate; print(curstate().uuid_to_server['\" + server_id + \"'].get_sessions()[0].document.roots[0]._id)\";\n",
       "      cell.notebook.kernel.execute(cmd, {\n",
       "        iopub: {\n",
       "          output: function(msg) {\n",
       "            var id = msg.content.text.trim();\n",
       "            if (id in Bokeh.index) {\n",
       "              Bokeh.index[id].model.document.clear();\n",
       "              delete Bokeh.index[id];\n",
       "            }\n",
       "          }\n",
       "        }\n",
       "      });\n",
       "      // Destroy server and session\n",
       "      var cmd = \"import bokeh.io.notebook as ion; ion.destroy_server('\" + server_id + \"')\";\n",
       "      cell.notebook.kernel.execute(cmd);\n",
       "    }\n",
       "  }\n",
       "\n",
       "  /**\n",
       "   * Handle when a new output is added\n",
       "   */\n",
       "  function handleAddOutput(event, handle) {\n",
       "    var output_area = handle.output_area;\n",
       "    var output = handle.output;\n",
       "\n",
       "    // limit handleAddOutput to display_data with EXEC_MIME_TYPE content only\n",
       "    if ((output.output_type != \"display_data\") || (!output.data.hasOwnProperty(EXEC_MIME_TYPE))) {\n",
       "      return\n",
       "    }\n",
       "\n",
       "    var toinsert = output_area.element.find(\".\" + CLASS_NAME.split(' ')[0]);\n",
       "\n",
       "    if (output.metadata[EXEC_MIME_TYPE][\"id\"] !== undefined) {\n",
       "      toinsert[toinsert.length - 1].firstChild.textContent = output.data[JS_MIME_TYPE];\n",
       "      // store reference to embed id on output_area\n",
       "      output_area._bokeh_element_id = output.metadata[EXEC_MIME_TYPE][\"id\"];\n",
       "    }\n",
       "    if (output.metadata[EXEC_MIME_TYPE][\"server_id\"] !== undefined) {\n",
       "      var bk_div = document.createElement(\"div\");\n",
       "      bk_div.innerHTML = output.data[HTML_MIME_TYPE];\n",
       "      var script_attrs = bk_div.children[0].attributes;\n",
       "      for (var i = 0; i < script_attrs.length; i++) {\n",
       "        toinsert[toinsert.length - 1].firstChild.setAttribute(script_attrs[i].name, script_attrs[i].value);\n",
       "      }\n",
       "      // store reference to server id on output_area\n",
       "      output_area._bokeh_server_id = output.metadata[EXEC_MIME_TYPE][\"server_id\"];\n",
       "    }\n",
       "  }\n",
       "\n",
       "  function register_renderer(events, OutputArea) {\n",
       "\n",
       "    function append_mime(data, metadata, element) {\n",
       "      // create a DOM node to render to\n",
       "      var toinsert = this.create_output_subarea(\n",
       "        metadata,\n",
       "        CLASS_NAME,\n",
       "        EXEC_MIME_TYPE\n",
       "      );\n",
       "      this.keyboard_manager.register_events(toinsert);\n",
       "      // Render to node\n",
       "      var props = {data: data, metadata: metadata[EXEC_MIME_TYPE]};\n",
       "      render(props, toinsert[toinsert.length - 1]);\n",
       "      element.append(toinsert);\n",
       "      return toinsert\n",
       "    }\n",
       "\n",
       "    /* Handle when an output is cleared or removed */\n",
       "    events.on('clear_output.CodeCell', handleClearOutput);\n",
       "    events.on('delete.Cell', handleClearOutput);\n",
       "\n",
       "    /* Handle when a new output is added */\n",
       "    events.on('output_added.OutputArea', handleAddOutput);\n",
       "\n",
       "    /**\n",
       "     * Register the mime type and append_mime function with output_area\n",
       "     */\n",
       "    OutputArea.prototype.register_mime_type(EXEC_MIME_TYPE, append_mime, {\n",
       "      /* Is output safe? */\n",
       "      safe: true,\n",
       "      /* Index of renderer in `output_area.display_order` */\n",
       "      index: 0\n",
       "    });\n",
       "  }\n",
       "\n",
       "  // register the mime type if in Jupyter Notebook environment and previously unregistered\n",
       "  if (root.Jupyter !== undefined) {\n",
       "    var events = require('base/js/events');\n",
       "    var OutputArea = require('notebook/js/outputarea').OutputArea;\n",
       "\n",
       "    if (OutputArea.prototype.mime_types().indexOf(EXEC_MIME_TYPE) == -1) {\n",
       "      register_renderer(events, OutputArea);\n",
       "    }\n",
       "  }\n",
       "\n",
       "  \n",
       "  if (typeof (root._bokeh_timeout) === \"undefined\" || force === true) {\n",
       "    root._bokeh_timeout = Date.now() + 5000;\n",
       "    root._bokeh_failed_load = false;\n",
       "  }\n",
       "\n",
       "  var NB_LOAD_WARNING = {'data': {'text/html':\n",
       "     \"<div style='background-color: #fdd'>\\n\"+\n",
       "     \"<p>\\n\"+\n",
       "     \"BokehJS does not appear to have successfully loaded. If loading BokehJS from CDN, this \\n\"+\n",
       "     \"may be due to a slow or bad network connection. Possible fixes:\\n\"+\n",
       "     \"</p>\\n\"+\n",
       "     \"<ul>\\n\"+\n",
       "     \"<li>re-rerun `output_notebook()` to attempt to load from CDN again, or</li>\\n\"+\n",
       "     \"<li>use INLINE resources instead, as so:</li>\\n\"+\n",
       "     \"</ul>\\n\"+\n",
       "     \"<code>\\n\"+\n",
       "     \"from bokeh.resources import INLINE\\n\"+\n",
       "     \"output_notebook(resources=INLINE)\\n\"+\n",
       "     \"</code>\\n\"+\n",
       "     \"</div>\"}};\n",
       "\n",
       "  function display_loaded() {\n",
       "    var el = document.getElementById(\"1001\");\n",
       "    if (el != null) {\n",
       "      el.textContent = \"BokehJS is loading...\";\n",
       "    }\n",
       "    if (root.Bokeh !== undefined) {\n",
       "      if (el != null) {\n",
       "        el.textContent = \"BokehJS \" + root.Bokeh.version + \" successfully loaded.\";\n",
       "      }\n",
       "    } else if (Date.now() < root._bokeh_timeout) {\n",
       "      setTimeout(display_loaded, 100)\n",
       "    }\n",
       "  }\n",
       "\n",
       "\n",
       "  function run_callbacks() {\n",
       "    try {\n",
       "      root._bokeh_onload_callbacks.forEach(function(callback) { callback() });\n",
       "    }\n",
       "    finally {\n",
       "      delete root._bokeh_onload_callbacks\n",
       "    }\n",
       "    console.info(\"Bokeh: all callbacks have finished\");\n",
       "  }\n",
       "\n",
       "  function load_libs(js_urls, callback) {\n",
       "    root._bokeh_onload_callbacks.push(callback);\n",
       "    if (root._bokeh_is_loading > 0) {\n",
       "      console.log(\"Bokeh: BokehJS is being loaded, scheduling callback at\", now());\n",
       "      return null;\n",
       "    }\n",
       "    if (js_urls == null || js_urls.length === 0) {\n",
       "      run_callbacks();\n",
       "      return null;\n",
       "    }\n",
       "    console.log(\"Bokeh: BokehJS not loaded, scheduling load and callback at\", now());\n",
       "    root._bokeh_is_loading = js_urls.length;\n",
       "    for (var i = 0; i < js_urls.length; i++) {\n",
       "      var url = js_urls[i];\n",
       "      var s = document.createElement('script');\n",
       "      s.src = url;\n",
       "      s.async = false;\n",
       "      s.onreadystatechange = s.onload = function() {\n",
       "        root._bokeh_is_loading--;\n",
       "        if (root._bokeh_is_loading === 0) {\n",
       "          console.log(\"Bokeh: all BokehJS libraries loaded\");\n",
       "          run_callbacks()\n",
       "        }\n",
       "      };\n",
       "      s.onerror = function() {\n",
       "        console.warn(\"failed to load library \" + url);\n",
       "      };\n",
       "      console.log(\"Bokeh: injecting script tag for BokehJS library: \", url);\n",
       "      document.getElementsByTagName(\"head\")[0].appendChild(s);\n",
       "    }\n",
       "  };var element = document.getElementById(\"1001\");\n",
       "  if (element == null) {\n",
       "    console.log(\"Bokeh: ERROR: autoload.js configured with elementid '1001' but no matching script tag was found. \")\n",
       "    return false;\n",
       "  }\n",
       "\n",
       "  var js_urls = [\"https://cdn.pydata.org/bokeh/release/bokeh-1.0.4.min.js\", \"https://cdn.pydata.org/bokeh/release/bokeh-widgets-1.0.4.min.js\", \"https://cdn.pydata.org/bokeh/release/bokeh-tables-1.0.4.min.js\", \"https://cdn.pydata.org/bokeh/release/bokeh-gl-1.0.4.min.js\"];\n",
       "\n",
       "  var inline_js = [\n",
       "    function(Bokeh) {\n",
       "      Bokeh.set_log_level(\"info\");\n",
       "    },\n",
       "    \n",
       "    function(Bokeh) {\n",
       "      \n",
       "    },\n",
       "    function(Bokeh) {\n",
       "      console.log(\"Bokeh: injecting CSS: https://cdn.pydata.org/bokeh/release/bokeh-1.0.4.min.css\");\n",
       "      Bokeh.embed.inject_css(\"https://cdn.pydata.org/bokeh/release/bokeh-1.0.4.min.css\");\n",
       "      console.log(\"Bokeh: injecting CSS: https://cdn.pydata.org/bokeh/release/bokeh-widgets-1.0.4.min.css\");\n",
       "      Bokeh.embed.inject_css(\"https://cdn.pydata.org/bokeh/release/bokeh-widgets-1.0.4.min.css\");\n",
       "      console.log(\"Bokeh: injecting CSS: https://cdn.pydata.org/bokeh/release/bokeh-tables-1.0.4.min.css\");\n",
       "      Bokeh.embed.inject_css(\"https://cdn.pydata.org/bokeh/release/bokeh-tables-1.0.4.min.css\");\n",
       "    }\n",
       "  ];\n",
       "\n",
       "  function run_inline_js() {\n",
       "    \n",
       "    if ((root.Bokeh !== undefined) || (force === true)) {\n",
       "      for (var i = 0; i < inline_js.length; i++) {\n",
       "        inline_js[i].call(root, root.Bokeh);\n",
       "      }if (force === true) {\n",
       "        display_loaded();\n",
       "      }} else if (Date.now() < root._bokeh_timeout) {\n",
       "      setTimeout(run_inline_js, 100);\n",
       "    } else if (!root._bokeh_failed_load) {\n",
       "      console.log(\"Bokeh: BokehJS failed to load within specified timeout.\");\n",
       "      root._bokeh_failed_load = true;\n",
       "    } else if (force !== true) {\n",
       "      var cell = $(document.getElementById(\"1001\")).parents('.cell').data().cell;\n",
       "      cell.output_area.append_execute_result(NB_LOAD_WARNING)\n",
       "    }\n",
       "\n",
       "  }\n",
       "\n",
       "  if (root._bokeh_is_loading === 0) {\n",
       "    console.log(\"Bokeh: BokehJS loaded, going straight to plotting\");\n",
       "    run_inline_js();\n",
       "  } else {\n",
       "    load_libs(js_urls, function() {\n",
       "      console.log(\"Bokeh: BokehJS plotting callback run at\", now());\n",
       "      run_inline_js();\n",
       "    });\n",
       "  }\n",
       "}(window));"
      ],
      "application/vnd.bokehjs_load.v0+json": "\n(function(root) {\n  function now() {\n    return new Date();\n  }\n\n  var force = true;\n\n  if (typeof (root._bokeh_onload_callbacks) === \"undefined\" || force === true) {\n    root._bokeh_onload_callbacks = [];\n    root._bokeh_is_loading = undefined;\n  }\n\n  \n\n  \n  if (typeof (root._bokeh_timeout) === \"undefined\" || force === true) {\n    root._bokeh_timeout = Date.now() + 5000;\n    root._bokeh_failed_load = false;\n  }\n\n  var NB_LOAD_WARNING = {'data': {'text/html':\n     \"<div style='background-color: #fdd'>\\n\"+\n     \"<p>\\n\"+\n     \"BokehJS does not appear to have successfully loaded. If loading BokehJS from CDN, this \\n\"+\n     \"may be due to a slow or bad network connection. Possible fixes:\\n\"+\n     \"</p>\\n\"+\n     \"<ul>\\n\"+\n     \"<li>re-rerun `output_notebook()` to attempt to load from CDN again, or</li>\\n\"+\n     \"<li>use INLINE resources instead, as so:</li>\\n\"+\n     \"</ul>\\n\"+\n     \"<code>\\n\"+\n     \"from bokeh.resources import INLINE\\n\"+\n     \"output_notebook(resources=INLINE)\\n\"+\n     \"</code>\\n\"+\n     \"</div>\"}};\n\n  function display_loaded() {\n    var el = document.getElementById(\"1001\");\n    if (el != null) {\n      el.textContent = \"BokehJS is loading...\";\n    }\n    if (root.Bokeh !== undefined) {\n      if (el != null) {\n        el.textContent = \"BokehJS \" + root.Bokeh.version + \" successfully loaded.\";\n      }\n    } else if (Date.now() < root._bokeh_timeout) {\n      setTimeout(display_loaded, 100)\n    }\n  }\n\n\n  function run_callbacks() {\n    try {\n      root._bokeh_onload_callbacks.forEach(function(callback) { callback() });\n    }\n    finally {\n      delete root._bokeh_onload_callbacks\n    }\n    console.info(\"Bokeh: all callbacks have finished\");\n  }\n\n  function load_libs(js_urls, callback) {\n    root._bokeh_onload_callbacks.push(callback);\n    if (root._bokeh_is_loading > 0) {\n      console.log(\"Bokeh: BokehJS is being loaded, scheduling callback at\", now());\n      return null;\n    }\n    if (js_urls == null || js_urls.length === 0) {\n      run_callbacks();\n      return null;\n    }\n    console.log(\"Bokeh: BokehJS not loaded, scheduling load and callback at\", now());\n    root._bokeh_is_loading = js_urls.length;\n    for (var i = 0; i < js_urls.length; i++) {\n      var url = js_urls[i];\n      var s = document.createElement('script');\n      s.src = url;\n      s.async = false;\n      s.onreadystatechange = s.onload = function() {\n        root._bokeh_is_loading--;\n        if (root._bokeh_is_loading === 0) {\n          console.log(\"Bokeh: all BokehJS libraries loaded\");\n          run_callbacks()\n        }\n      };\n      s.onerror = function() {\n        console.warn(\"failed to load library \" + url);\n      };\n      console.log(\"Bokeh: injecting script tag for BokehJS library: \", url);\n      document.getElementsByTagName(\"head\")[0].appendChild(s);\n    }\n  };var element = document.getElementById(\"1001\");\n  if (element == null) {\n    console.log(\"Bokeh: ERROR: autoload.js configured with elementid '1001' but no matching script tag was found. \")\n    return false;\n  }\n\n  var js_urls = [\"https://cdn.pydata.org/bokeh/release/bokeh-1.0.4.min.js\", \"https://cdn.pydata.org/bokeh/release/bokeh-widgets-1.0.4.min.js\", \"https://cdn.pydata.org/bokeh/release/bokeh-tables-1.0.4.min.js\", \"https://cdn.pydata.org/bokeh/release/bokeh-gl-1.0.4.min.js\"];\n\n  var inline_js = [\n    function(Bokeh) {\n      Bokeh.set_log_level(\"info\");\n    },\n    \n    function(Bokeh) {\n      \n    },\n    function(Bokeh) {\n      console.log(\"Bokeh: injecting CSS: https://cdn.pydata.org/bokeh/release/bokeh-1.0.4.min.css\");\n      Bokeh.embed.inject_css(\"https://cdn.pydata.org/bokeh/release/bokeh-1.0.4.min.css\");\n      console.log(\"Bokeh: injecting CSS: https://cdn.pydata.org/bokeh/release/bokeh-widgets-1.0.4.min.css\");\n      Bokeh.embed.inject_css(\"https://cdn.pydata.org/bokeh/release/bokeh-widgets-1.0.4.min.css\");\n      console.log(\"Bokeh: injecting CSS: https://cdn.pydata.org/bokeh/release/bokeh-tables-1.0.4.min.css\");\n      Bokeh.embed.inject_css(\"https://cdn.pydata.org/bokeh/release/bokeh-tables-1.0.4.min.css\");\n    }\n  ];\n\n  function run_inline_js() {\n    \n    if ((root.Bokeh !== undefined) || (force === true)) {\n      for (var i = 0; i < inline_js.length; i++) {\n        inline_js[i].call(root, root.Bokeh);\n      }if (force === true) {\n        display_loaded();\n      }} else if (Date.now() < root._bokeh_timeout) {\n      setTimeout(run_inline_js, 100);\n    } else if (!root._bokeh_failed_load) {\n      console.log(\"Bokeh: BokehJS failed to load within specified timeout.\");\n      root._bokeh_failed_load = true;\n    } else if (force !== true) {\n      var cell = $(document.getElementById(\"1001\")).parents('.cell').data().cell;\n      cell.output_area.append_execute_result(NB_LOAD_WARNING)\n    }\n\n  }\n\n  if (root._bokeh_is_loading === 0) {\n    console.log(\"Bokeh: BokehJS loaded, going straight to plotting\");\n    run_inline_js();\n  } else {\n    load_libs(js_urls, function() {\n      console.log(\"Bokeh: BokehJS plotting callback run at\", now());\n      run_inline_js();\n    });\n  }\n}(window));"
     },
     "metadata": {},
     "output_type": "display_data"
    }
   ],
   "source": [
    "# Carregando o Bokeh \n",
    "output_notebook() "
   ]
  },
  {
   "cell_type": "code",
   "execution_count": 3,
   "metadata": {},
   "outputs": [],
   "source": [
    "# Arquivo gerado pela visualização\n",
    "output_file(\"Bokeh-Grafico-Interativo.html\")"
   ]
  },
  {
   "cell_type": "code",
   "execution_count": 4,
   "metadata": {},
   "outputs": [],
   "source": [
    "p = figure()"
   ]
  },
  {
   "cell_type": "code",
   "execution_count": 5,
   "metadata": {},
   "outputs": [
    {
     "data": {
      "text/plain": [
       "bokeh.plotting.figure.Figure"
      ]
     },
     "execution_count": 5,
     "metadata": {},
     "output_type": "execute_result"
    }
   ],
   "source": [
    "type(p)"
   ]
  },
  {
   "cell_type": "code",
   "execution_count": 6,
   "metadata": {},
   "outputs": [
    {
     "data": {
      "text/html": [
       "<div style=\"display: table;\"><div style=\"display: table-row;\"><div style=\"display: table-cell;\"><b title=\"bokeh.models.renderers.GlyphRenderer\">GlyphRenderer</b>(</div><div style=\"display: table-cell;\">id&nbsp;=&nbsp;'1039', <span id=\"1042\" style=\"cursor: pointer;\">&hellip;)</span></div></div><div class=\"1041\" style=\"display: none;\"><div style=\"display: table-cell;\"></div><div style=\"display: table-cell;\">data_source&nbsp;=&nbsp;ColumnDataSource(id='1036', ...),</div></div><div class=\"1041\" style=\"display: none;\"><div style=\"display: table-cell;\"></div><div style=\"display: table-cell;\">glyph&nbsp;=&nbsp;Line(id='1037', ...),</div></div><div class=\"1041\" style=\"display: none;\"><div style=\"display: table-cell;\"></div><div style=\"display: table-cell;\">hover_glyph&nbsp;=&nbsp;None,</div></div><div class=\"1041\" style=\"display: none;\"><div style=\"display: table-cell;\"></div><div style=\"display: table-cell;\">js_event_callbacks&nbsp;=&nbsp;{},</div></div><div class=\"1041\" style=\"display: none;\"><div style=\"display: table-cell;\"></div><div style=\"display: table-cell;\">js_property_callbacks&nbsp;=&nbsp;{},</div></div><div class=\"1041\" style=\"display: none;\"><div style=\"display: table-cell;\"></div><div style=\"display: table-cell;\">level&nbsp;=&nbsp;'glyph',</div></div><div class=\"1041\" style=\"display: none;\"><div style=\"display: table-cell;\"></div><div style=\"display: table-cell;\">muted&nbsp;=&nbsp;False,</div></div><div class=\"1041\" style=\"display: none;\"><div style=\"display: table-cell;\"></div><div style=\"display: table-cell;\">muted_glyph&nbsp;=&nbsp;None,</div></div><div class=\"1041\" style=\"display: none;\"><div style=\"display: table-cell;\"></div><div style=\"display: table-cell;\">name&nbsp;=&nbsp;None,</div></div><div class=\"1041\" style=\"display: none;\"><div style=\"display: table-cell;\"></div><div style=\"display: table-cell;\">nonselection_glyph&nbsp;=&nbsp;Line(id='1038', ...),</div></div><div class=\"1041\" style=\"display: none;\"><div style=\"display: table-cell;\"></div><div style=\"display: table-cell;\">selection_glyph&nbsp;=&nbsp;None,</div></div><div class=\"1041\" style=\"display: none;\"><div style=\"display: table-cell;\"></div><div style=\"display: table-cell;\">subscribed_events&nbsp;=&nbsp;[],</div></div><div class=\"1041\" style=\"display: none;\"><div style=\"display: table-cell;\"></div><div style=\"display: table-cell;\">tags&nbsp;=&nbsp;[],</div></div><div class=\"1041\" style=\"display: none;\"><div style=\"display: table-cell;\"></div><div style=\"display: table-cell;\">view&nbsp;=&nbsp;CDSView(id='1040', ...),</div></div><div class=\"1041\" style=\"display: none;\"><div style=\"display: table-cell;\"></div><div style=\"display: table-cell;\">visible&nbsp;=&nbsp;True,</div></div><div class=\"1041\" style=\"display: none;\"><div style=\"display: table-cell;\"></div><div style=\"display: table-cell;\">x_range_name&nbsp;=&nbsp;'default',</div></div><div class=\"1041\" style=\"display: none;\"><div style=\"display: table-cell;\"></div><div style=\"display: table-cell;\">y_range_name&nbsp;=&nbsp;'default')</div></div></div>\n",
       "<script>\n",
       "(function() {\n",
       "  var expanded = false;\n",
       "  var ellipsis = document.getElementById(\"1042\");\n",
       "  ellipsis.addEventListener(\"click\", function() {\n",
       "    var rows = document.getElementsByClassName(\"1041\");\n",
       "    for (var i = 0; i < rows.length; i++) {\n",
       "      var el = rows[i];\n",
       "      el.style.display = expanded ? \"none\" : \"table-row\";\n",
       "    }\n",
       "    ellipsis.innerHTML = expanded ? \"&hellip;)\" : \"&lsaquo;&lsaquo;&lsaquo;\";\n",
       "    expanded = !expanded;\n",
       "  });\n",
       "})();\n",
       "</script>\n"
      ],
      "text/plain": [
       "GlyphRenderer(id='1039', ...)"
      ]
     },
     "execution_count": 6,
     "metadata": {},
     "output_type": "execute_result"
    }
   ],
   "source": [
    "p.line([1, 2, 3, 4, 5], [6, 7, 2, 4, 5], line_width = 2)"
   ]
  },
  {
   "cell_type": "code",
   "execution_count": 7,
   "metadata": {},
   "outputs": [
    {
     "data": {
      "text/html": [
       "\n",
       "\n",
       "\n",
       "\n",
       "\n",
       "\n",
       "  <div class=\"bk-root\" id=\"d68f574a-c517-4c26-a17a-8991b9815f52\" data-root-id=\"1002\"></div>\n"
      ]
     },
     "metadata": {},
     "output_type": "display_data"
    },
    {
     "data": {
      "application/javascript": [
       "(function(root) {\n",
       "  function embed_document(root) {\n",
       "    \n",
       "  var docs_json = {\"6ea60bce-f047-4b19-846b-5988a7111030\":{\"roots\":{\"references\":[{\"attributes\":{\"below\":[{\"id\":\"1011\",\"type\":\"LinearAxis\"}],\"left\":[{\"id\":\"1016\",\"type\":\"LinearAxis\"}],\"renderers\":[{\"id\":\"1011\",\"type\":\"LinearAxis\"},{\"id\":\"1015\",\"type\":\"Grid\"},{\"id\":\"1016\",\"type\":\"LinearAxis\"},{\"id\":\"1020\",\"type\":\"Grid\"},{\"id\":\"1029\",\"type\":\"BoxAnnotation\"},{\"id\":\"1039\",\"type\":\"GlyphRenderer\"}],\"title\":{\"id\":\"1043\",\"type\":\"Title\"},\"toolbar\":{\"id\":\"1027\",\"type\":\"Toolbar\"},\"x_range\":{\"id\":\"1003\",\"type\":\"DataRange1d\"},\"x_scale\":{\"id\":\"1007\",\"type\":\"LinearScale\"},\"y_range\":{\"id\":\"1005\",\"type\":\"DataRange1d\"},\"y_scale\":{\"id\":\"1009\",\"type\":\"LinearScale\"}},\"id\":\"1002\",\"subtype\":\"Figure\",\"type\":\"Plot\"},{\"attributes\":{\"source\":{\"id\":\"1036\",\"type\":\"ColumnDataSource\"}},\"id\":\"1040\",\"type\":\"CDSView\"},{\"attributes\":{\"bottom_units\":\"screen\",\"fill_alpha\":{\"value\":0.5},\"fill_color\":{\"value\":\"lightgrey\"},\"left_units\":\"screen\",\"level\":\"overlay\",\"line_alpha\":{\"value\":1.0},\"line_color\":{\"value\":\"black\"},\"line_dash\":[4,4],\"line_width\":{\"value\":2},\"plot\":null,\"render_mode\":\"css\",\"right_units\":\"screen\",\"top_units\":\"screen\"},\"id\":\"1029\",\"type\":\"BoxAnnotation\"},{\"attributes\":{},\"id\":\"1009\",\"type\":\"LinearScale\"},{\"attributes\":{\"formatter\":{\"id\":\"1045\",\"type\":\"BasicTickFormatter\"},\"plot\":{\"id\":\"1002\",\"subtype\":\"Figure\",\"type\":\"Plot\"},\"ticker\":{\"id\":\"1012\",\"type\":\"BasicTicker\"}},\"id\":\"1011\",\"type\":\"LinearAxis\"},{\"attributes\":{},\"id\":\"1012\",\"type\":\"BasicTicker\"},{\"attributes\":{},\"id\":\"1050\",\"type\":\"Selection\"},{\"attributes\":{\"plot\":{\"id\":\"1002\",\"subtype\":\"Figure\",\"type\":\"Plot\"},\"ticker\":{\"id\":\"1012\",\"type\":\"BasicTicker\"}},\"id\":\"1015\",\"type\":\"Grid\"},{\"attributes\":{\"formatter\":{\"id\":\"1047\",\"type\":\"BasicTickFormatter\"},\"plot\":{\"id\":\"1002\",\"subtype\":\"Figure\",\"type\":\"Plot\"},\"ticker\":{\"id\":\"1017\",\"type\":\"BasicTicker\"}},\"id\":\"1016\",\"type\":\"LinearAxis\"},{\"attributes\":{\"callback\":null},\"id\":\"1005\",\"type\":\"DataRange1d\"},{\"attributes\":{},\"id\":\"1017\",\"type\":\"BasicTicker\"},{\"attributes\":{\"plot\":null,\"text\":\"\"},\"id\":\"1043\",\"type\":\"Title\"},{\"attributes\":{\"dimension\":1,\"plot\":{\"id\":\"1002\",\"subtype\":\"Figure\",\"type\":\"Plot\"},\"ticker\":{\"id\":\"1017\",\"type\":\"BasicTicker\"}},\"id\":\"1020\",\"type\":\"Grid\"},{\"attributes\":{},\"id\":\"1045\",\"type\":\"BasicTickFormatter\"},{\"attributes\":{},\"id\":\"1047\",\"type\":\"BasicTickFormatter\"},{\"attributes\":{},\"id\":\"1051\",\"type\":\"UnionRenderers\"},{\"attributes\":{},\"id\":\"1021\",\"type\":\"PanTool\"},{\"attributes\":{},\"id\":\"1022\",\"type\":\"WheelZoomTool\"},{\"attributes\":{\"overlay\":{\"id\":\"1029\",\"type\":\"BoxAnnotation\"}},\"id\":\"1023\",\"type\":\"BoxZoomTool\"},{\"attributes\":{},\"id\":\"1024\",\"type\":\"SaveTool\"},{\"attributes\":{\"callback\":null,\"data\":{\"x\":[1,2,3,4,5],\"y\":[6,7,2,4,5]},\"selected\":{\"id\":\"1050\",\"type\":\"Selection\"},\"selection_policy\":{\"id\":\"1051\",\"type\":\"UnionRenderers\"}},\"id\":\"1036\",\"type\":\"ColumnDataSource\"},{\"attributes\":{},\"id\":\"1025\",\"type\":\"ResetTool\"},{\"attributes\":{\"line_color\":\"#1f77b4\",\"line_width\":2,\"x\":{\"field\":\"x\"},\"y\":{\"field\":\"y\"}},\"id\":\"1037\",\"type\":\"Line\"},{\"attributes\":{},\"id\":\"1026\",\"type\":\"HelpTool\"},{\"attributes\":{\"callback\":null},\"id\":\"1003\",\"type\":\"DataRange1d\"},{\"attributes\":{\"line_alpha\":0.1,\"line_color\":\"#1f77b4\",\"line_width\":2,\"x\":{\"field\":\"x\"},\"y\":{\"field\":\"y\"}},\"id\":\"1038\",\"type\":\"Line\"},{\"attributes\":{\"active_drag\":\"auto\",\"active_inspect\":\"auto\",\"active_multi\":null,\"active_scroll\":\"auto\",\"active_tap\":\"auto\",\"tools\":[{\"id\":\"1021\",\"type\":\"PanTool\"},{\"id\":\"1022\",\"type\":\"WheelZoomTool\"},{\"id\":\"1023\",\"type\":\"BoxZoomTool\"},{\"id\":\"1024\",\"type\":\"SaveTool\"},{\"id\":\"1025\",\"type\":\"ResetTool\"},{\"id\":\"1026\",\"type\":\"HelpTool\"}]},\"id\":\"1027\",\"type\":\"Toolbar\"},{\"attributes\":{\"data_source\":{\"id\":\"1036\",\"type\":\"ColumnDataSource\"},\"glyph\":{\"id\":\"1037\",\"type\":\"Line\"},\"hover_glyph\":null,\"muted_glyph\":null,\"nonselection_glyph\":{\"id\":\"1038\",\"type\":\"Line\"},\"selection_glyph\":null,\"view\":{\"id\":\"1040\",\"type\":\"CDSView\"}},\"id\":\"1039\",\"type\":\"GlyphRenderer\"},{\"attributes\":{},\"id\":\"1007\",\"type\":\"LinearScale\"}],\"root_ids\":[\"1002\"]},\"title\":\"Bokeh Application\",\"version\":\"1.0.4\"}};\n",
       "  var render_items = [{\"docid\":\"6ea60bce-f047-4b19-846b-5988a7111030\",\"roots\":{\"1002\":\"d68f574a-c517-4c26-a17a-8991b9815f52\"}}];\n",
       "  root.Bokeh.embed.embed_items_notebook(docs_json, render_items);\n",
       "\n",
       "  }\n",
       "  if (root.Bokeh !== undefined) {\n",
       "    embed_document(root);\n",
       "  } else {\n",
       "    var attempts = 0;\n",
       "    var timer = setInterval(function(root) {\n",
       "      if (root.Bokeh !== undefined) {\n",
       "        embed_document(root);\n",
       "        clearInterval(timer);\n",
       "      }\n",
       "      attempts++;\n",
       "      if (attempts > 100) {\n",
       "        console.log(\"Bokeh: ERROR: Unable to run BokehJS code because BokehJS library is missing\");\n",
       "        clearInterval(timer);\n",
       "      }\n",
       "    }, 10, root)\n",
       "  }\n",
       "})(window);"
      ],
      "application/vnd.bokehjs_exec.v0+json": ""
     },
     "metadata": {
      "application/vnd.bokehjs_exec.v0+json": {
       "id": "1002"
      }
     },
     "output_type": "display_data"
    }
   ],
   "source": [
    "show(p)"
   ]
  },
  {
   "cell_type": "markdown",
   "metadata": {},
   "source": [
    "## Gráfico de Barras"
   ]
  },
  {
   "cell_type": "code",
   "execution_count": 8,
   "metadata": {},
   "outputs": [
    {
     "data": {
      "text/html": [
       "\n",
       "\n",
       "\n",
       "\n",
       "\n",
       "\n",
       "  <div class=\"bk-root\" id=\"9326fd44-c7ba-44eb-b31c-c3703ec887b7\" data-root-id=\"1172\"></div>\n"
      ]
     },
     "metadata": {},
     "output_type": "display_data"
    },
    {
     "data": {
      "application/javascript": [
       "(function(root) {\n",
       "  function embed_document(root) {\n",
       "    \n",
       "  var docs_json = {\"a6c091a2-4823-42ec-b612-e0e0864671fa\":{\"roots\":{\"references\":[{\"attributes\":{\"below\":[{\"id\":\"1182\",\"type\":\"CategoricalAxis\"}],\"left\":[{\"id\":\"1186\",\"type\":\"LinearAxis\"}],\"plot_height\":350,\"renderers\":[{\"id\":\"1182\",\"type\":\"CategoricalAxis\"},{\"id\":\"1185\",\"type\":\"Grid\"},{\"id\":\"1186\",\"type\":\"LinearAxis\"},{\"id\":\"1190\",\"type\":\"Grid\"},{\"id\":\"1199\",\"type\":\"BoxAnnotation\"},{\"id\":\"1218\",\"type\":\"Legend\"},{\"id\":\"1210\",\"type\":\"GlyphRenderer\"}],\"title\":{\"id\":\"1171\",\"type\":\"Title\"},\"toolbar\":{\"id\":\"1197\",\"type\":\"Toolbar\"},\"toolbar_location\":null,\"x_range\":{\"id\":\"1174\",\"type\":\"FactorRange\"},\"x_scale\":{\"id\":\"1178\",\"type\":\"CategoricalScale\"},\"y_range\":{\"id\":\"1176\",\"type\":\"DataRange1d\"},\"y_scale\":{\"id\":\"1180\",\"type\":\"LinearScale\"}},\"id\":\"1172\",\"subtype\":\"Figure\",\"type\":\"Plot\"},{\"attributes\":{\"label\":{\"field\":\"fruits\"},\"renderers\":[{\"id\":\"1210\",\"type\":\"GlyphRenderer\"}]},\"id\":\"1219\",\"type\":\"LegendItem\"},{\"attributes\":{\"formatter\":{\"id\":\"1215\",\"type\":\"BasicTickFormatter\"},\"plot\":{\"id\":\"1172\",\"subtype\":\"Figure\",\"type\":\"Plot\"},\"ticker\":{\"id\":\"1187\",\"type\":\"BasicTicker\"}},\"id\":\"1186\",\"type\":\"LinearAxis\"},{\"attributes\":{},\"id\":\"1235\",\"type\":\"Selection\"},{\"attributes\":{\"grid_line_color\":{\"value\":null},\"plot\":{\"id\":\"1172\",\"subtype\":\"Figure\",\"type\":\"Plot\"},\"ticker\":{\"id\":\"1183\",\"type\":\"CategoricalTicker\"}},\"id\":\"1185\",\"type\":\"Grid\"},{\"attributes\":{},\"id\":\"1191\",\"type\":\"PanTool\"},{\"attributes\":{},\"id\":\"1236\",\"type\":\"UnionRenderers\"},{\"attributes\":{\"fill_alpha\":{\"value\":0.1},\"fill_color\":{\"value\":\"#1f77b4\"},\"line_alpha\":{\"value\":0.1},\"line_color\":{\"value\":\"#1f77b4\"},\"top\":{\"field\":\"counts\"},\"width\":{\"value\":0.9},\"x\":{\"field\":\"fruits\"}},\"id\":\"1209\",\"type\":\"VBar\"},{\"attributes\":{\"bottom_units\":\"screen\",\"fill_alpha\":{\"value\":0.5},\"fill_color\":{\"value\":\"lightgrey\"},\"left_units\":\"screen\",\"level\":\"overlay\",\"line_alpha\":{\"value\":1.0},\"line_color\":{\"value\":\"black\"},\"line_dash\":[4,4],\"line_width\":{\"value\":2},\"plot\":null,\"render_mode\":\"css\",\"right_units\":\"screen\",\"top_units\":\"screen\"},\"id\":\"1199\",\"type\":\"BoxAnnotation\"},{\"attributes\":{\"factors\":[\"Ma\\u00e7as\",\"Peras\",\"Tangerinas\",\"Uvas\",\"Melancias\",\"Morangos\"],\"palette\":[\"#3288bd\",\"#99d594\",\"#e6f598\",\"#fee08b\",\"#fc8d59\",\"#d53e4f\"]},\"id\":\"1206\",\"type\":\"CategoricalColorMapper\"},{\"attributes\":{\"fill_color\":{\"field\":\"fruits\",\"transform\":{\"id\":\"1206\",\"type\":\"CategoricalColorMapper\"}},\"line_color\":{\"value\":\"white\"},\"top\":{\"field\":\"counts\"},\"width\":{\"value\":0.9},\"x\":{\"field\":\"fruits\"}},\"id\":\"1208\",\"type\":\"VBar\"},{\"attributes\":{\"callback\":null,\"data\":{\"counts\":[5,3,4,2,4,6],\"fruits\":[\"Ma\\u00e7as\",\"Peras\",\"Tangerinas\",\"Uvas\",\"Melancias\",\"Morangos\"]},\"selected\":{\"id\":\"1235\",\"type\":\"Selection\"},\"selection_policy\":{\"id\":\"1236\",\"type\":\"UnionRenderers\"}},\"id\":\"1170\",\"type\":\"ColumnDataSource\"},{\"attributes\":{\"items\":[{\"id\":\"1219\",\"type\":\"LegendItem\"}],\"location\":\"top_center\",\"orientation\":\"horizontal\",\"plot\":{\"id\":\"1172\",\"subtype\":\"Figure\",\"type\":\"Plot\"}},\"id\":\"1218\",\"type\":\"Legend\"},{\"attributes\":{},\"id\":\"1178\",\"type\":\"CategoricalScale\"},{\"attributes\":{\"overlay\":{\"id\":\"1199\",\"type\":\"BoxAnnotation\"}},\"id\":\"1193\",\"type\":\"BoxZoomTool\"},{\"attributes\":{},\"id\":\"1180\",\"type\":\"LinearScale\"},{\"attributes\":{\"formatter\":{\"id\":\"1213\",\"type\":\"CategoricalTickFormatter\"},\"plot\":{\"id\":\"1172\",\"subtype\":\"Figure\",\"type\":\"Plot\"},\"ticker\":{\"id\":\"1183\",\"type\":\"CategoricalTicker\"}},\"id\":\"1182\",\"type\":\"CategoricalAxis\"},{\"attributes\":{},\"id\":\"1215\",\"type\":\"BasicTickFormatter\"},{\"attributes\":{},\"id\":\"1194\",\"type\":\"SaveTool\"},{\"attributes\":{\"callback\":null,\"factors\":[\"Ma\\u00e7as\",\"Peras\",\"Tangerinas\",\"Uvas\",\"Melancias\",\"Morangos\"]},\"id\":\"1174\",\"type\":\"FactorRange\"},{\"attributes\":{\"callback\":null,\"end\":9,\"start\":0},\"id\":\"1176\",\"type\":\"DataRange1d\"},{\"attributes\":{\"plot\":null,\"text\":\"Contagem de Frutas\"},\"id\":\"1171\",\"type\":\"Title\"},{\"attributes\":{},\"id\":\"1213\",\"type\":\"CategoricalTickFormatter\"},{\"attributes\":{},\"id\":\"1183\",\"type\":\"CategoricalTicker\"},{\"attributes\":{},\"id\":\"1192\",\"type\":\"WheelZoomTool\"},{\"attributes\":{\"data_source\":{\"id\":\"1170\",\"type\":\"ColumnDataSource\"},\"glyph\":{\"id\":\"1208\",\"type\":\"VBar\"},\"hover_glyph\":null,\"muted_glyph\":null,\"nonselection_glyph\":{\"id\":\"1209\",\"type\":\"VBar\"},\"selection_glyph\":null,\"view\":{\"id\":\"1211\",\"type\":\"CDSView\"}},\"id\":\"1210\",\"type\":\"GlyphRenderer\"},{\"attributes\":{},\"id\":\"1195\",\"type\":\"ResetTool\"},{\"attributes\":{\"dimension\":1,\"plot\":{\"id\":\"1172\",\"subtype\":\"Figure\",\"type\":\"Plot\"},\"ticker\":{\"id\":\"1187\",\"type\":\"BasicTicker\"}},\"id\":\"1190\",\"type\":\"Grid\"},{\"attributes\":{},\"id\":\"1196\",\"type\":\"HelpTool\"},{\"attributes\":{},\"id\":\"1187\",\"type\":\"BasicTicker\"},{\"attributes\":{\"active_drag\":\"auto\",\"active_inspect\":\"auto\",\"active_multi\":null,\"active_scroll\":\"auto\",\"active_tap\":\"auto\",\"tools\":[{\"id\":\"1191\",\"type\":\"PanTool\"},{\"id\":\"1192\",\"type\":\"WheelZoomTool\"},{\"id\":\"1193\",\"type\":\"BoxZoomTool\"},{\"id\":\"1194\",\"type\":\"SaveTool\"},{\"id\":\"1195\",\"type\":\"ResetTool\"},{\"id\":\"1196\",\"type\":\"HelpTool\"}]},\"id\":\"1197\",\"type\":\"Toolbar\"},{\"attributes\":{\"source\":{\"id\":\"1170\",\"type\":\"ColumnDataSource\"}},\"id\":\"1211\",\"type\":\"CDSView\"}],\"root_ids\":[\"1172\"]},\"title\":\"Bokeh Application\",\"version\":\"1.0.4\"}};\n",
       "  var render_items = [{\"docid\":\"a6c091a2-4823-42ec-b612-e0e0864671fa\",\"roots\":{\"1172\":\"9326fd44-c7ba-44eb-b31c-c3703ec887b7\"}}];\n",
       "  root.Bokeh.embed.embed_items_notebook(docs_json, render_items);\n",
       "\n",
       "  }\n",
       "  if (root.Bokeh !== undefined) {\n",
       "    embed_document(root);\n",
       "  } else {\n",
       "    var attempts = 0;\n",
       "    var timer = setInterval(function(root) {\n",
       "      if (root.Bokeh !== undefined) {\n",
       "        embed_document(root);\n",
       "        clearInterval(timer);\n",
       "      }\n",
       "      attempts++;\n",
       "      if (attempts > 100) {\n",
       "        console.log(\"Bokeh: ERROR: Unable to run BokehJS code because BokehJS library is missing\");\n",
       "        clearInterval(timer);\n",
       "      }\n",
       "    }, 10, root)\n",
       "  }\n",
       "})(window);"
      ],
      "application/vnd.bokehjs_exec.v0+json": ""
     },
     "metadata": {
      "application/vnd.bokehjs_exec.v0+json": {
       "id": "1172"
      }
     },
     "output_type": "display_data"
    }
   ],
   "source": [
    "# Criando um novo gráfico\n",
    "output_file(\"Bokeh-Grafico-Barras.html\")\n",
    "\n",
    "fruits = ['Maças', 'Peras', 'Tangerinas', 'Uvas', 'Melancias', 'Morangos']\n",
    "counts = [5, 3, 4, 2, 4, 6]\n",
    "\n",
    "source = ColumnDataSource(data=dict(fruits=fruits, counts=counts))\n",
    "\n",
    "p = figure(x_range=fruits, plot_height=350, toolbar_location=None, title=\"Contagem de Frutas\")\n",
    "\n",
    "p.vbar(x='fruits', \n",
    "       top='counts', \n",
    "       width=0.9, \n",
    "       source=source, \n",
    "       legend=\"fruits\",\n",
    "       line_color='white', \n",
    "       fill_color=factor_cmap('fruits', palette=Spectral6, factors=fruits))\n",
    "\n",
    "p.xgrid.grid_line_color = None\n",
    "p.y_range.start = 0\n",
    "p.y_range.end = 9\n",
    "p.legend.orientation = \"horizontal\"\n",
    "p.legend.location = \"top_center\"\n",
    "\n",
    "show(p)"
   ]
  },
  {
   "cell_type": "markdown",
   "metadata": {},
   "source": [
    "## ScatterPlot"
   ]
  },
  {
   "cell_type": "code",
   "execution_count": 9,
   "metadata": {},
   "outputs": [
    {
     "data": {
      "text/html": [
       "\n",
       "\n",
       "\n",
       "\n",
       "\n",
       "\n",
       "  <div class=\"bk-root\" id=\"dd0c7a36-0627-4786-a715-208a3387fe5f\" data-root-id=\"1359\"></div>\n"
      ]
     },
     "metadata": {},
     "output_type": "display_data"
    },
    {
     "data": {
      "application/javascript": [
       "(function(root) {\n",
       "  function embed_document(root) {\n",
       "    \n",
       "  var docs_json = {\"7376fd39-e6ec-4856-beae-fdab0da8c41c\":{\"roots\":{\"references\":[{\"attributes\":{\"below\":[{\"id\":\"1369\",\"type\":\"LinearAxis\"}],\"left\":[{\"id\":\"1374\",\"type\":\"LinearAxis\"}],\"renderers\":[{\"id\":\"1369\",\"type\":\"LinearAxis\"},{\"id\":\"1373\",\"type\":\"Grid\"},{\"id\":\"1374\",\"type\":\"LinearAxis\"},{\"id\":\"1378\",\"type\":\"Grid\"},{\"id\":\"1387\",\"type\":\"BoxAnnotation\"},{\"id\":\"1397\",\"type\":\"GlyphRenderer\"}],\"title\":{\"id\":\"1358\",\"type\":\"Title\"},\"toolbar\":{\"id\":\"1385\",\"type\":\"Toolbar\"},\"x_range\":{\"id\":\"1361\",\"type\":\"DataRange1d\"},\"x_scale\":{\"id\":\"1365\",\"type\":\"LinearScale\"},\"y_range\":{\"id\":\"1363\",\"type\":\"DataRange1d\"},\"y_scale\":{\"id\":\"1367\",\"type\":\"LinearScale\"}},\"id\":\"1359\",\"subtype\":\"Figure\",\"type\":\"Plot\"},{\"attributes\":{},\"id\":\"1367\",\"type\":\"LinearScale\"},{\"attributes\":{\"data_source\":{\"id\":\"1394\",\"type\":\"ColumnDataSource\"},\"glyph\":{\"id\":\"1395\",\"type\":\"Circle\"},\"hover_glyph\":null,\"muted_glyph\":null,\"nonselection_glyph\":{\"id\":\"1396\",\"type\":\"Circle\"},\"selection_glyph\":null,\"view\":{\"id\":\"1398\",\"type\":\"CDSView\"}},\"id\":\"1397\",\"type\":\"GlyphRenderer\"},{\"attributes\":{\"axis_label\":\"Petal Length\",\"formatter\":{\"id\":\"1417\",\"type\":\"BasicTickFormatter\"},\"plot\":{\"id\":\"1359\",\"subtype\":\"Figure\",\"type\":\"Plot\"},\"ticker\":{\"id\":\"1370\",\"type\":\"BasicTicker\"}},\"id\":\"1369\",\"type\":\"LinearAxis\"},{\"attributes\":{\"source\":{\"id\":\"1394\",\"type\":\"ColumnDataSource\"}},\"id\":\"1398\",\"type\":\"CDSView\"},{\"attributes\":{\"plot\":null,\"text\":\"Iris Morphology\"},\"id\":\"1358\",\"type\":\"Title\"},{\"attributes\":{},\"id\":\"1370\",\"type\":\"BasicTicker\"},{\"attributes\":{},\"id\":\"1419\",\"type\":\"BasicTickFormatter\"},{\"attributes\":{},\"id\":\"1417\",\"type\":\"BasicTickFormatter\"},{\"attributes\":{\"plot\":{\"id\":\"1359\",\"subtype\":\"Figure\",\"type\":\"Plot\"},\"ticker\":{\"id\":\"1370\",\"type\":\"BasicTicker\"}},\"id\":\"1373\",\"type\":\"Grid\"},{\"attributes\":{},\"id\":\"1422\",\"type\":\"Selection\"},{\"attributes\":{\"axis_label\":\"Petal Width\",\"formatter\":{\"id\":\"1419\",\"type\":\"BasicTickFormatter\"},\"plot\":{\"id\":\"1359\",\"subtype\":\"Figure\",\"type\":\"Plot\"},\"ticker\":{\"id\":\"1375\",\"type\":\"BasicTicker\"}},\"id\":\"1374\",\"type\":\"LinearAxis\"},{\"attributes\":{},\"id\":\"1423\",\"type\":\"UnionRenderers\"},{\"attributes\":{},\"id\":\"1375\",\"type\":\"BasicTicker\"},{\"attributes\":{\"dimension\":1,\"plot\":{\"id\":\"1359\",\"subtype\":\"Figure\",\"type\":\"Plot\"},\"ticker\":{\"id\":\"1375\",\"type\":\"BasicTicker\"}},\"id\":\"1378\",\"type\":\"Grid\"},{\"attributes\":{\"fill_alpha\":{\"value\":0.2},\"fill_color\":{\"field\":\"fill_color\"},\"line_color\":{\"field\":\"line_color\"},\"size\":{\"units\":\"screen\",\"value\":10},\"x\":{\"field\":\"x\"},\"y\":{\"field\":\"y\"}},\"id\":\"1395\",\"type\":\"Circle\"},{\"attributes\":{\"callback\":null,\"data\":{\"fill_color\":[\"red\",\"red\",\"red\",\"red\",\"red\",\"red\",\"red\",\"red\",\"red\",\"red\",\"red\",\"red\",\"red\",\"red\",\"red\",\"red\",\"red\",\"red\",\"red\",\"red\",\"red\",\"red\",\"red\",\"red\",\"red\",\"red\",\"red\",\"red\",\"red\",\"red\",\"red\",\"red\",\"red\",\"red\",\"red\",\"red\",\"red\",\"red\",\"red\",\"red\",\"red\",\"red\",\"red\",\"red\",\"red\",\"red\",\"red\",\"red\",\"red\",\"red\",\"green\",\"green\",\"green\",\"green\",\"green\",\"green\",\"green\",\"green\",\"green\",\"green\",\"green\",\"green\",\"green\",\"green\",\"green\",\"green\",\"green\",\"green\",\"green\",\"green\",\"green\",\"green\",\"green\",\"green\",\"green\",\"green\",\"green\",\"green\",\"green\",\"green\",\"green\",\"green\",\"green\",\"green\",\"green\",\"green\",\"green\",\"green\",\"green\",\"green\",\"green\",\"green\",\"green\",\"green\",\"green\",\"green\",\"green\",\"green\",\"green\",\"green\",\"blue\",\"blue\",\"blue\",\"blue\",\"blue\",\"blue\",\"blue\",\"blue\",\"blue\",\"blue\",\"blue\",\"blue\",\"blue\",\"blue\",\"blue\",\"blue\",\"blue\",\"blue\",\"blue\",\"blue\",\"blue\",\"blue\",\"blue\",\"blue\",\"blue\",\"blue\",\"blue\",\"blue\",\"blue\",\"blue\",\"blue\",\"blue\",\"blue\",\"blue\",\"blue\",\"blue\",\"blue\",\"blue\",\"blue\",\"blue\",\"blue\",\"blue\",\"blue\",\"blue\",\"blue\",\"blue\",\"blue\",\"blue\",\"blue\",\"blue\"],\"line_color\":[\"red\",\"red\",\"red\",\"red\",\"red\",\"red\",\"red\",\"red\",\"red\",\"red\",\"red\",\"red\",\"red\",\"red\",\"red\",\"red\",\"red\",\"red\",\"red\",\"red\",\"red\",\"red\",\"red\",\"red\",\"red\",\"red\",\"red\",\"red\",\"red\",\"red\",\"red\",\"red\",\"red\",\"red\",\"red\",\"red\",\"red\",\"red\",\"red\",\"red\",\"red\",\"red\",\"red\",\"red\",\"red\",\"red\",\"red\",\"red\",\"red\",\"red\",\"green\",\"green\",\"green\",\"green\",\"green\",\"green\",\"green\",\"green\",\"green\",\"green\",\"green\",\"green\",\"green\",\"green\",\"green\",\"green\",\"green\",\"green\",\"green\",\"green\",\"green\",\"green\",\"green\",\"green\",\"green\",\"green\",\"green\",\"green\",\"green\",\"green\",\"green\",\"green\",\"green\",\"green\",\"green\",\"green\",\"green\",\"green\",\"green\",\"green\",\"green\",\"green\",\"green\",\"green\",\"green\",\"green\",\"green\",\"green\",\"green\",\"green\",\"blue\",\"blue\",\"blue\",\"blue\",\"blue\",\"blue\",\"blue\",\"blue\",\"blue\",\"blue\",\"blue\",\"blue\",\"blue\",\"blue\",\"blue\",\"blue\",\"blue\",\"blue\",\"blue\",\"blue\",\"blue\",\"blue\",\"blue\",\"blue\",\"blue\",\"blue\",\"blue\",\"blue\",\"blue\",\"blue\",\"blue\",\"blue\",\"blue\",\"blue\",\"blue\",\"blue\",\"blue\",\"blue\",\"blue\",\"blue\",\"blue\",\"blue\",\"blue\",\"blue\",\"blue\",\"blue\",\"blue\",\"blue\",\"blue\",\"blue\"],\"x\":{\"__ndarray__\":\"ZmZmZmZm9j9mZmZmZmb2P83MzMzMzPQ/AAAAAAAA+D9mZmZmZmb2PzMzMzMzM/s/ZmZmZmZm9j8AAAAAAAD4P2ZmZmZmZvY/AAAAAAAA+D8AAAAAAAD4P5qZmZmZmfk/ZmZmZmZm9j+amZmZmZnxPzMzMzMzM/M/AAAAAAAA+D/NzMzMzMz0P2ZmZmZmZvY/MzMzMzMz+z8AAAAAAAD4PzMzMzMzM/s/AAAAAAAA+D8AAAAAAADwPzMzMzMzM/s/ZmZmZmZm/j+amZmZmZn5P5qZmZmZmfk/AAAAAAAA+D9mZmZmZmb2P5qZmZmZmfk/mpmZmZmZ+T8AAAAAAAD4PwAAAAAAAPg/ZmZmZmZm9j8AAAAAAAD4PzMzMzMzM/M/zczMzMzM9D9mZmZmZmb2P83MzMzMzPQ/AAAAAAAA+D/NzMzMzMz0P83MzMzMzPQ/zczMzMzM9D+amZmZmZn5P2ZmZmZmZv4/ZmZmZmZm9j+amZmZmZn5P2ZmZmZmZvY/AAAAAAAA+D9mZmZmZmb2P83MzMzMzBJAAAAAAAAAEkCamZmZmZkTQAAAAAAAABBAZmZmZmZmEkAAAAAAAAASQM3MzMzMzBJAZmZmZmZmCkBmZmZmZmYSQDMzMzMzMw9AAAAAAAAADEDNzMzMzMwQQAAAAAAAABBAzczMzMzMEkDNzMzMzMwMQJqZmZmZmRFAAAAAAAAAEkBmZmZmZmYQQAAAAAAAABJAMzMzMzMzD0AzMzMzMzMTQAAAAAAAABBAmpmZmZmZE0DNzMzMzMwSQDMzMzMzMxFAmpmZmZmZEUAzMzMzMzMTQAAAAAAAABRAAAAAAAAAEkAAAAAAAAAMQGZmZmZmZg5AmpmZmZmZDUAzMzMzMzMPQGZmZmZmZhRAAAAAAAAAEkAAAAAAAAASQM3MzMzMzBJAmpmZmZmZEUBmZmZmZmYQQAAAAAAAABBAmpmZmZmZEUBmZmZmZmYSQAAAAAAAABBAZmZmZmZmCkDNzMzMzMwQQM3MzMzMzBBAzczMzMzMEEAzMzMzMzMRQAAAAAAAAAhAZmZmZmZmEEAAAAAAAAAYQGZmZmZmZhRAmpmZmZmZF0BmZmZmZmYWQDMzMzMzMxdAZmZmZmZmGkAAAAAAAAASQDMzMzMzMxlAMzMzMzMzF0BmZmZmZmYYQGZmZmZmZhRAMzMzMzMzFUAAAAAAAAAWQAAAAAAAABRAZmZmZmZmFEAzMzMzMzMVQAAAAAAAABZAzczMzMzMGkCamZmZmZkbQAAAAAAAABRAzczMzMzMFkCamZmZmZkTQM3MzMzMzBpAmpmZmZmZE0DNzMzMzMwWQAAAAAAAABhAMzMzMzMzE0CamZmZmZkTQGZmZmZmZhZAMzMzMzMzF0BmZmZmZmYYQJqZmZmZmRlAZmZmZmZmFkBmZmZmZmYUQGZmZmZmZhZAZmZmZmZmGEBmZmZmZmYWQAAAAAAAABZAMzMzMzMzE0CamZmZmZkVQGZmZmZmZhZAZmZmZmZmFEBmZmZmZmYUQJqZmZmZmRdAzczMzMzMFkDNzMzMzMwUQAAAAAAAABRAzczMzMzMFECamZmZmZkVQGZmZmZmZhRA\",\"dtype\":\"float64\",\"shape\":[150]},\"y\":{\"__ndarray__\":\"mpmZmZmZyT+amZmZmZnJP5qZmZmZmck/mpmZmZmZyT+amZmZmZnJP5qZmZmZmdk/MzMzMzMz0z+amZmZmZnJP5qZmZmZmck/mpmZmZmZuT+amZmZmZnJP5qZmZmZmck/mpmZmZmZuT+amZmZmZm5P5qZmZmZmck/mpmZmZmZ2T+amZmZmZnZPzMzMzMzM9M/MzMzMzMz0z8zMzMzMzPTP5qZmZmZmck/mpmZmZmZ2T+amZmZmZnJPwAAAAAAAOA/mpmZmZmZyT+amZmZmZnJP5qZmZmZmdk/mpmZmZmZyT+amZmZmZnJP5qZmZmZmck/mpmZmZmZyT+amZmZmZnZP5qZmZmZmbk/mpmZmZmZyT+amZmZmZnJP5qZmZmZmck/mpmZmZmZyT+amZmZmZm5P5qZmZmZmck/mpmZmZmZyT8zMzMzMzPTPzMzMzMzM9M/mpmZmZmZyT8zMzMzMzPjP5qZmZmZmdk/MzMzMzMz0z+amZmZmZnJP5qZmZmZmck/mpmZmZmZyT+amZmZmZnJP2ZmZmZmZvY/AAAAAAAA+D8AAAAAAAD4P83MzMzMzPQ/AAAAAAAA+D/NzMzMzMz0P5qZmZmZmfk/AAAAAAAA8D/NzMzMzMz0P2ZmZmZmZvY/AAAAAAAA8D8AAAAAAAD4PwAAAAAAAPA/ZmZmZmZm9j/NzMzMzMz0P2ZmZmZmZvY/AAAAAAAA+D8AAAAAAADwPwAAAAAAAPg/mpmZmZmZ8T/NzMzMzMz8P83MzMzMzPQ/AAAAAAAA+D8zMzMzMzPzP83MzMzMzPQ/ZmZmZmZm9j9mZmZmZmb2PzMzMzMzM/s/AAAAAAAA+D8AAAAAAADwP5qZmZmZmfE/AAAAAAAA8D8zMzMzMzPzP5qZmZmZmfk/AAAAAAAA+D+amZmZmZn5PwAAAAAAAPg/zczMzMzM9D/NzMzMzMz0P83MzMzMzPQ/MzMzMzMz8z9mZmZmZmb2PzMzMzMzM/M/AAAAAAAA8D/NzMzMzMz0PzMzMzMzM/M/zczMzMzM9D/NzMzMzMz0P5qZmZmZmfE/zczMzMzM9D8AAAAAAAAEQGZmZmZmZv4/zczMzMzMAEDNzMzMzMz8P5qZmZmZmQFAzczMzMzMAEAzMzMzMzP7P83MzMzMzPw/zczMzMzM/D8AAAAAAAAEQAAAAAAAAABAZmZmZmZm/j/NzMzMzMwAQAAAAAAAAABAMzMzMzMzA0BmZmZmZmYCQM3MzMzMzPw/mpmZmZmZAUBmZmZmZmYCQAAAAAAAAPg/ZmZmZmZmAkAAAAAAAAAAQAAAAAAAAABAzczMzMzM/D/NzMzMzMwAQM3MzMzMzPw/zczMzMzM/D/NzMzMzMz8P83MzMzMzABAmpmZmZmZ+T9mZmZmZmb+PwAAAAAAAABAmpmZmZmZAUAAAAAAAAD4P2ZmZmZmZvY/ZmZmZmZmAkAzMzMzMzMDQM3MzMzMzPw/zczMzMzM/D/NzMzMzMwAQDMzMzMzMwNAZmZmZmZmAkBmZmZmZmb+P2ZmZmZmZgJAAAAAAAAABEBmZmZmZmYCQGZmZmZmZv4/AAAAAAAAAEBmZmZmZmYCQM3MzMzMzPw/\",\"dtype\":\"float64\",\"shape\":[150]}},\"selected\":{\"id\":\"1422\",\"type\":\"Selection\"},\"selection_policy\":{\"id\":\"1423\",\"type\":\"UnionRenderers\"}},\"id\":\"1394\",\"type\":\"ColumnDataSource\"},{\"attributes\":{\"callback\":null},\"id\":\"1361\",\"type\":\"DataRange1d\"},{\"attributes\":{},\"id\":\"1379\",\"type\":\"PanTool\"},{\"attributes\":{},\"id\":\"1380\",\"type\":\"WheelZoomTool\"},{\"attributes\":{\"overlay\":{\"id\":\"1387\",\"type\":\"BoxAnnotation\"}},\"id\":\"1381\",\"type\":\"BoxZoomTool\"},{\"attributes\":{},\"id\":\"1382\",\"type\":\"SaveTool\"},{\"attributes\":{},\"id\":\"1383\",\"type\":\"ResetTool\"},{\"attributes\":{},\"id\":\"1384\",\"type\":\"HelpTool\"},{\"attributes\":{\"callback\":null},\"id\":\"1363\",\"type\":\"DataRange1d\"},{\"attributes\":{},\"id\":\"1365\",\"type\":\"LinearScale\"},{\"attributes\":{\"active_drag\":\"auto\",\"active_inspect\":\"auto\",\"active_multi\":null,\"active_scroll\":\"auto\",\"active_tap\":\"auto\",\"tools\":[{\"id\":\"1379\",\"type\":\"PanTool\"},{\"id\":\"1380\",\"type\":\"WheelZoomTool\"},{\"id\":\"1381\",\"type\":\"BoxZoomTool\"},{\"id\":\"1382\",\"type\":\"SaveTool\"},{\"id\":\"1383\",\"type\":\"ResetTool\"},{\"id\":\"1384\",\"type\":\"HelpTool\"}]},\"id\":\"1385\",\"type\":\"Toolbar\"},{\"attributes\":{\"fill_alpha\":{\"value\":0.1},\"fill_color\":{\"value\":\"#1f77b4\"},\"line_alpha\":{\"value\":0.1},\"line_color\":{\"value\":\"#1f77b4\"},\"size\":{\"units\":\"screen\",\"value\":10},\"x\":{\"field\":\"x\"},\"y\":{\"field\":\"y\"}},\"id\":\"1396\",\"type\":\"Circle\"},{\"attributes\":{\"bottom_units\":\"screen\",\"fill_alpha\":{\"value\":0.5},\"fill_color\":{\"value\":\"lightgrey\"},\"left_units\":\"screen\",\"level\":\"overlay\",\"line_alpha\":{\"value\":1.0},\"line_color\":{\"value\":\"black\"},\"line_dash\":[4,4],\"line_width\":{\"value\":2},\"plot\":null,\"render_mode\":\"css\",\"right_units\":\"screen\",\"top_units\":\"screen\"},\"id\":\"1387\",\"type\":\"BoxAnnotation\"}],\"root_ids\":[\"1359\"]},\"title\":\"Bokeh Application\",\"version\":\"1.0.4\"}};\n",
       "  var render_items = [{\"docid\":\"7376fd39-e6ec-4856-beae-fdab0da8c41c\",\"roots\":{\"1359\":\"dd0c7a36-0627-4786-a715-208a3387fe5f\"}}];\n",
       "  root.Bokeh.embed.embed_items_notebook(docs_json, render_items);\n",
       "\n",
       "  }\n",
       "  if (root.Bokeh !== undefined) {\n",
       "    embed_document(root);\n",
       "  } else {\n",
       "    var attempts = 0;\n",
       "    var timer = setInterval(function(root) {\n",
       "      if (root.Bokeh !== undefined) {\n",
       "        embed_document(root);\n",
       "        clearInterval(timer);\n",
       "      }\n",
       "      attempts++;\n",
       "      if (attempts > 100) {\n",
       "        console.log(\"Bokeh: ERROR: Unable to run BokehJS code because BokehJS library is missing\");\n",
       "        clearInterval(timer);\n",
       "      }\n",
       "    }, 10, root)\n",
       "  }\n",
       "})(window);"
      ],
      "application/vnd.bokehjs_exec.v0+json": ""
     },
     "metadata": {
      "application/vnd.bokehjs_exec.v0+json": {
       "id": "1359"
      }
     },
     "output_type": "display_data"
    }
   ],
   "source": [
    "# Construindo um ScatterPlot\n",
    "from bokeh.plotting import figure, show, output_file\n",
    "from bokeh.sampledata.iris import flowers\n",
    "\n",
    "colormap = {'setosa': 'red', 'versicolor': 'green', 'virginica': 'blue'}\n",
    "colors = [colormap[x] for x in flowers['species']]\n",
    "\n",
    "p = figure(title = \"Iris Morphology\")\n",
    "p.xaxis.axis_label = 'Petal Length'\n",
    "p.yaxis.axis_label = 'Petal Width'\n",
    "\n",
    "p.circle(flowers[\"petal_length\"], flowers[\"petal_width\"], color=colors, fill_alpha=0.2, size=10)\n",
    "\n",
    "output_file(\"Bokeh_grafico_Iris.html\", title=\"iris.py example\")\n",
    "\n",
    "show(p)"
   ]
  },
  {
   "cell_type": "markdown",
   "metadata": {
    "collapsed": true
   },
   "source": [
    "## Gráfico de Círculos"
   ]
  },
  {
   "cell_type": "code",
   "execution_count": 10,
   "metadata": {},
   "outputs": [
    {
     "data": {
      "text/html": [
       "\n",
       "\n",
       "\n",
       "\n",
       "\n",
       "\n",
       "  <div class=\"bk-root\" id=\"43f5da56-2680-42d6-b017-351129562446\" data-root-id=\"1545\"></div>\n"
      ]
     },
     "metadata": {},
     "output_type": "display_data"
    },
    {
     "data": {
      "application/javascript": [
       "(function(root) {\n",
       "  function embed_document(root) {\n",
       "    \n",
       "  var docs_json = {\"097b3ed2-d64c-49f4-ac40-54b46e66d1da\":{\"roots\":{\"references\":[{\"attributes\":{\"below\":[{\"id\":\"1554\",\"type\":\"LinearAxis\"}],\"left\":[{\"id\":\"1559\",\"type\":\"LinearAxis\"}],\"plot_height\":400,\"plot_width\":400,\"renderers\":[{\"id\":\"1554\",\"type\":\"LinearAxis\"},{\"id\":\"1558\",\"type\":\"Grid\"},{\"id\":\"1559\",\"type\":\"LinearAxis\"},{\"id\":\"1563\",\"type\":\"Grid\"},{\"id\":\"1572\",\"type\":\"BoxAnnotation\"},{\"id\":\"1582\",\"type\":\"GlyphRenderer\"}],\"title\":{\"id\":\"1609\",\"type\":\"Title\"},\"toolbar\":{\"id\":\"1570\",\"type\":\"Toolbar\"},\"x_range\":{\"id\":\"1546\",\"type\":\"DataRange1d\"},\"x_scale\":{\"id\":\"1550\",\"type\":\"LinearScale\"},\"y_range\":{\"id\":\"1548\",\"type\":\"DataRange1d\"},\"y_scale\":{\"id\":\"1552\",\"type\":\"LinearScale\"}},\"id\":\"1545\",\"subtype\":\"Figure\",\"type\":\"Plot\"},{\"attributes\":{\"bottom_units\":\"screen\",\"fill_alpha\":{\"value\":0.5},\"fill_color\":{\"value\":\"lightgrey\"},\"left_units\":\"screen\",\"level\":\"overlay\",\"line_alpha\":{\"value\":1.0},\"line_color\":{\"value\":\"black\"},\"line_dash\":[4,4],\"line_width\":{\"value\":2},\"plot\":null,\"render_mode\":\"css\",\"right_units\":\"screen\",\"top_units\":\"screen\"},\"id\":\"1572\",\"type\":\"BoxAnnotation\"},{\"attributes\":{\"callback\":null,\"data\":{\"x\":[1,2,3,4,5],\"y\":[6,7,2,4,5]},\"selected\":{\"id\":\"1616\",\"type\":\"Selection\"},\"selection_policy\":{\"id\":\"1617\",\"type\":\"UnionRenderers\"}},\"id\":\"1579\",\"type\":\"ColumnDataSource\"},{\"attributes\":{\"callback\":null},\"id\":\"1548\",\"type\":\"DataRange1d\"},{\"attributes\":{\"source\":{\"id\":\"1579\",\"type\":\"ColumnDataSource\"}},\"id\":\"1583\",\"type\":\"CDSView\"},{\"attributes\":{},\"id\":\"1552\",\"type\":\"LinearScale\"},{\"attributes\":{},\"id\":\"1613\",\"type\":\"BasicTickFormatter\"},{\"attributes\":{\"callback\":null},\"id\":\"1546\",\"type\":\"DataRange1d\"},{\"attributes\":{\"plot\":null,\"text\":\"\"},\"id\":\"1609\",\"type\":\"Title\"},{\"attributes\":{},\"id\":\"1550\",\"type\":\"LinearScale\"},{\"attributes\":{},\"id\":\"1611\",\"type\":\"BasicTickFormatter\"},{\"attributes\":{},\"id\":\"1616\",\"type\":\"Selection\"},{\"attributes\":{\"data_source\":{\"id\":\"1579\",\"type\":\"ColumnDataSource\"},\"glyph\":{\"id\":\"1580\",\"type\":\"Circle\"},\"hover_glyph\":null,\"muted_glyph\":null,\"nonselection_glyph\":{\"id\":\"1581\",\"type\":\"Circle\"},\"selection_glyph\":null,\"view\":{\"id\":\"1583\",\"type\":\"CDSView\"}},\"id\":\"1582\",\"type\":\"GlyphRenderer\"},{\"attributes\":{\"active_drag\":\"auto\",\"active_inspect\":\"auto\",\"active_multi\":null,\"active_scroll\":\"auto\",\"active_tap\":\"auto\",\"tools\":[{\"id\":\"1564\",\"type\":\"PanTool\"},{\"id\":\"1565\",\"type\":\"WheelZoomTool\"},{\"id\":\"1566\",\"type\":\"BoxZoomTool\"},{\"id\":\"1567\",\"type\":\"SaveTool\"},{\"id\":\"1568\",\"type\":\"ResetTool\"},{\"id\":\"1569\",\"type\":\"HelpTool\"}]},\"id\":\"1570\",\"type\":\"Toolbar\"},{\"attributes\":{},\"id\":\"1569\",\"type\":\"HelpTool\"},{\"attributes\":{\"dimension\":1,\"plot\":{\"id\":\"1545\",\"subtype\":\"Figure\",\"type\":\"Plot\"},\"ticker\":{\"id\":\"1560\",\"type\":\"BasicTicker\"}},\"id\":\"1563\",\"type\":\"Grid\"},{\"attributes\":{},\"id\":\"1568\",\"type\":\"ResetTool\"},{\"attributes\":{},\"id\":\"1617\",\"type\":\"UnionRenderers\"},{\"attributes\":{\"plot\":{\"id\":\"1545\",\"subtype\":\"Figure\",\"type\":\"Plot\"},\"ticker\":{\"id\":\"1555\",\"type\":\"BasicTicker\"}},\"id\":\"1558\",\"type\":\"Grid\"},{\"attributes\":{},\"id\":\"1567\",\"type\":\"SaveTool\"},{\"attributes\":{},\"id\":\"1560\",\"type\":\"BasicTicker\"},{\"attributes\":{\"formatter\":{\"id\":\"1613\",\"type\":\"BasicTickFormatter\"},\"plot\":{\"id\":\"1545\",\"subtype\":\"Figure\",\"type\":\"Plot\"},\"ticker\":{\"id\":\"1560\",\"type\":\"BasicTicker\"}},\"id\":\"1559\",\"type\":\"LinearAxis\"},{\"attributes\":{},\"id\":\"1565\",\"type\":\"WheelZoomTool\"},{\"attributes\":{},\"id\":\"1564\",\"type\":\"PanTool\"},{\"attributes\":{\"overlay\":{\"id\":\"1572\",\"type\":\"BoxAnnotation\"}},\"id\":\"1566\",\"type\":\"BoxZoomTool\"},{\"attributes\":{},\"id\":\"1555\",\"type\":\"BasicTicker\"},{\"attributes\":{\"fill_alpha\":{\"value\":0.5},\"fill_color\":{\"value\":\"navy\"},\"line_alpha\":{\"value\":0.5},\"line_color\":{\"value\":\"navy\"},\"size\":{\"units\":\"screen\",\"value\":20},\"x\":{\"field\":\"x\"},\"y\":{\"field\":\"y\"}},\"id\":\"1580\",\"type\":\"Circle\"},{\"attributes\":{\"fill_alpha\":{\"value\":0.1},\"fill_color\":{\"value\":\"#1f77b4\"},\"line_alpha\":{\"value\":0.1},\"line_color\":{\"value\":\"#1f77b4\"},\"size\":{\"units\":\"screen\",\"value\":20},\"x\":{\"field\":\"x\"},\"y\":{\"field\":\"y\"}},\"id\":\"1581\",\"type\":\"Circle\"},{\"attributes\":{\"formatter\":{\"id\":\"1611\",\"type\":\"BasicTickFormatter\"},\"plot\":{\"id\":\"1545\",\"subtype\":\"Figure\",\"type\":\"Plot\"},\"ticker\":{\"id\":\"1555\",\"type\":\"BasicTicker\"}},\"id\":\"1554\",\"type\":\"LinearAxis\"}],\"root_ids\":[\"1545\"]},\"title\":\"Bokeh Application\",\"version\":\"1.0.4\"}};\n",
       "  var render_items = [{\"docid\":\"097b3ed2-d64c-49f4-ac40-54b46e66d1da\",\"roots\":{\"1545\":\"43f5da56-2680-42d6-b017-351129562446\"}}];\n",
       "  root.Bokeh.embed.embed_items_notebook(docs_json, render_items);\n",
       "\n",
       "  }\n",
       "  if (root.Bokeh !== undefined) {\n",
       "    embed_document(root);\n",
       "  } else {\n",
       "    var attempts = 0;\n",
       "    var timer = setInterval(function(root) {\n",
       "      if (root.Bokeh !== undefined) {\n",
       "        embed_document(root);\n",
       "        clearInterval(timer);\n",
       "      }\n",
       "      attempts++;\n",
       "      if (attempts > 100) {\n",
       "        console.log(\"Bokeh: ERROR: Unable to run BokehJS code because BokehJS library is missing\");\n",
       "        clearInterval(timer);\n",
       "      }\n",
       "    }, 10, root)\n",
       "  }\n",
       "})(window);"
      ],
      "application/vnd.bokehjs_exec.v0+json": ""
     },
     "metadata": {
      "application/vnd.bokehjs_exec.v0+json": {
       "id": "1545"
      }
     },
     "output_type": "display_data"
    }
   ],
   "source": [
    "from bokeh.plotting import figure, output_file, show\n",
    "\n",
    "# Outuput\n",
    "output_file(\"Bokeh-Grafico-Circulos.html\")\n",
    "\n",
    "p = figure(plot_width = 400, plot_height = 400)\n",
    "\n",
    "# Adicionando círculos ao gráfico\n",
    "p.circle([1, 2, 3, 4, 5], [6, 7, 2, 4, 5], size = 20, color = \"navy\", alpha = 0.5)\n",
    "\n",
    "# Mostrando o resultado\n",
    "show(p)"
   ]
  },
  {
   "cell_type": "markdown",
   "metadata": {},
   "source": [
    "## Gráfico com Dados Geofísicos"
   ]
  },
  {
   "cell_type": "code",
   "execution_count": 11,
   "metadata": {},
   "outputs": [
    {
     "data": {
      "text/html": [
       "\n",
       "\n",
       "\n",
       "\n",
       "\n",
       "\n",
       "  <div class=\"bk-root\" id=\"c7d2eb40-47bf-4991-9450-e91be25f1120\" data-root-id=\"1755\"></div>\n"
      ]
     },
     "metadata": {},
     "output_type": "display_data"
    },
    {
     "data": {
      "application/javascript": [
       "(function(root) {\n",
       "  function embed_document(root) {\n",
       "    \n",
       "  var docs_json = {\"85dac3ab-d268-4b01-b70b-980c8ce76797\":{\"roots\":{\"references\":[{\"attributes\":{\"below\":[{\"id\":\"1764\",\"type\":\"LinearAxis\"}],\"left\":[{\"id\":\"1769\",\"type\":\"LinearAxis\"}],\"renderers\":[{\"id\":\"1764\",\"type\":\"LinearAxis\"},{\"id\":\"1768\",\"type\":\"Grid\"},{\"id\":\"1769\",\"type\":\"LinearAxis\"},{\"id\":\"1773\",\"type\":\"Grid\"},{\"id\":\"1782\",\"type\":\"BoxAnnotation\"},{\"id\":\"1792\",\"type\":\"GlyphRenderer\"}],\"title\":{\"id\":\"1828\",\"type\":\"Title\"},\"toolbar\":{\"id\":\"1780\",\"type\":\"Toolbar\"},\"x_range\":{\"id\":\"1756\",\"type\":\"DataRange1d\"},\"x_scale\":{\"id\":\"1760\",\"type\":\"LinearScale\"},\"y_range\":{\"id\":\"1758\",\"type\":\"DataRange1d\"},\"y_scale\":{\"id\":\"1762\",\"type\":\"LinearScale\"}},\"id\":\"1755\",\"subtype\":\"Figure\",\"type\":\"Plot\"},{\"attributes\":{\"overlay\":{\"id\":\"1782\",\"type\":\"BoxAnnotation\"}},\"id\":\"1776\",\"type\":\"BoxZoomTool\"},{\"attributes\":{\"formatter\":{\"id\":\"1830\",\"type\":\"BasicTickFormatter\"},\"plot\":{\"id\":\"1755\",\"subtype\":\"Figure\",\"type\":\"Plot\"},\"ticker\":{\"id\":\"1765\",\"type\":\"BasicTicker\"}},\"id\":\"1764\",\"type\":\"LinearAxis\"},{\"attributes\":{},\"id\":\"1777\",\"type\":\"SaveTool\"},{\"attributes\":{},\"id\":\"1836\",\"type\":\"UnionRenderers\"},{\"attributes\":{},\"id\":\"1835\",\"type\":\"Selection\"},{\"attributes\":{},\"id\":\"1778\",\"type\":\"ResetTool\"},{\"attributes\":{\"callback\":null},\"id\":\"1756\",\"type\":\"DataRange1d\"},{\"attributes\":{\"source\":{\"id\":\"1754\",\"type\":\"GeoJSONDataSource\"}},\"id\":\"1793\",\"type\":\"CDSView\"},{\"attributes\":{},\"id\":\"1760\",\"type\":\"LinearScale\"},{\"attributes\":{\"dimension\":1,\"plot\":{\"id\":\"1755\",\"subtype\":\"Figure\",\"type\":\"Plot\"},\"ticker\":{\"id\":\"1770\",\"type\":\"BasicTicker\"}},\"id\":\"1773\",\"type\":\"Grid\"},{\"attributes\":{},\"id\":\"1830\",\"type\":\"BasicTickFormatter\"},{\"attributes\":{\"fill_alpha\":{\"value\":0.1},\"fill_color\":{\"value\":\"#1f77b4\"},\"line_alpha\":{\"value\":0.1},\"line_color\":{\"value\":\"#1f77b4\"},\"x\":{\"field\":\"x\"},\"y\":{\"field\":\"y\"}},\"id\":\"1791\",\"type\":\"Circle\"},{\"attributes\":{\"bottom_units\":\"screen\",\"fill_alpha\":{\"value\":0.5},\"fill_color\":{\"value\":\"lightgrey\"},\"left_units\":\"screen\",\"level\":\"overlay\",\"line_alpha\":{\"value\":1.0},\"line_color\":{\"value\":\"black\"},\"line_dash\":[4,4],\"line_width\":{\"value\":2},\"plot\":null,\"render_mode\":\"css\",\"right_units\":\"screen\",\"top_units\":\"screen\"},\"id\":\"1782\",\"type\":\"BoxAnnotation\"},{\"attributes\":{},\"id\":\"1775\",\"type\":\"WheelZoomTool\"},{\"attributes\":{\"data_source\":{\"id\":\"1754\",\"type\":\"GeoJSONDataSource\"},\"glyph\":{\"id\":\"1790\",\"type\":\"Circle\"},\"hover_glyph\":null,\"muted_glyph\":null,\"nonselection_glyph\":{\"id\":\"1791\",\"type\":\"Circle\"},\"selection_glyph\":null,\"view\":{\"id\":\"1793\",\"type\":\"CDSView\"}},\"id\":\"1792\",\"type\":\"GlyphRenderer\"},{\"attributes\":{},\"id\":\"1779\",\"type\":\"HelpTool\"},{\"attributes\":{\"formatter\":{\"id\":\"1832\",\"type\":\"BasicTickFormatter\"},\"plot\":{\"id\":\"1755\",\"subtype\":\"Figure\",\"type\":\"Plot\"},\"ticker\":{\"id\":\"1770\",\"type\":\"BasicTicker\"}},\"id\":\"1769\",\"type\":\"LinearAxis\"},{\"attributes\":{\"active_drag\":\"auto\",\"active_inspect\":\"auto\",\"active_multi\":null,\"active_scroll\":\"auto\",\"active_tap\":\"auto\",\"tools\":[{\"id\":\"1774\",\"type\":\"PanTool\"},{\"id\":\"1775\",\"type\":\"WheelZoomTool\"},{\"id\":\"1776\",\"type\":\"BoxZoomTool\"},{\"id\":\"1777\",\"type\":\"SaveTool\"},{\"id\":\"1778\",\"type\":\"ResetTool\"},{\"id\":\"1779\",\"type\":\"HelpTool\"}]},\"id\":\"1780\",\"type\":\"Toolbar\"},{\"attributes\":{\"plot\":null,\"text\":\"\"},\"id\":\"1828\",\"type\":\"Title\"},{\"attributes\":{},\"id\":\"1762\",\"type\":\"LinearScale\"},{\"attributes\":{},\"id\":\"1832\",\"type\":\"BasicTickFormatter\"},{\"attributes\":{\"callback\":null,\"geojson\":\"{\\\"type\\\":\\\"FeatureCollection\\\",\\\"features\\\":[{\\\"type\\\":\\\"Feature\\\",\\\"id\\\":\\\"463098\\\",\\\"geometry\\\":{\\\"type\\\":\\\"Point\\\",\\\"coordinates\\\":[-2.1208465099334717,51.4613151550293]},\\\"properties\\\":{\\\"OrganisationCode\\\":\\\"Q64\\\",\\\"OrganisationType\\\":\\\"Area Team\\\",\\\"SubType\\\":\\\"UNKNOWN\\\",\\\"OrganisationStatus\\\":\\\"Visible\\\",\\\"IsPimsManaged\\\":\\\"True\\\",\\\"OrganisationName\\\":\\\"Bath, Gloucestershire, Swindon And Wiltshire Area Team\\\",\\\"Address1\\\":\\\"1st Floor\\\",\\\"Address2\\\":\\\"Bewley House\\\",\\\"Address3\\\":\\\"Marshfield Road\\\",\\\"City\\\":\\\"Chippenham\\\",\\\"County\\\":\\\"Wiltshire\\\",\\\"Postcode\\\":\\\"SN15 1JW\\\",\\\"Phone\\\":\\\"0113 8251 500\\\",\\\"Email\\\":\\\"england.contactus@nhs.net\\\",\\\"Website\\\":\\\"http://www.england.nhs.uk/south/south/bgsw-at/\\\"}},{\\\"type\\\":\\\"Feature\\\",\\\"id\\\":\\\"463099\\\",\\\"geometry\\\":{\\\"type\\\":\\\"Point\\\",\\\"coordinates\\\":[-2.5929524898529053,51.459877014160156]},\\\"properties\\\":{\\\"OrganisationCode\\\":\\\"Q65\\\",\\\"OrganisationType\\\":\\\"Area Team\\\",\\\"SubType\\\":\\\"UNKNOWN\\\",\\\"OrganisationStatus\\\":\\\"Visible\\\",\\\"IsPimsManaged\\\":\\\"True\\\",\\\"OrganisationName\\\":\\\"Bristol, North Somerset, Somerset And South Gloucestershire Area Team\\\",\\\"Address1\\\":\\\"South Plaza\\\",\\\"Address3\\\":\\\"Marlborough Street\\\",\\\"City\\\":\\\"Bristol\\\",\\\"County\\\":\\\"Somerset\\\",\\\"Postcode\\\":\\\"BS1 3NX\\\",\\\"Phone\\\":\\\"0117 976 6600\\\",\\\"Email\\\":\\\"england.contactus@nhs.net\\\",\\\"Website\\\":\\\"http://www.england.nhs.uk/south/south/bnsssg-at/\\\"}},{\\\"type\\\":\\\"Feature\\\",\\\"id\\\":\\\"463100\\\",\\\"geometry\\\":{\\\"type\\\":\\\"Point\\\",\\\"coordinates\\\":[-4.232546806335449,50.42112731933594]},\\\"properties\\\":{\\\"OrganisationCode\\\":\\\"Q66\\\",\\\"OrganisationType\\\":\\\"Area Team\\\",\\\"SubType\\\":\\\"UNKNOWN\\\",\\\"OrganisationStatus\\\":\\\"Visible\\\",\\\"IsPimsManaged\\\":\\\"True\\\",\\\"OrganisationName\\\":\\\"Devon, Cornwall And Isles Of Scilly Area Team\\\",\\\"Address1\\\":\\\"Peninsula House\\\",\\\"Address2\\\":\\\"Kingsmill Road\\\",\\\"Address3\\\":\\\"Tamar View Industrial Estate\\\",\\\"City\\\":\\\"Cornwall\\\",\\\"County\\\":\\\"Cornwall\\\",\\\"Postcode\\\":\\\"PL12 6LE\\\",\\\"Phone\\\":\\\"01752 679250\\\",\\\"Email\\\":\\\"england.contactus@nhs.net\\\",\\\"Website\\\":\\\"http://www.england.nhs.uk/south/south/dcis-at/\\\"}},{\\\"type\\\":\\\"Feature\\\",\\\"id\\\":\\\"463101\\\",\\\"geometry\\\":{\\\"type\\\":\\\"Point\\\",\\\"coordinates\\\":[0.27698493003845215,51.193748474121094]},\\\"properties\\\":{\\\"OrganisationCode\\\":\\\"Q67\\\",\\\"OrganisationType\\\":\\\"Area Team\\\",\\\"SubType\\\":\\\"UNKNOWN\\\",\\\"OrganisationStatus\\\":\\\"Visible\\\",\\\"IsPimsManaged\\\":\\\"True\\\",\\\"OrganisationName\\\":\\\"Kent And Medway Area Team\\\",\\\"Address1\\\":\\\"Wharf House\\\",\\\"Address2\\\":\\\"Medway Wharf Road\\\",\\\"City\\\":\\\"Tonbridge\\\",\\\"County\\\":\\\"Kent\\\",\\\"Postcode\\\":\\\"TN9 1RE\\\",\\\"Phone\\\":\\\"01732 375200\\\",\\\"Email\\\":\\\"england.kentandmedwaybusinessoffice@nhs.net\\\",\\\"Website\\\":\\\"http://www.england.nhs.uk/south/south/km-at/\\\"}},{\\\"type\\\":\\\"Feature\\\",\\\"id\\\":\\\"463102\\\",\\\"geometry\\\":{\\\"type\\\":\\\"Point\\\",\\\"coordinates\\\":[-0.1647440642118454,51.170936584472656]},\\\"properties\\\":{\\\"OrganisationCode\\\":\\\"Q68\\\",\\\"OrganisationType\\\":\\\"Area Team\\\",\\\"SubType\\\":\\\"UNKNOWN\\\",\\\"OrganisationStatus\\\":\\\"Visible\\\",\\\"IsPimsManaged\\\":\\\"True\\\",\\\"OrganisationName\\\":\\\"Surrey And Sussex Area Team\\\",\\\"Address1\\\":\\\"York House\\\",\\\"Address2\\\":\\\"18-20 Massetts Road\\\",\\\"City\\\":\\\"Horley\\\",\\\"County\\\":\\\"Surrey\\\",\\\"Postcode\\\":\\\"RH6 7DE\\\",\\\"Phone\\\":\\\"01293 778899\\\",\\\"Email\\\":\\\"england.surreyandsussex-businessoffice@nhs.net\\\",\\\"Website\\\":\\\"http://www.england.nhs.uk/south/south/ss-at/\\\"}},{\\\"type\\\":\\\"Feature\\\",\\\"id\\\":\\\"463103\\\",\\\"geometry\\\":{\\\"type\\\":\\\"Point\\\",\\\"coordinates\\\":[-1.2079498767852783,51.72844696044922]},\\\"properties\\\":{\\\"OrganisationCode\\\":\\\"Q69\\\",\\\"OrganisationType\\\":\\\"Area Team\\\",\\\"SubType\\\":\\\"UNKNOWN\\\",\\\"OrganisationStatus\\\":\\\"Visible\\\",\\\"IsPimsManaged\\\":\\\"True\\\",\\\"OrganisationName\\\":\\\"Thames Valley Area Team\\\",\\\"Address1\\\":\\\"Jubilee House\\\",\\\"Address2\\\":\\\"5510 John Smith Drive\\\",\\\"Address3\\\":\\\"Oxford Business Park South\\\",\\\"City\\\":\\\"Cowley\\\",\\\"County\\\":\\\"Oxfordshire\\\",\\\"Postcode\\\":\\\"OX4 2LH\\\",\\\"Phone\\\":\\\"01865 963800\\\",\\\"Email\\\":\\\"england.contactus@nhs.net\\\",\\\"Website\\\":\\\"http://www.england.nhs.uk/south/south/tv-at/\\\"}},{\\\"type\\\":\\\"Feature\\\",\\\"id\\\":\\\"463104\\\",\\\"geometry\\\":{\\\"type\\\":\\\"Point\\\",\\\"coordinates\\\":[-1.4493359327316284,50.92325973510742]},\\\"properties\\\":{\\\"OrganisationCode\\\":\\\"Q70\\\",\\\"OrganisationType\\\":\\\"Area Team\\\",\\\"SubType\\\":\\\"UNKNOWN\\\",\\\"OrganisationStatus\\\":\\\"Visible\\\",\\\"IsPimsManaged\\\":\\\"True\\\",\\\"OrganisationName\\\":\\\"Wessex Area Team\\\",\\\"Address2\\\":\\\"Oakley Road\\\",\\\"City\\\":\\\"Southampton\\\",\\\"County\\\":\\\"Hampshire\\\",\\\"Postcode\\\":\\\"SO16 4GX\\\",\\\"Phone\\\":\\\"023 8029 6914\\\",\\\"Email\\\":\\\"england.wessexpatientexperience@nhs.net\\\",\\\"Website\\\":\\\"http://www.england.nhs.uk/south/south/w-at/\\\"}},{\\\"type\\\":\\\"Feature\\\",\\\"id\\\":\\\"463105\\\",\\\"geometry\\\":{\\\"type\\\":\\\"Point\\\",\\\"coordinates\\\":[-0.13727261126041412,51.49694061279297]},\\\"properties\\\":{\\\"OrganisationCode\\\":\\\"Q71\\\",\\\"OrganisationType\\\":\\\"Area Team\\\",\\\"SubType\\\":\\\"UNKNOWN\\\",\\\"OrganisationStatus\\\":\\\"Visible\\\",\\\"IsPimsManaged\\\":\\\"True\\\",\\\"OrganisationName\\\":\\\"London Area Team\\\",\\\"Address2\\\":\\\"2nd Floor, Southside\\\",\\\"Address3\\\":\\\"105 Victoria Street\\\",\\\"City\\\":\\\"London\\\",\\\"Postcode\\\":\\\"SW1E 6QT\\\",\\\"Phone\\\":\\\"0207 932 3700\\\",\\\"Email\\\":\\\"england.contactus@nhs.net\\\",\\\"Website\\\":\\\"http://www.england.nhs.uk/london/\\\"}},{\\\"type\\\":\\\"Feature\\\",\\\"id\\\":\\\"463120\\\",\\\"geometry\\\":{\\\"type\\\":\\\"Point\\\",\\\"coordinates\\\":[-2.5846381187438965,53.37392807006836]},\\\"properties\\\":{\\\"OrganisationCode\\\":\\\"Q44\\\",\\\"OrganisationType\\\":\\\"Area Team\\\",\\\"SubType\\\":\\\"UNKNOWN\\\",\\\"OrganisationStatus\\\":\\\"Visible\\\",\\\"IsPimsManaged\\\":\\\"True\\\",\\\"OrganisationName\\\":\\\"Cheshire, Warrington And Wirral Area Team\\\",\\\"Address1\\\":\\\"NHS Quayside (NHS North West)\\\",\\\"Address2\\\":\\\"Wilderspool Park\\\",\\\"Address3\\\":\\\"Greensall Avenue\\\",\\\"City\\\":\\\"Warrington\\\",\\\"County\\\":\\\"Cheshire\\\",\\\"Postcode\\\":\\\"WA4 6HL\\\",\\\"Phone\\\":\\\"01925 406000\\\",\\\"Email\\\":\\\"england.contactus@nhs.net\\\",\\\"Website\\\":\\\"http://www.england.nhs.uk/north/north/cww-at/\\\"}},{\\\"type\\\":\\\"Feature\\\",\\\"id\\\":\\\"463121\\\",\\\"geometry\\\":{\\\"type\\\":\\\"Point\\\",\\\"coordinates\\\":[-1.5323498249053955,53.79779815673828]},\\\"properties\\\":{\\\"OrganisationCode\\\":\\\"Q45\\\",\\\"OrganisationType\\\":\\\"Area Team\\\",\\\"SubType\\\":\\\"UNKNOWN\\\",\\\"OrganisationStatus\\\":\\\"Visible\\\",\\\"IsPimsManaged\\\":\\\"True\\\",\\\"OrganisationName\\\":\\\"Durham, Darlington And Tees Area Team\\\",\\\"Address1\\\":\\\"The Old Exchange\\\",\\\"Address2\\\":\\\"Barnard Street\\\",\\\"City\\\":\\\"Darlington\\\",\\\"County\\\":\\\"Durham\\\",\\\"Postcode\\\":\\\"LS2 7UE\\\",\\\"Phone\\\":\\\"0113 825 1609\\\",\\\"Email\\\":\\\"england.ddt-at-generalenquiries@nhs.net\\\",\\\"Website\\\":\\\"http://www.england.nhs.uk/north/north/ddt-at/\\\"}},{\\\"type\\\":\\\"Feature\\\",\\\"id\\\":\\\"463122\\\",\\\"geometry\\\":{\\\"type\\\":\\\"Point\\\",\\\"coordinates\\\":[-2.233488082885742,53.47760009765625]},\\\"properties\\\":{\\\"OrganisationCode\\\":\\\"Q46\\\",\\\"OrganisationType\\\":\\\"Area Team\\\",\\\"SubType\\\":\\\"UNKNOWN\\\",\\\"OrganisationStatus\\\":\\\"Visible\\\",\\\"IsPimsManaged\\\":\\\"True\\\",\\\"OrganisationName\\\":\\\"Greater Manchester Area Team\\\",\\\"Address1\\\":\\\"4th Floor\\\",\\\"Address2\\\":\\\"3 Picadilly Place\\\",\\\"Address3\\\":\\\"London Road\\\",\\\"City\\\":\\\"Manchester\\\",\\\"County\\\":\\\"Lancashire\\\",\\\"Postcode\\\":\\\"M1 3BN\\\",\\\"Phone\\\":\\\"0845 0500194\\\",\\\"Email\\\":\\\"nhse.gmat@nhs.net\\\",\\\"Website\\\":\\\"http://www.england.nhs.uk/north/north/gm-at/\\\"}},{\\\"type\\\":\\\"Feature\\\",\\\"id\\\":\\\"463123\\\",\\\"geometry\\\":{\\\"type\\\":\\\"Point\\\",\\\"coordinates\\\":[-2.705566644668579,53.77775573730469]},\\\"properties\\\":{\\\"OrganisationCode\\\":\\\"Q47\\\",\\\"OrganisationType\\\":\\\"Area Team\\\",\\\"SubType\\\":\\\"UNKNOWN\\\",\\\"OrganisationStatus\\\":\\\"Visible\\\",\\\"IsPimsManaged\\\":\\\"True\\\",\\\"OrganisationName\\\":\\\"Lancashire Area Team\\\",\\\"Address1\\\":\\\"Second Floor, Preston Business Centre\\\",\\\"Address2\\\":\\\"Watling Street Road\\\",\\\"Address3\\\":\\\"Fulwood\\\",\\\"City\\\":\\\"Preston\\\",\\\"County\\\":\\\"Lancashire\\\",\\\"Postcode\\\":\\\"PR2 8DY\\\",\\\"Phone\\\":\\\"01772 420150\\\",\\\"Email\\\":\\\"england.contactus@nhs.net\\\",\\\"Website\\\":\\\"http://www.england.nhs.uk/north/north/lanc-at/\\\"}},{\\\"type\\\":\\\"Feature\\\",\\\"id\\\":\\\"463124\\\",\\\"geometry\\\":{\\\"type\\\":\\\"Point\\\",\\\"coordinates\\\":[-2.9802029132843018,53.38481903076172]},\\\"properties\\\":{\\\"OrganisationCode\\\":\\\"Q48\\\",\\\"OrganisationType\\\":\\\"Area Team\\\",\\\"SubType\\\":\\\"UNKNOWN\\\",\\\"OrganisationStatus\\\":\\\"Visible\\\",\\\"IsPimsManaged\\\":\\\"True\\\",\\\"OrganisationName\\\":\\\"Merseyside Area Team\\\",\\\"Address1\\\":\\\"Regatta Place\\\",\\\"Address2\\\":\\\"Summers Road\\\",\\\"Address3\\\":\\\"Brunswick Business Park\\\",\\\"City\\\":\\\"Liverpool\\\",\\\"County\\\":\\\"Merseyside\\\",\\\"Postcode\\\":\\\"L3 4BL\\\",\\\"Phone\\\":\\\"0151 285 4777\\\",\\\"Email\\\":\\\"england.contactus@nhs.net\\\",\\\"Website\\\":\\\"http://www.england.nhs.uk/north/north/mers-at/\\\"}},{\\\"type\\\":\\\"Feature\\\",\\\"id\\\":\\\"463125\\\",\\\"geometry\\\":{\\\"type\\\":\\\"Point\\\",\\\"coordinates\\\":[-1.7141016721725464,54.96938705444336]},\\\"properties\\\":{\\\"OrganisationCode\\\":\\\"Q49\\\",\\\"OrganisationType\\\":\\\"Area Team\\\",\\\"SubType\\\":\\\"UNKNOWN\\\",\\\"OrganisationStatus\\\":\\\"Visible\\\",\\\"IsPimsManaged\\\":\\\"True\\\",\\\"OrganisationName\\\":\\\"Cumbria, Northumberland, Tyne And Wear Area Team\\\",\\\"Address1\\\":\\\"Waterfront\\\",\\\"Address2\\\":\\\"4 Goldcrest Way\\\",\\\"Address3\\\":\\\"Newburn\\\",\\\"City\\\":\\\"Newcastle Upon Tyne\\\",\\\"County\\\":\\\"Tyne and Wear\\\",\\\"Postcode\\\":\\\"NE15 8NY\\\",\\\"Phone\\\":\\\"01912 106400\\\",\\\"Email\\\":\\\"england.contactus@nhs.net\\\",\\\"Website\\\":\\\"http://www.england.nhs.uk/north/north/cntw-at/\\\"}},{\\\"type\\\":\\\"Feature\\\",\\\"id\\\":\\\"463126\\\",\\\"geometry\\\":{\\\"type\\\":\\\"Point\\\",\\\"coordinates\\\":[-1.0497655868530273,53.989986419677734]},\\\"properties\\\":{\\\"OrganisationCode\\\":\\\"Q50\\\",\\\"OrganisationType\\\":\\\"Area Team\\\",\\\"SubType\\\":\\\"UNKNOWN\\\",\\\"OrganisationStatus\\\":\\\"Visible\\\",\\\"IsPimsManaged\\\":\\\"True\\\",\\\"OrganisationName\\\":\\\"North Yorkshire And Humber Area Team\\\",\\\"Address1\\\":\\\"Unit 3\\\",\\\"Address2\\\":\\\"Alpha Court\\\",\\\"Address3\\\":\\\"Monks Cross\\\",\\\"City\\\":\\\"York\\\",\\\"County\\\":\\\"North Yorkshire\\\",\\\"Postcode\\\":\\\"YO32 9WN\\\",\\\"Phone\\\":\\\"0113 825 1845\\\",\\\"Email\\\":\\\"england.contactus@nhs.net\\\",\\\"Website\\\":\\\"http://www.england.nhs.uk/north/north/nyh-at/\\\"}},{\\\"type\\\":\\\"Feature\\\",\\\"id\\\":\\\"463127\\\",\\\"geometry\\\":{\\\"type\\\":\\\"Point\\\",\\\"coordinates\\\":[-1.2550956010818481,53.42157745361328]},\\\"properties\\\":{\\\"OrganisationCode\\\":\\\"Q51\\\",\\\"OrganisationType\\\":\\\"Area Team\\\",\\\"SubType\\\":\\\"UNKNOWN\\\",\\\"OrganisationStatus\\\":\\\"Visible\\\",\\\"IsPimsManaged\\\":\\\"True\\\",\\\"OrganisationName\\\":\\\"South Yorkshire And Bassetlaw Area Team\\\",\\\"Address1\\\":\\\"Oak House\\\",\\\"Address2\\\":\\\"Moorhead Way\\\",\\\"Address3\\\":\\\"Bramley\\\",\\\"City\\\":\\\"Rotherham\\\",\\\"County\\\":\\\"South Yorkshire\\\",\\\"Postcode\\\":\\\"S66 1YY\\\",\\\"Phone\\\":\\\"01709 302000\\\",\\\"Email\\\":\\\"england.syb-businessoffice@nhs.net\\\",\\\"Website\\\":\\\"http://www.england.nhs.uk/north/north/syb-at/\\\"}},{\\\"type\\\":\\\"Feature\\\",\\\"id\\\":\\\"463128\\\",\\\"geometry\\\":{\\\"type\\\":\\\"Point\\\",\\\"coordinates\\\":[-1.544582486152649,53.78975296020508]},\\\"properties\\\":{\\\"OrganisationCode\\\":\\\"Q52\\\",\\\"OrganisationType\\\":\\\"Area Team\\\",\\\"SubType\\\":\\\"UNKNOWN\\\",\\\"OrganisationStatus\\\":\\\"Visible\\\",\\\"IsPimsManaged\\\":\\\"True\\\",\\\"OrganisationName\\\":\\\"West Yorkshire Area Team\\\",\\\"Address1\\\":\\\"3 Leeds City Office Park\\\",\\\"Address2\\\":\\\"Meadow Lane\\\",\\\"City\\\":\\\"Leeds\\\",\\\"County\\\":\\\"West Yorkshire\\\",\\\"Postcode\\\":\\\"LS11 5BD\\\",\\\"Phone\\\":\\\"0113 8252700\\\",\\\"Email\\\":\\\"reception.westyorkshireareateam@nhs.net\\\",\\\"Website\\\":\\\"http://www.england.nhs.uk/north/north/wy-at/\\\"}},{\\\"type\\\":\\\"Feature\\\",\\\"id\\\":\\\"463129\\\",\\\"geometry\\\":{\\\"type\\\":\\\"Point\\\",\\\"coordinates\\\":[-2.1813161373138428,52.18680953979492]},\\\"properties\\\":{\\\"OrganisationCode\\\":\\\"Q53\\\",\\\"OrganisationType\\\":\\\"Area Team\\\",\\\"SubType\\\":\\\"UNKNOWN\\\",\\\"OrganisationStatus\\\":\\\"Visible\\\",\\\"IsPimsManaged\\\":\\\"True\\\",\\\"OrganisationName\\\":\\\"Arden, Herefordshire And Worcestershire Area Team\\\",\\\"Address2\\\":\\\"Wildwood\\\",\\\"Address3\\\":\\\"Wildwood Drive\\\",\\\"City\\\":\\\"Worcester\\\",\\\"County\\\":\\\"Worcestershire\\\",\\\"Postcode\\\":\\\"WR5 2LG\\\",\\\"Phone\\\":\\\"0113 825 3099\\\",\\\"Email\\\":\\\"england.contactus@nhs.net\\\",\\\"Website\\\":\\\"http://www.england.nhs.uk/mids-east/mids-east-3/ahw-at/\\\"}},{\\\"type\\\":\\\"Feature\\\",\\\"id\\\":\\\"463130\\\",\\\"geometry\\\":{\\\"type\\\":\\\"Point\\\",\\\"coordinates\\\":[-1.9351675510406494,52.471920013427734]},\\\"properties\\\":{\\\"OrganisationCode\\\":\\\"Q54\\\",\\\"OrganisationType\\\":\\\"Area Team\\\",\\\"SubType\\\":\\\"UNKNOWN\\\",\\\"OrganisationStatus\\\":\\\"Visible\\\",\\\"IsPimsManaged\\\":\\\"True\\\",\\\"OrganisationName\\\":\\\"Birmingham And The Black Country Area Team\\\",\\\"Address1\\\":\\\"St Chads Court\\\",\\\"Address2\\\":\\\"213 Hagley Road\\\",\\\"Address3\\\":\\\"Edgbaston\\\",\\\"City\\\":\\\"Birmingham\\\",\\\"County\\\":\\\"West Midlands\\\",\\\"Postcode\\\":\\\"B16 9RG\\\",\\\"Phone\\\":\\\"0121 695 2222\\\",\\\"Email\\\":\\\"england.contactus@nhs.net\\\",\\\"Website\\\":\\\"http://www.england.nhs.uk/mids-east/mids-east-3/bsbc-at/\\\"}},{\\\"type\\\":\\\"Feature\\\",\\\"id\\\":\\\"463131\\\",\\\"geometry\\\":{\\\"type\\\":\\\"Point\\\",\\\"coordinates\\\":[-1.1435775756835938,53.12958526611328]},\\\"properties\\\":{\\\"OrganisationCode\\\":\\\"Q55\\\",\\\"OrganisationType\\\":\\\"Area Team\\\",\\\"SubType\\\":\\\"UNKNOWN\\\",\\\"OrganisationStatus\\\":\\\"Visible\\\",\\\"IsPimsManaged\\\":\\\"True\\\",\\\"OrganisationName\\\":\\\"Derbyshire And Nottinghamshire Area Team\\\",\\\"Address1\\\":\\\"Birch House\\\",\\\"Address2\\\":\\\"Ransom Wood Business Park\\\",\\\"Address3\\\":\\\"Southwell Road West, Rainworth\\\",\\\"City\\\":\\\"Nottingham\\\",\\\"County\\\":\\\"Nottinghamshire\\\",\\\"Postcode\\\":\\\"NG21 0HJ\\\",\\\"Phone\\\":\\\"0300 300 1234\\\",\\\"Email\\\":\\\"england.contactus@nhs.net\\\",\\\"Website\\\":\\\"http://www.england.nhs.uk/mids-east/mids-east-3/dn-at/\\\"}},{\\\"type\\\":\\\"Feature\\\",\\\"id\\\":\\\"463132\\\",\\\"geometry\\\":{\\\"type\\\":\\\"Point\\\",\\\"coordinates\\\":[0.19126050174236298,52.18547821044922]},\\\"properties\\\":{\\\"OrganisationCode\\\":\\\"Q56\\\",\\\"OrganisationType\\\":\\\"Area Team\\\",\\\"SubType\\\":\\\"UNKNOWN\\\",\\\"OrganisationStatus\\\":\\\"Visible\\\",\\\"IsPimsManaged\\\":\\\"True\\\",\\\"OrganisationName\\\":\\\"East Anglia Area Team\\\",\\\"Address1\\\":\\\"CPC1\\\",\\\"Address2\\\":\\\"Capital Business Park\\\",\\\"Address3\\\":\\\"Fulbourn\\\",\\\"City\\\":\\\"Cambridge\\\",\\\"County\\\":\\\"Cambridgeshire\\\",\\\"Postcode\\\":\\\"CB21 5XE\\\",\\\"Phone\\\":\\\"01223 708700\\\",\\\"Email\\\":\\\"england.contactus@nhs.net\\\",\\\"Website\\\":\\\"http://www.england.nhs.uk/mids-east/mids-east-3/ea-at/\\\"}},{\\\"type\\\":\\\"Feature\\\",\\\"id\\\":\\\"463133\\\",\\\"geometry\\\":{\\\"type\\\":\\\"Point\\\",\\\"coordinates\\\":[0.5076583027839661,51.74932098388672]},\\\"properties\\\":{\\\"OrganisationCode\\\":\\\"Q57\\\",\\\"OrganisationType\\\":\\\"Area Team\\\",\\\"SubType\\\":\\\"UNKNOWN\\\",\\\"OrganisationStatus\\\":\\\"Visible\\\",\\\"IsPimsManaged\\\":\\\"True\\\",\\\"OrganisationName\\\":\\\"Essex Area Team\\\",\\\"Address1\\\":\\\"Swift House\\\",\\\"Address2\\\":\\\"Hedgerows Business Park\\\",\\\"Address3\\\":\\\"Colchester Road, Springfield\\\",\\\"City\\\":\\\"Chelmsford\\\",\\\"County\\\":\\\"Essex\\\",\\\"Postcode\\\":\\\"CM2 5PF\\\",\\\"Phone\\\":\\\"01245 398770\\\",\\\"Email\\\":\\\"england.contactus@nhs.net\\\",\\\"Website\\\":\\\"http://www.england.nhs.uk/mids-east/mids-east-3/essex-at/\\\"}},{\\\"type\\\":\\\"Feature\\\",\\\"id\\\":\\\"463134\\\",\\\"geometry\\\":{\\\"type\\\":\\\"Point\\\",\\\"coordinates\\\":[-0.20884820818901062,51.8019905090332]},\\\"properties\\\":{\\\"OrganisationCode\\\":\\\"Q58\\\",\\\"OrganisationType\\\":\\\"Area Team\\\",\\\"SubType\\\":\\\"UNKNOWN\\\",\\\"OrganisationStatus\\\":\\\"Visible\\\",\\\"IsPimsManaged\\\":\\\"True\\\",\\\"OrganisationName\\\":\\\"Hertfordshire And The South Midlands Area Team\\\",\\\"Address1\\\":\\\"Charter House\\\",\\\"Address2\\\":\\\"Parkway\\\",\\\"City\\\":\\\"Welwyn Garden City\\\",\\\"County\\\":\\\"Hertfordshire\\\",\\\"Postcode\\\":\\\"AL8 6JL\\\",\\\"Phone\\\":\\\"01707 390855\\\",\\\"Email\\\":\\\"england.contactus@nhs.net\\\",\\\"Website\\\":\\\"http://www.england.nhs.uk/mids-east/mids-east-3/hsm-at/\\\"}},{\\\"type\\\":\\\"Feature\\\",\\\"id\\\":\\\"463135\\\",\\\"geometry\\\":{\\\"type\\\":\\\"Point\\\",\\\"coordinates\\\":[-1.189500093460083,52.593223571777344]},\\\"properties\\\":{\\\"OrganisationCode\\\":\\\"Q59\\\",\\\"OrganisationType\\\":\\\"Area Team\\\",\\\"SubType\\\":\\\"UNKNOWN\\\",\\\"OrganisationStatus\\\":\\\"Visible\\\",\\\"IsPimsManaged\\\":\\\"True\\\",\\\"OrganisationName\\\":\\\"Leicestershire And Lincolnshire Area Team\\\",\\\"Address1\\\":\\\"Fosse House\\\",\\\"Address2\\\":\\\"6 Smith Way\\\",\\\"Address3\\\":\\\"Grove Park, Enderby\\\",\\\"City\\\":\\\"Leicester\\\",\\\"County\\\":\\\"Leicestershire\\\",\\\"Postcode\\\":\\\"LE19 1SX\\\",\\\"Phone\\\":\\\"0116 295 7500\\\",\\\"Email\\\":\\\"england.leicsandlincsareateam@nhs.net\\\",\\\"Website\\\":\\\"http://www.england.nhs.uk/mids-east/mids-east-3/ll-at/\\\"}},{\\\"type\\\":\\\"Feature\\\",\\\"id\\\":\\\"463136\\\",\\\"geometry\\\":{\\\"type\\\":\\\"Point\\\",\\\"coordinates\\\":[-1.9140186309814453,52.7487907409668]},\\\"properties\\\":{\\\"OrganisationCode\\\":\\\"Q60\\\",\\\"OrganisationType\\\":\\\"Area Team\\\",\\\"SubType\\\":\\\"UNKNOWN\\\",\\\"OrganisationStatus\\\":\\\"Visible\\\",\\\"IsPimsManaged\\\":\\\"True\\\",\\\"OrganisationName\\\":\\\"Shropshire And Staffordshire Area Team\\\",\\\"Address1\\\":\\\"Anglesey House,\\\",\\\"Address2\\\":\\\"Wheelhouse Road,\\\",\\\"Address3\\\":\\\"Towers Plaza,\\\",\\\"City\\\":\\\"Rugeley,\\\",\\\"County\\\":\\\"Staffordshire\\\",\\\"Postcode\\\":\\\"WS15 1UL\\\",\\\"Phone\\\":\\\"0300 7900233\\\",\\\"Email\\\":\\\"england.contactus@nhs.net\\\",\\\"Website\\\":\\\"http://www.england.nhs.uk/mids-east/mids-east-3/ss-at/\\\"}}]}\\n\",\"selected\":{\"id\":\"1835\",\"type\":\"Selection\"},\"selection_policy\":{\"id\":\"1836\",\"type\":\"UnionRenderers\"}},\"id\":\"1754\",\"type\":\"GeoJSONDataSource\"},{\"attributes\":{},\"id\":\"1765\",\"type\":\"BasicTicker\"},{\"attributes\":{},\"id\":\"1774\",\"type\":\"PanTool\"},{\"attributes\":{},\"id\":\"1770\",\"type\":\"BasicTicker\"},{\"attributes\":{\"plot\":{\"id\":\"1755\",\"subtype\":\"Figure\",\"type\":\"Plot\"},\"ticker\":{\"id\":\"1765\",\"type\":\"BasicTicker\"}},\"id\":\"1768\",\"type\":\"Grid\"},{\"attributes\":{\"fill_alpha\":{\"value\":0.9},\"fill_color\":{\"value\":\"#1f77b4\"},\"line_alpha\":{\"value\":0.9},\"line_color\":{\"value\":\"#1f77b4\"},\"x\":{\"field\":\"x\"},\"y\":{\"field\":\"y\"}},\"id\":\"1790\",\"type\":\"Circle\"},{\"attributes\":{\"callback\":null},\"id\":\"1758\",\"type\":\"DataRange1d\"}],\"root_ids\":[\"1755\"]},\"title\":\"Bokeh Application\",\"version\":\"1.0.4\"}};\n",
       "  var render_items = [{\"docid\":\"85dac3ab-d268-4b01-b70b-980c8ce76797\",\"roots\":{\"1755\":\"c7d2eb40-47bf-4991-9450-e91be25f1120\"}}];\n",
       "  root.Bokeh.embed.embed_items_notebook(docs_json, render_items);\n",
       "\n",
       "  }\n",
       "  if (root.Bokeh !== undefined) {\n",
       "    embed_document(root);\n",
       "  } else {\n",
       "    var attempts = 0;\n",
       "    var timer = setInterval(function(root) {\n",
       "      if (root.Bokeh !== undefined) {\n",
       "        embed_document(root);\n",
       "        clearInterval(timer);\n",
       "      }\n",
       "      attempts++;\n",
       "      if (attempts > 100) {\n",
       "        console.log(\"Bokeh: ERROR: Unable to run BokehJS code because BokehJS library is missing\");\n",
       "        clearInterval(timer);\n",
       "      }\n",
       "    }, 10, root)\n",
       "  }\n",
       "})(window);"
      ],
      "application/vnd.bokehjs_exec.v0+json": ""
     },
     "metadata": {
      "application/vnd.bokehjs_exec.v0+json": {
       "id": "1755"
      }
     },
     "output_type": "display_data"
    }
   ],
   "source": [
    "# Geojson\n",
    "from bokeh.io import output_file, show\n",
    "from bokeh.models import GeoJSONDataSource\n",
    "from bokeh.plotting import figure\n",
    "from bokeh.sampledata.sample_geojson import geojson\n",
    "\n",
    "geo_source = GeoJSONDataSource(geojson=geojson)\n",
    "\n",
    "p = figure()\n",
    "p.circle(x = 'x', y = 'y', alpha = 0.9, source = geo_source)\n",
    "output_file(\"Bokeh-GeoJSON.html\")\n",
    "show(p)"
   ]
  },
  {
   "cell_type": "markdown",
   "metadata": {},
   "source": [
    "# Fim"
   ]
  }
 ],
 "metadata": {
  "kernelspec": {
   "display_name": "Python 3",
   "language": "python",
   "name": "python3"
  },
  "language_info": {
   "codemirror_mode": {
    "name": "ipython",
    "version": 3
   },
   "file_extension": ".py",
   "mimetype": "text/x-python",
   "name": "python",
   "nbconvert_exporter": "python",
   "pygments_lexer": "ipython3",
   "version": "3.7.3"
  }
 },
 "nbformat": 4,
 "nbformat_minor": 1
}
