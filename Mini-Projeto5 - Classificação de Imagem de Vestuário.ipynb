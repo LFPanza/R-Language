{
 "cells": [
  {
   "cell_type": "markdown",
   "metadata": {},
   "source": [
    "## Mini-Projeto 5\n",
    "\n",
    "### Rede Neural com TensorFlow Para Classificação de Imagens de Vestuário"
   ]
  },
  {
   "cell_type": "markdown",
   "metadata": {},
   "source": [
    "Neste Mini-Projeto vamos construir uma rede neural artificial com TensorFlow para classificação de imagens, especificamente classificação de imagens de roupas e acessórios.\n"
   ]
  },
  {
   "cell_type": "code",
   "execution_count": 1,
   "metadata": {},
   "outputs": [],
   "source": [
    "# Imports\n",
    "import os\n",
    "import numpy as np\n",
    "import pandas as pd\n",
    "import tensorflow as tf\n",
    "from tensorflow import keras\n",
    "\n",
    "# Configuração de gráficos\n",
    "%matplotlib inline\n",
    "import matplotlib as mpl\n",
    "import matplotlib.pyplot as plt\n",
    "mpl.rc('axes', labelsize=14)\n",
    "mpl.rc('xtick', labelsize=12)\n",
    "mpl.rc('ytick', labelsize=12)\n",
    "\n"
   ]
  },
  {
   "cell_type": "code",
   "execution_count": 2,
   "metadata": {},
   "outputs": [],
   "source": [
    "# Aqui definimos os diretórios onde salvaremos as imagens\n",
    "PROJECT_ROOT_DIR = \".\"\n",
    "PROJECT_NUM = \"Mini-Projeto5\"\n",
    "IMAGES_PATH = os.path.join(PROJECT_ROOT_DIR, \"dados\", PROJECT_NUM)\n",
    "os.makedirs(IMAGES_PATH, exist_ok = True)"
   ]
  },
  {
   "cell_type": "markdown",
   "metadata": {},
   "source": [
    "Observe que estamos usando a versão do Keras dentro do TensorFlow."
   ]
  },
  {
   "cell_type": "markdown",
   "metadata": {},
   "source": [
    "## Carregando e Preparando os Dados"
   ]
  },
  {
   "cell_type": "markdown",
   "metadata": {},
   "source": [
    "Vamos começar carregando o conjunto de dados Fashion MNIST com artigos de moda masculina e feminina. O Keras possui várias funções para carregar conjuntos de dados populares no `keras.datasets`. O conjunto de dados já está dividido para você entre um conjunto de treinamento e um conjunto de testes, mas pode ser útil dividir ainda mais o conjunto de treinamento para ter um conjunto de validação."
   ]
  },
  {
   "cell_type": "code",
   "execution_count": 3,
   "metadata": {},
   "outputs": [],
   "source": [
    "# Carrega o dataset\n",
    "fashion_mnist = keras.datasets.fashion_mnist"
   ]
  },
  {
   "cell_type": "code",
   "execution_count": 4,
   "metadata": {},
   "outputs": [],
   "source": [
    "# Extraímos os dados de treino e de teste\n",
    "(X_treino_full, y_treino_full), (X_teste, y_teste) = fashion_mnist.load_data()"
   ]
  },
  {
   "cell_type": "markdown",
   "metadata": {},
   "source": [
    "O conjunto de treinamento contém 60.000 imagens em escala de cinza, cada uma com 28x28 pixels:"
   ]
  },
  {
   "cell_type": "code",
   "execution_count": 5,
   "metadata": {},
   "outputs": [
    {
     "data": {
      "text/plain": [
       "(60000, 28, 28)"
      ]
     },
     "execution_count": 5,
     "metadata": {},
     "output_type": "execute_result"
    }
   ],
   "source": [
    "# Shape\n",
    "X_treino_full.shape"
   ]
  },
  {
   "cell_type": "markdown",
   "metadata": {},
   "source": [
    "Cada intensidade de pixel é representada como um byte (0 a 255):"
   ]
  },
  {
   "cell_type": "code",
   "execution_count": 6,
   "metadata": {},
   "outputs": [
    {
     "data": {
      "text/plain": [
       "dtype('uint8')"
      ]
     },
     "execution_count": 6,
     "metadata": {},
     "output_type": "execute_result"
    }
   ],
   "source": [
    "# Tipo de dados\n",
    "X_treino_full.dtype"
   ]
  },
  {
   "cell_type": "markdown",
   "metadata": {},
   "source": [
    "Vamos dividir o conjunto de treinamento completo em um conjunto de validação e um conjunto de treinamento (menor). Também dimensionamos as intensidades de pixel para o intervalo de 0-1 (padronização) e as convertemos em float, dividindo por 255."
   ]
  },
  {
   "cell_type": "code",
   "execution_count": 7,
   "metadata": {},
   "outputs": [],
   "source": [
    "# Preparação dos dados\n",
    "X_valid, X_treino = X_treino_full[:5000] / 255., X_treino_full[5000:] / 255.\n",
    "y_valid, y_treino = y_treino_full[:5000], y_treino_full[5000:]\n",
    "X_teste = X_teste / 255."
   ]
  },
  {
   "cell_type": "markdown",
   "metadata": {},
   "source": [
    "Você pode plotar uma imagem usando a função `imshow ()` do Matplotlib, com um mapa de cores **binary**."
   ]
  },
  {
   "cell_type": "code",
   "execution_count": 8,
   "metadata": {},
   "outputs": [
    {
     "data": {
      "image/png": "[encoded data removed]",
      "text/plain": [
       "<Figure size 432x288 with 1 Axes>"
      ]
     },
     "metadata": {
      "needs_background": "light"
     },
     "output_type": "display_data"
    }
   ],
   "source": [
    "# Plot de uma imagem\n",
    "plt.imshow(X_treino[0], cmap = \"binary\")\n",
    "plt.axis('off')\n",
    "plt.show()"
   ]
  },
  {
   "cell_type": "markdown",
   "metadata": {},
   "source": [
    "Os rótulos são os IDs de classe (representados como uint8), de 0 a 9:"
   ]
  },
  {
   "cell_type": "code",
   "execution_count": 9,
   "metadata": {},
   "outputs": [
    {
     "data": {
      "text/plain": [
       "array([4, 0, 7, ..., 3, 0, 5], dtype=uint8)"
      ]
     },
     "execution_count": 9,
     "metadata": {},
     "output_type": "execute_result"
    }
   ],
   "source": [
    "# Labels (dados de saída) de treino\n",
    "y_treino"
   ]
  },
  {
   "cell_type": "markdown",
   "metadata": {},
   "source": [
    "Aqui estão os nomes de classe correspondentes:"
   ]
  },
  {
   "cell_type": "code",
   "execution_count": 10,
   "metadata": {},
   "outputs": [],
   "source": [
    "# Nomes das classes\n",
    "nomes_classes = [\"T-shirt/top\", \n",
    "                 \"Trouser\", \n",
    "                 \"Pullover\", \n",
    "                 \"Dress\", \n",
    "                 \"Coat\", \n",
    "                 \"Sandal\", \n",
    "                 \"Shirt\", \n",
    "                 \"Sneaker\", \n",
    "                 \"Bag\", \n",
    "                 \"Ankle boot\"]"
   ]
  },
  {
   "cell_type": "markdown",
   "metadata": {},
   "source": [
    "Mais detalhes do dataset aqui: https://www.tensorflow.org/datasets/catalog/fashion_mnist"
   ]
  },
  {
   "cell_type": "markdown",
   "metadata": {},
   "source": [
    "Portanto, a primeira imagem no conjunto de treinamento é um casaco:"
   ]
  },
  {
   "cell_type": "code",
   "execution_count": 11,
   "metadata": {},
   "outputs": [
    {
     "data": {
      "text/plain": [
       "'Coat'"
      ]
     },
     "execution_count": 11,
     "metadata": {},
     "output_type": "execute_result"
    }
   ],
   "source": [
    "# Nome de classe\n",
    "nomes_classes[y_treino[0]]"
   ]
  },
  {
   "cell_type": "markdown",
   "metadata": {},
   "source": [
    "O conjunto de validação contém 5.000 imagens e o conjunto de testes contém 10.000 imagens:"
   ]
  },
  {
   "cell_type": "code",
   "execution_count": 12,
   "metadata": {},
   "outputs": [
    {
     "data": {
      "text/plain": [
       "(5000, 28, 28)"
      ]
     },
     "execution_count": 12,
     "metadata": {},
     "output_type": "execute_result"
    }
   ],
   "source": [
    "# Shape\n",
    "X_valid.shape"
   ]
  },
  {
   "cell_type": "code",
   "execution_count": 13,
   "metadata": {},
   "outputs": [
    {
     "data": {
      "text/plain": [
       "(10000, 28, 28)"
      ]
     },
     "execution_count": 13,
     "metadata": {},
     "output_type": "execute_result"
    }
   ],
   "source": [
    "# Shape\n",
    "X_teste.shape"
   ]
  },
  {
   "cell_type": "markdown",
   "metadata": {},
   "source": [
    "Vamos dar uma olhada em uma amostra das imagens no conjunto de dados."
   ]
  },
  {
   "cell_type": "code",
   "execution_count": 14,
   "metadata": {},
   "outputs": [],
   "source": [
    "# Função para salvar as imagens\n",
    "def salva_imagem(fig_id, tight_layout = True, fig_extension = \"png\", resolution = 300):\n",
    "    path = os.path.join(IMAGES_PATH, fig_id + \".\" + fig_extension)\n",
    "    print(\"Salvando a imagem...\", fig_id)\n",
    "    if tight_layout:\n",
    "        plt.tight_layout()\n",
    "    plt.savefig(path, format = fig_extension, dpi = resolution)"
   ]
  },
  {
   "cell_type": "code",
   "execution_count": 15,
   "metadata": {},
   "outputs": [
    {
     "name": "stdout",
     "output_type": "stream",
     "text": [
      "Salvando a imagem... plot_fashion_mnist\n"
     ]
    },
    {
     "data": {
      "image/png": "[encoded data removed]",
      "text/plain": [
       "<Figure size 864x345.6 with 40 Axes>"
      ]
     },
     "metadata": {
      "needs_background": "light"
     },
     "output_type": "display_data"
    }
   ],
   "source": [
    "# Plot de algumas imagens\n",
    "\n",
    "# Vamos plotar 4 linhas e 10 coluns\n",
    "n_rows = 4\n",
    "n_cols = 10\n",
    "\n",
    "# Área de plotagem\n",
    "plt.figure(figsize=(n_cols * 1.2, n_rows * 1.2))\n",
    "\n",
    "# Loop pelas linhas e colunas\n",
    "for row in range(n_rows):\n",
    "    for col in range(n_cols):\n",
    "        index = n_cols * row + col\n",
    "        plt.subplot(n_rows, n_cols, index + 1)\n",
    "        plt.imshow(X_treino[index], cmap = \"binary\", interpolation = \"nearest\")\n",
    "        plt.axis('off')\n",
    "        plt.title(nomes_classes[y_treino[index]], fontsize = 12)\n",
    "\n",
    "# Ajusta os plots\n",
    "plt.subplots_adjust(wspace = 0.2, hspace = 0.5)\n",
    "\n",
    "# Salva a imagem em disco\n",
    "salva_imagem('plot_fashion_mnist', tight_layout = False)\n",
    "\n",
    "# Mostra a imagem\n",
    "plt.show()"
   ]
  },
  {
   "cell_type": "markdown",
   "metadata": {},
   "source": [
    "Perfeito! Os dados estão prontos. Vamos construir e treinar o modelo."
   ]
  },
  {
   "cell_type": "markdown",
   "metadata": {},
   "source": [
    "## Construção do Modelo"
   ]
  },
  {
   "cell_type": "code",
   "execution_count": 16,
   "metadata": {},
   "outputs": [],
   "source": [
    "# Modelo de Rede Neural com 2 Camadas Densas\n",
    "\n",
    "# Cria o objeto do tipo sequência\n",
    "modelo = keras.models.Sequential()\n",
    "\n",
    "# Camada para receber os dados de entrada\n",
    "modelo.add(keras.layers.Flatten(input_shape = [28, 28]))\n",
    "\n",
    "# Primeira camada oculta com ativação relu\n",
    "modelo.add(keras.layers.Dense(300, activation = \"relu\"))\n",
    "\n",
    "# Segunda camada oculta com ativação relu\n",
    "modelo.add(keras.layers.Dense(100, activation = \"relu\"))\n",
    "\n",
    "# Camada de saída com ativação softmax\n",
    "# Teremos uma probabilidade prevista para cada classe\n",
    "modelo.add(keras.layers.Dense(10, activation = \"softmax\"))"
   ]
  },
  {
   "cell_type": "code",
   "execution_count": 17,
   "metadata": {},
   "outputs": [],
   "source": [
    "# Limpamos a sessão Keras e \n",
    "keras.backend.clear_session()"
   ]
  },
  {
   "cell_type": "code",
   "execution_count": 18,
   "metadata": {},
   "outputs": [
    {
     "data": {
      "text/plain": [
       "[<tensorflow.python.keras.layers.core.Flatten at 0x277779106c8>,\n",
       " <tensorflow.python.keras.layers.core.Dense at 0x277779103c8>,\n",
       " <tensorflow.python.keras.layers.core.Dense at 0x27777b6e888>,\n",
       " <tensorflow.python.keras.layers.core.Dense at 0x27777b93888>]"
      ]
     },
     "execution_count": 18,
     "metadata": {},
     "output_type": "execute_result"
    }
   ],
   "source": [
    "# Camadas do modelo\n",
    "modelo.layers"
   ]
  },
  {
   "cell_type": "code",
   "execution_count": 19,
   "metadata": {},
   "outputs": [
    {
     "name": "stdout",
     "output_type": "stream",
     "text": [
      "Model: \"sequential\"\n",
      "_________________________________________________________________\n",
      "Layer (type)                 Output Shape              Param #   \n",
      "=================================================================\n",
      "flatten (Flatten)            (None, 784)               0         \n",
      "_________________________________________________________________\n",
      "dense (Dense)                (None, 300)               235500    \n",
      "_________________________________________________________________\n",
      "dense_1 (Dense)              (None, 100)               30100     \n",
      "_________________________________________________________________\n",
      "dense_2 (Dense)              (None, 10)                1010      \n",
      "=================================================================\n",
      "Total params: 266,610\n",
      "Trainable params: 266,610\n",
      "Non-trainable params: 0\n",
      "_________________________________________________________________\n"
     ]
    }
   ],
   "source": [
    "# Sumário do modelo\n",
    "modelo.summary()"
   ]
  },
  {
   "cell_type": "code",
   "execution_count": 20,
   "metadata": {},
   "outputs": [
    {
     "data": {
      "image/png": "[encoded data removed]",
      "text/plain": [
       "<IPython.core.display.Image object>"
      ]
     },
     "execution_count": 20,
     "metadata": {},
     "output_type": "execute_result"
    }
   ],
   "source": [
    "# Vamos criar um plot com o modelo completo e salvar a imagem em disco\n",
    "keras.utils.plot_model(modelo, IMAGES_PATH + \"/modelo_fashion_mnist.png\", show_shapes = True)"
   ]
  },
  {
   "cell_type": "code",
   "execution_count": 21,
   "metadata": {},
   "outputs": [
    {
     "data": {
      "text/plain": [
       "'dense'"
      ]
     },
     "execution_count": 21,
     "metadata": {},
     "output_type": "execute_result"
    }
   ],
   "source": [
    "# Vamos nomear a primeira camada oculta do modelo\n",
    "hidden1 = modelo.layers[1]\n",
    "hidden1.name"
   ]
  },
  {
   "cell_type": "code",
   "execution_count": 22,
   "metadata": {},
   "outputs": [
    {
     "data": {
      "text/plain": [
       "True"
      ]
     },
     "execution_count": 22,
     "metadata": {},
     "output_type": "execute_result"
    }
   ],
   "source": [
    "# Verificamos se a camada com novo nome existe\n",
    "modelo.get_layer(hidden1.name) is hidden1"
   ]
  },
  {
   "cell_type": "code",
   "execution_count": 23,
   "metadata": {},
   "outputs": [],
   "source": [
    "# Extraímos pesos e bias da primeira camada oculta\n",
    "weights, biases = hidden1.get_weights()"
   ]
  },
  {
   "cell_type": "code",
   "execution_count": 24,
   "metadata": {},
   "outputs": [
    {
     "data": {
      "text/plain": [
       "array([[-0.03493497,  0.00500049,  0.02740894, ...,  0.05450971,\n",
       "        -0.00795225, -0.01309799],\n",
       "       [-0.02658154, -0.02287152, -0.0355209 , ...,  0.02556685,\n",
       "         0.06472826, -0.06525962],\n",
       "       [-0.03790955,  0.01424007,  0.03330097, ...,  0.01890564,\n",
       "        -0.05980999, -0.03297091],\n",
       "       ...,\n",
       "       [-0.06873821, -0.0129175 ,  0.00340783, ...,  0.02439345,\n",
       "        -0.03603487, -0.01493114],\n",
       "       [-0.03183382, -0.04976653, -0.05104867, ...,  0.04732023,\n",
       "         0.05771394, -0.02344024],\n",
       "       [-0.01030529, -0.05820797,  0.0692438 , ...,  0.03503747,\n",
       "        -0.0402412 ,  0.01651346]], dtype=float32)"
      ]
     },
     "execution_count": 24,
     "metadata": {},
     "output_type": "execute_result"
    }
   ],
   "source": [
    "# Pesos que serão usados no começo do treinamento e são gerados de forma aleatória pelo Keras/TensorFlow\n",
    "weights"
   ]
  },
  {
   "cell_type": "code",
   "execution_count": 25,
   "metadata": {},
   "outputs": [
    {
     "data": {
      "text/plain": [
       "(784, 300)"
      ]
     },
     "execution_count": 25,
     "metadata": {},
     "output_type": "execute_result"
    }
   ],
   "source": [
    "# Shape\n",
    "weights.shape"
   ]
  },
  {
   "cell_type": "code",
   "execution_count": 26,
   "metadata": {},
   "outputs": [
    {
     "data": {
      "text/plain": [
       "array([0., 0., 0., 0., 0., 0., 0., 0., 0., 0., 0., 0., 0., 0., 0., 0., 0.,\n",
       "       0., 0., 0., 0., 0., 0., 0., 0., 0., 0., 0., 0., 0., 0., 0., 0., 0.,\n",
       "       0., 0., 0., 0., 0., 0., 0., 0., 0., 0., 0., 0., 0., 0., 0., 0., 0.,\n",
       "       0., 0., 0., 0., 0., 0., 0., 0., 0., 0., 0., 0., 0., 0., 0., 0., 0.,\n",
       "       0., 0., 0., 0., 0., 0., 0., 0., 0., 0., 0., 0., 0., 0., 0., 0., 0.,\n",
       "       0., 0., 0., 0., 0., 0., 0., 0., 0., 0., 0., 0., 0., 0., 0., 0., 0.,\n",
       "       0., 0., 0., 0., 0., 0., 0., 0., 0., 0., 0., 0., 0., 0., 0., 0., 0.,\n",
       "       0., 0., 0., 0., 0., 0., 0., 0., 0., 0., 0., 0., 0., 0., 0., 0., 0.,\n",
       "       0., 0., 0., 0., 0., 0., 0., 0., 0., 0., 0., 0., 0., 0., 0., 0., 0.,\n",
       "       0., 0., 0., 0., 0., 0., 0., 0., 0., 0., 0., 0., 0., 0., 0., 0., 0.,\n",
       "       0., 0., 0., 0., 0., 0., 0., 0., 0., 0., 0., 0., 0., 0., 0., 0., 0.,\n",
       "       0., 0., 0., 0., 0., 0., 0., 0., 0., 0., 0., 0., 0., 0., 0., 0., 0.,\n",
       "       0., 0., 0., 0., 0., 0., 0., 0., 0., 0., 0., 0., 0., 0., 0., 0., 0.,\n",
       "       0., 0., 0., 0., 0., 0., 0., 0., 0., 0., 0., 0., 0., 0., 0., 0., 0.,\n",
       "       0., 0., 0., 0., 0., 0., 0., 0., 0., 0., 0., 0., 0., 0., 0., 0., 0.,\n",
       "       0., 0., 0., 0., 0., 0., 0., 0., 0., 0., 0., 0., 0., 0., 0., 0., 0.,\n",
       "       0., 0., 0., 0., 0., 0., 0., 0., 0., 0., 0., 0., 0., 0., 0., 0., 0.,\n",
       "       0., 0., 0., 0., 0., 0., 0., 0., 0., 0., 0.], dtype=float32)"
      ]
     },
     "execution_count": 26,
     "metadata": {},
     "output_type": "execute_result"
    }
   ],
   "source": [
    "# Bias que serão usados no começo do treinamento\n",
    "biases"
   ]
  },
  {
   "cell_type": "code",
   "execution_count": 27,
   "metadata": {},
   "outputs": [
    {
     "data": {
      "text/plain": [
       "(300,)"
      ]
     },
     "execution_count": 27,
     "metadata": {},
     "output_type": "execute_result"
    }
   ],
   "source": [
    "# Shape\n",
    "biases.shape"
   ]
  },
  {
   "cell_type": "code",
   "execution_count": 28,
   "metadata": {},
   "outputs": [],
   "source": [
    "# Agora compilamos o modelo com o otimizador, função de custo e a métrica\n",
    "# https://www.tensorflow.org/api_docs/python/tf/keras/optimizers/SGD\n",
    "# https://www.tensorflow.org/api_docs/python/tf/keras/losses/sparse_categorical_crossentropy\n",
    "modelo.compile(optimizer = \"sgd\", loss = \"sparse_categorical_crossentropy\", metrics = [\"accuracy\"])"
   ]
  },
  {
   "cell_type": "markdown",
   "metadata": {},
   "source": [
    "Podemos então treinar o modelo."
   ]
  },
  {
   "cell_type": "code",
   "execution_count": 29,
   "metadata": {},
   "outputs": [
    {
     "name": "stdout",
     "output_type": "stream",
     "text": [
      "Epoch 1/50\n",
      "1719/1719 [==============================] - 4s 2ms/step - loss: 0.7184 - accuracy: 0.7670 - val_loss: 0.5000 - val_accuracy: 0.8338\n",
      "Epoch 2/50\n",
      "1719/1719 [==============================] - 3s 2ms/step - loss: 0.4881 - accuracy: 0.8300 - val_loss: 0.4484 - val_accuracy: 0.8458\n",
      "Epoch 3/50\n",
      "1719/1719 [==============================] - 3s 2ms/step - loss: 0.4448 - accuracy: 0.8438 - val_loss: 0.4141 - val_accuracy: 0.8586\n",
      "Epoch 4/50\n",
      "1719/1719 [==============================] - 3s 2ms/step - loss: 0.4176 - accuracy: 0.8537 - val_loss: 0.4335 - val_accuracy: 0.8510\n",
      "Epoch 5/50\n",
      "1719/1719 [==============================] - 3s 2ms/step - loss: 0.3967 - accuracy: 0.8607 - val_loss: 0.3944 - val_accuracy: 0.8644\n",
      "Epoch 6/50\n",
      "1719/1719 [==============================] - 4s 2ms/step - loss: 0.3805 - accuracy: 0.8659 - val_loss: 0.3727 - val_accuracy: 0.8708\n",
      "Epoch 7/50\n",
      "1719/1719 [==============================] - 4s 2ms/step - loss: 0.3689 - accuracy: 0.8692 - val_loss: 0.3606 - val_accuracy: 0.8752\n",
      "Epoch 8/50\n",
      "1719/1719 [==============================] - 3s 2ms/step - loss: 0.3551 - accuracy: 0.8740 - val_loss: 0.3597 - val_accuracy: 0.8744\n",
      "Epoch 9/50\n",
      "1719/1719 [==============================] - 3s 2ms/step - loss: 0.3445 - accuracy: 0.8776 - val_loss: 0.3465 - val_accuracy: 0.8724\n",
      "Epoch 10/50\n",
      "1719/1719 [==============================] - 4s 2ms/step - loss: 0.3353 - accuracy: 0.8799 - val_loss: 0.3429 - val_accuracy: 0.8800\n",
      "Epoch 11/50\n",
      "1719/1719 [==============================] - 5s 3ms/step - loss: 0.3264 - accuracy: 0.8835 - val_loss: 0.3367 - val_accuracy: 0.8814\n",
      "Epoch 12/50\n",
      "1719/1719 [==============================] - 4s 2ms/step - loss: 0.3178 - accuracy: 0.8871 - val_loss: 0.3354 - val_accuracy: 0.8792\n",
      "Epoch 13/50\n",
      "1719/1719 [==============================] - 4s 2ms/step - loss: 0.3099 - accuracy: 0.8888 - val_loss: 0.3278 - val_accuracy: 0.8842\n",
      "Epoch 14/50\n",
      "1719/1719 [==============================] - 4s 2ms/step - loss: 0.3046 - accuracy: 0.8907 - val_loss: 0.3320 - val_accuracy: 0.8802\n",
      "Epoch 15/50\n",
      "1719/1719 [==============================] - 4s 2ms/step - loss: 0.2972 - accuracy: 0.8933 - val_loss: 0.3306 - val_accuracy: 0.8812\n",
      "Epoch 16/50\n",
      "1719/1719 [==============================] - 4s 2ms/step - loss: 0.2912 - accuracy: 0.8951 - val_loss: 0.3243 - val_accuracy: 0.8812\n",
      "Epoch 17/50\n",
      "1719/1719 [==============================] - 4s 2ms/step - loss: 0.2861 - accuracy: 0.8967 - val_loss: 0.3246 - val_accuracy: 0.8840\n",
      "Epoch 18/50\n",
      "1719/1719 [==============================] - 4s 2ms/step - loss: 0.2794 - accuracy: 0.8990 - val_loss: 0.3149 - val_accuracy: 0.8868\n",
      "Epoch 19/50\n",
      "1719/1719 [==============================] - 4s 2ms/step - loss: 0.2744 - accuracy: 0.9002 - val_loss: 0.3120 - val_accuracy: 0.8894\n",
      "Epoch 20/50\n",
      "1719/1719 [==============================] - 4s 2ms/step - loss: 0.2688 - accuracy: 0.9032 - val_loss: 0.3107 - val_accuracy: 0.8898\n",
      "Epoch 21/50\n",
      "1719/1719 [==============================] - 4s 2ms/step - loss: 0.2638 - accuracy: 0.9060 - val_loss: 0.3158 - val_accuracy: 0.8858\n",
      "Epoch 22/50\n",
      "1719/1719 [==============================] - 4s 2ms/step - loss: 0.2604 - accuracy: 0.9056 - val_loss: 0.3039 - val_accuracy: 0.8932\n",
      "Epoch 23/50\n",
      "1719/1719 [==============================] - 4s 2ms/step - loss: 0.2553 - accuracy: 0.9072 - val_loss: 0.3139 - val_accuracy: 0.8884\n",
      "Epoch 24/50\n",
      "1719/1719 [==============================] - 4s 2ms/step - loss: 0.2505 - accuracy: 0.9103 - val_loss: 0.3000 - val_accuracy: 0.8902\n",
      "Epoch 25/50\n",
      "1719/1719 [==============================] - 4s 2ms/step - loss: 0.2461 - accuracy: 0.9117 - val_loss: 0.3114 - val_accuracy: 0.8872\n",
      "Epoch 26/50\n",
      "1719/1719 [==============================] - 4s 2ms/step - loss: 0.2429 - accuracy: 0.9119 - val_loss: 0.3052 - val_accuracy: 0.8886\n",
      "Epoch 27/50\n",
      "1719/1719 [==============================] - 5s 3ms/step - loss: 0.2377 - accuracy: 0.9129 - val_loss: 0.3086 - val_accuracy: 0.8852\n",
      "Epoch 28/50\n",
      "1719/1719 [==============================] - 5s 3ms/step - loss: 0.2338 - accuracy: 0.9147 - val_loss: 0.2909 - val_accuracy: 0.8946\n",
      "Epoch 29/50\n",
      "1719/1719 [==============================] - 4s 2ms/step - loss: 0.2300 - accuracy: 0.9172 - val_loss: 0.3117 - val_accuracy: 0.8846\n",
      "Epoch 30/50\n",
      "1719/1719 [==============================] - 4s 2ms/step - loss: 0.2259 - accuracy: 0.9180 - val_loss: 0.2933 - val_accuracy: 0.8944\n",
      "Epoch 31/50\n",
      "1719/1719 [==============================] - 4s 2ms/step - loss: 0.2220 - accuracy: 0.9194 - val_loss: 0.3121 - val_accuracy: 0.8838\n",
      "Epoch 32/50\n",
      "1719/1719 [==============================] - 4s 2ms/step - loss: 0.2188 - accuracy: 0.9215 - val_loss: 0.3135 - val_accuracy: 0.8888\n",
      "Epoch 33/50\n",
      "1719/1719 [==============================] - 4s 2ms/step - loss: 0.2163 - accuracy: 0.9225 - val_loss: 0.3018 - val_accuracy: 0.8898\n",
      "Epoch 34/50\n",
      "1719/1719 [==============================] - 4s 2ms/step - loss: 0.2117 - accuracy: 0.9246 - val_loss: 0.2834 - val_accuracy: 0.8970\n",
      "Epoch 35/50\n",
      "1719/1719 [==============================] - 4s 2ms/step - loss: 0.2081 - accuracy: 0.9244 - val_loss: 0.3008 - val_accuracy: 0.8904\n",
      "Epoch 36/50\n",
      "1719/1719 [==============================] - 4s 2ms/step - loss: 0.2044 - accuracy: 0.9262 - val_loss: 0.3048 - val_accuracy: 0.8912\n",
      "Epoch 37/50\n",
      "1719/1719 [==============================] - 4s 2ms/step - loss: 0.2012 - accuracy: 0.9281 - val_loss: 0.3010 - val_accuracy: 0.8954\n",
      "Epoch 38/50\n",
      "1719/1719 [==============================] - 4s 2ms/step - loss: 0.1987 - accuracy: 0.9288 - val_loss: 0.2872 - val_accuracy: 0.8970\n",
      "Epoch 39/50\n",
      "1719/1719 [==============================] - 4s 2ms/step - loss: 0.1966 - accuracy: 0.9297 - val_loss: 0.3034 - val_accuracy: 0.8908\n",
      "Epoch 40/50\n",
      "1719/1719 [==============================] - 4s 2ms/step - loss: 0.1919 - accuracy: 0.9312 - val_loss: 0.2937 - val_accuracy: 0.8924\n",
      "Epoch 41/50\n",
      "1719/1719 [==============================] - 4s 2ms/step - loss: 0.1886 - accuracy: 0.9331 - val_loss: 0.3034 - val_accuracy: 0.8922\n",
      "Epoch 42/50\n",
      "1719/1719 [==============================] - 4s 2ms/step - loss: 0.1858 - accuracy: 0.9327 - val_loss: 0.3018 - val_accuracy: 0.8902\n",
      "Epoch 43/50\n",
      "1719/1719 [==============================] - 4s 2ms/step - loss: 0.1830 - accuracy: 0.9346 - val_loss: 0.2895 - val_accuracy: 0.8960\n",
      "Epoch 44/50\n",
      "1719/1719 [==============================] - 4s 2ms/step - loss: 0.1806 - accuracy: 0.9348 - val_loss: 0.2947 - val_accuracy: 0.8986\n",
      "Epoch 45/50\n",
      "1719/1719 [==============================] - 4s 2ms/step - loss: 0.1775 - accuracy: 0.9364 - val_loss: 0.3011 - val_accuracy: 0.8958\n",
      "Epoch 46/50\n",
      "1719/1719 [==============================] - 4s 2ms/step - loss: 0.1745 - accuracy: 0.9376 - val_loss: 0.2867 - val_accuracy: 0.8998\n",
      "Epoch 47/50\n",
      "1719/1719 [==============================] - 4s 2ms/step - loss: 0.1723 - accuracy: 0.9384 - val_loss: 0.3013 - val_accuracy: 0.8926\n",
      "Epoch 48/50\n",
      "1719/1719 [==============================] - 4s 2ms/step - loss: 0.1684 - accuracy: 0.9396 - val_loss: 0.2951 - val_accuracy: 0.8960\n",
      "Epoch 49/50\n",
      "1719/1719 [==============================] - 4s 2ms/step - loss: 0.1657 - accuracy: 0.9398 - val_loss: 0.3033 - val_accuracy: 0.8912\n",
      "Epoch 50/50\n",
      "1719/1719 [==============================] - 4s 2ms/step - loss: 0.1637 - accuracy: 0.9419 - val_loss: 0.3142 - val_accuracy: 0.8860\n"
     ]
    }
   ],
   "source": [
    "# Treinamento\n",
    "history = modelo.fit(X_treino, \n",
    "                     y_treino, \n",
    "                     epochs = 50, \n",
    "                     validation_data = (X_valid, y_valid))"
   ]
  },
  {
   "cell_type": "code",
   "execution_count": 30,
   "metadata": {},
   "outputs": [
    {
     "data": {
      "text/plain": [
       "{'verbose': 1, 'epochs': 50, 'steps': 1719}"
      ]
     },
     "execution_count": 30,
     "metadata": {},
     "output_type": "execute_result"
    }
   ],
   "source": [
    "# Hiperparâmetros do modelo\n",
    "history.params"
   ]
  },
  {
   "cell_type": "code",
   "execution_count": 31,
   "metadata": {},
   "outputs": [
    {
     "data": {
      "text/plain": [
       "dict_keys(['loss', 'accuracy', 'val_loss', 'val_accuracy'])"
      ]
     },
     "execution_count": 31,
     "metadata": {},
     "output_type": "execute_result"
    }
   ],
   "source": [
    "# Aqui estão as métricas disponíveis após o treinamento (erro e acurácia)\n",
    "history.history.keys()"
   ]
  },
  {
   "cell_type": "code",
   "execution_count": 32,
   "metadata": {},
   "outputs": [
    {
     "name": "stdout",
     "output_type": "stream",
     "text": [
      "Salvando a imagem... plot_keras_learning_curves\n"
     ]
    },
    {
     "data": {
      "image/png": "[encoded data removed]",
      "text/plain": [
       "<Figure size 576x360 with 1 Axes>"
      ]
     },
     "metadata": {
      "needs_background": "light"
     },
     "output_type": "display_data"
    }
   ],
   "source": [
    "# Colocamos o histórico de treinamento em um dataframe, plotamos e salvamos a figura\n",
    "pd.DataFrame(history.history).plot(figsize = (8, 5))\n",
    "plt.grid(True)\n",
    "plt.gca().set_ylim(0, 1)\n",
    "salva_imagem(\"plot_keras_learning_curves\")\n",
    "plt.show()"
   ]
  },
  {
   "cell_type": "markdown",
   "metadata": {},
   "source": [
    "## Avaliando o Modelo\n",
    "\n",
    "Você já conhece o ritual. Depois de treinar, testamos o modelo com dados de teste."
   ]
  },
  {
   "cell_type": "code",
   "execution_count": 33,
   "metadata": {},
   "outputs": [
    {
     "name": "stdout",
     "output_type": "stream",
     "text": [
      "313/313 [==============================] - 0s 1ms/step - loss: 0.3431 - accuracy: 0.8833\n"
     ]
    },
    {
     "data": {
      "text/plain": [
       "[0.34311702847480774, 0.8833000063896179]"
      ]
     },
     "execution_count": 33,
     "metadata": {},
     "output_type": "execute_result"
    }
   ],
   "source": [
    "# Avalia o modelo\n",
    "modelo.evaluate(X_teste, y_teste)"
   ]
  },
  {
   "cell_type": "markdown",
   "metadata": {},
   "source": [
    "Conseguimos mais de 88% de acurácia em teste. Vamos fazer a previsão de algumas imagens."
   ]
  },
  {
   "cell_type": "code",
   "execution_count": 34,
   "metadata": {},
   "outputs": [],
   "source": [
    "# Vamos extrair 5 imagens de teste\n",
    "X_new = X_teste[:5]"
   ]
  },
  {
   "cell_type": "code",
   "execution_count": 35,
   "metadata": {},
   "outputs": [],
   "source": [
    "# E então prever a probabilidade de cada classe para cada imagem\n",
    "y_proba = modelo.predict(X_new)"
   ]
  },
  {
   "cell_type": "code",
   "execution_count": 36,
   "metadata": {},
   "outputs": [
    {
     "data": {
      "text/plain": [
       "array([[8.16281613e-07, 1.79130648e-08, 3.95757382e-07, 6.93991842e-09,\n",
       "        1.04874918e-08, 1.34913513e-04, 1.11156567e-06, 4.88851336e-04,\n",
       "        6.82210327e-07, 9.99373257e-01],\n",
       "       [3.23328313e-05, 8.65365057e-10, 9.98887360e-01, 6.23835783e-09,\n",
       "        5.79248182e-04, 4.77620127e-14, 5.01057133e-04, 7.77489739e-11,\n",
       "        1.06491471e-09, 4.08885495e-11],\n",
       "       [2.84554659e-07, 9.99999523e-01, 9.40150890e-09, 2.45693371e-07,\n",
       "        2.51380126e-08, 3.78059493e-11, 3.47218310e-10, 2.98261311e-11,\n",
       "        1.00211194e-10, 1.35264902e-14],\n",
       "       [5.07451887e-07, 9.99990582e-01, 4.25542375e-08, 8.58561634e-06,\n",
       "        3.21139538e-07, 4.69800976e-10, 2.21275638e-08, 7.08885284e-10,\n",
       "        5.70570924e-10, 5.62706999e-11],\n",
       "       [2.90295929e-01, 8.82874289e-08, 5.75360376e-03, 3.40948231e-04,\n",
       "        3.74282565e-04, 1.37888412e-08, 7.03234375e-01, 4.68335486e-08,\n",
       "        3.98689252e-07, 2.43745916e-07]], dtype=float32)"
      ]
     },
     "execution_count": 36,
     "metadata": {},
     "output_type": "execute_result"
    }
   ],
   "source": [
    "# Previsões de probabilidade\n",
    "y_proba"
   ]
  },
  {
   "cell_type": "code",
   "execution_count": 37,
   "metadata": {},
   "outputs": [
    {
     "data": {
      "text/plain": [
       "array([[0.  , 0.  , 0.  , 0.  , 0.  , 0.  , 0.  , 0.  , 0.  , 1.  ],\n",
       "       [0.  , 0.  , 1.  , 0.  , 0.  , 0.  , 0.  , 0.  , 0.  , 0.  ],\n",
       "       [0.  , 1.  , 0.  , 0.  , 0.  , 0.  , 0.  , 0.  , 0.  , 0.  ],\n",
       "       [0.  , 1.  , 0.  , 0.  , 0.  , 0.  , 0.  , 0.  , 0.  , 0.  ],\n",
       "       [0.29, 0.  , 0.01, 0.  , 0.  , 0.  , 0.7 , 0.  , 0.  , 0.  ]],\n",
       "      dtype=float32)"
      ]
     },
     "execution_count": 37,
     "metadata": {},
     "output_type": "execute_result"
    }
   ],
   "source": [
    "# As previsões de classes são mais fáceis de interpretar\n",
    "y_proba.round(2)"
   ]
  },
  {
   "cell_type": "code",
   "execution_count": 38,
   "metadata": {},
   "outputs": [
    {
     "name": "stdout",
     "output_type": "stream",
     "text": [
      "WARNING:tensorflow:From <ipython-input-38-05c42a87947c>:2: Sequential.predict_classes (from tensorflow.python.keras.engine.sequential) is deprecated and will be removed after 2021-01-01.\n",
      "Instructions for updating:\n",
      "Please use instead:* `np.argmax(model.predict(x), axis=-1)`,   if your model does multi-class classification   (e.g. if it uses a `softmax` last-layer activation).* `(model.predict(x) > 0.5).astype(\"int32\")`,   if your model does binary classification   (e.g. if it uses a `sigmoid` last-layer activation).\n"
     ]
    },
    {
     "data": {
      "text/plain": [
       "array([9, 2, 1, 1, 6], dtype=int64)"
      ]
     },
     "execution_count": 38,
     "metadata": {},
     "output_type": "execute_result"
    }
   ],
   "source": [
    "# Vamos gravar as previsões das 5 imagens\n",
    "y_pred = modelo.predict_classes(X_new)\n",
    "y_pred"
   ]
  },
  {
   "cell_type": "code",
   "execution_count": 39,
   "metadata": {},
   "outputs": [
    {
     "data": {
      "text/plain": [
       "array(['Ankle boot', 'Pullover', 'Trouser', 'Trouser', 'Shirt'],\n",
       "      dtype='<U11')"
      ]
     },
     "execution_count": 39,
     "metadata": {},
     "output_type": "execute_result"
    }
   ],
   "source": [
    "# E então extraímos os nomes das classes associados a cada previsão\n",
    "np.array(nomes_classes)[y_pred]"
   ]
  },
  {
   "cell_type": "markdown",
   "metadata": {},
   "source": [
    "Vamos plotar as previsões."
   ]
  },
  {
   "cell_type": "code",
   "execution_count": 40,
   "metadata": {},
   "outputs": [
    {
     "name": "stdout",
     "output_type": "stream",
     "text": [
      "Salvando a imagem... plot_previsoes_fashion_mnist_images\n"
     ]
    },
    {
     "data": {
      "image/png": "[encoded data removed]",
      "text/plain": [
       "<Figure size 576x360 with 5 Axes>"
      ]
     },
     "metadata": {
      "needs_background": "light"
     },
     "output_type": "display_data"
    }
   ],
   "source": [
    "# Plot\n",
    "plt.figure(figsize = (8, 5))\n",
    "for index, image in enumerate(X_new):\n",
    "    plt.subplot(1, 5, index + 1)\n",
    "    plt.imshow(image, cmap = \"binary\", interpolation = \"nearest\")\n",
    "    plt.axis('off')\n",
    "    plt.title(nomes_classes[y_teste[index]], fontsize = 12)\n",
    "plt.subplots_adjust(wspace = 0.2, hspace = 0.5)\n",
    "salva_imagem('plot_previsoes_fashion_mnist_images', tight_layout = False)\n",
    "plt.show()"
   ]
  },
  {
   "cell_type": "markdown",
   "metadata": {},
   "source": [
    "Previsões feitas com sucesso!"
   ]
  },
  {
   "cell_type": "markdown",
   "metadata": {},
   "source": [
    "# Fim"
   ]
  }
 ],
 "metadata": {
  "kernelspec": {
   "display_name": "Python 3",
   "language": "python",
   "name": "python3"
  },
  "language_info": {
   "codemirror_mode": {
    "name": "ipython",
    "version": 3
   },
   "file_extension": ".py",
   "mimetype": "text/x-python",
   "name": "python",
   "nbconvert_exporter": "python",
   "pygments_lexer": "ipython3",
   "version": "3.7.6"
  },
  "nav_menu": {
   "height": "264px",
   "width": "369px"
  },
  "toc": {
   "navigate_menu": true,
   "number_sections": true,
   "sideBar": true,
   "threshold": 6,
   "toc_cell": false,
   "toc_section_display": "block",
   "toc_window_display": false
  }
 },
 "nbformat": 4,
 "nbformat_minor": 4
}
