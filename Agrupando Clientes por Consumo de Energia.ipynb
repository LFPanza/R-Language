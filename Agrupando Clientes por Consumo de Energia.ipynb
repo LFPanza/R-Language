{
 "cells": [
  {
   "cell_type": "markdown",
   "metadata": {},
   "source": [
    "# <font color='blue'> Mini-Projeto - Agrupando Clientes Por Consumo de Energia</font>\n"
   ]
  },
  {
   "cell_type": "markdown",
   "metadata": {},
   "source": [
    "A partir de dados de consumo de energia de clientes, nosso trabalho é agrupar os consumidores por similaridade a afim de compreender o comportamento dos clientes e sua relação com o consumo de energia."
   ]
  },
  {
   "cell_type": "markdown",
   "metadata": {},
   "source": [
    "Você deve executar as seguintes tarefas:\n",
    "    \n",
    "1- Tratar os valores ausentes nos dados.\n",
    "\n",
    "2- Coletar uma amostra de 1% dos dados para criar o modelo de clusterização com o K-Means.\n",
    "\n",
    "3- Encontrar o melhor valor de K para esse conjunto de dados.\n",
    "\n",
    "4- Criar o modelo K-Means usando o valor de K encontrado no item 3.\n",
    "\n",
    "5- Criar um Meshgrid para visualização de todos os clusters.\n",
    "\n",
    "6- Visualizar os centróides.\n",
    "\n",
    "7- Calcular o Silhoutte Score.\n",
    "\n",
    "8 - Calcular a média de consumo de energia por cluster (usar a coluna Global_active_power para o cálculo da média).\n",
    "\n",
    "Dica: Para o item 8, considere a amostra criada no item 2."
   ]
  },
  {
   "cell_type": "code",
   "execution_count": 1,
   "metadata": {},
   "outputs": [],
   "source": [
    "# Imports\n",
    "import pandas as pd\n",
    "import numpy as np\n",
    "import matplotlib.pyplot as plt\n",
    "from matplotlib import pylab\n",
    "from sklearn.cluster import KMeans\n",
    "from sklearn.decomposition import PCA\n",
    "from sklearn.model_selection import train_test_split\n",
    "from scipy.spatial.distance import cdist, pdist\n",
    "from sklearn.metrics import silhouette_score\n",
    "import warnings\n",
    "warnings.filterwarnings(\"ignore\")\n",
    "%matplotlib inline"
   ]
  },
  {
   "cell_type": "markdown",
   "metadata": {},
   "source": [
    "https://archive.ics.uci.edu/ml/datasets/Individual+household+electric+power+consumption"
   ]
  },
  {
   "cell_type": "code",
   "execution_count": 2,
   "metadata": {},
   "outputs": [],
   "source": [
    "# Carregando os dados\n",
    "dataset = pd.read_csv('household_power_consumption.txt', delimiter = ';', low_memory = False)"
   ]
  },
  {
   "cell_type": "code",
   "execution_count": 3,
   "metadata": {},
   "outputs": [
    {
     "data": {
      "text/html": [
       "<div>\n",
       "<style scoped>\n",
       "    .dataframe tbody tr th:only-of-type {\n",
       "        vertical-align: middle;\n",
       "    }\n",
       "\n",
       "    .dataframe tbody tr th {\n",
       "        vertical-align: top;\n",
       "    }\n",
       "\n",
       "    .dataframe thead th {\n",
       "        text-align: right;\n",
       "    }\n",
       "</style>\n",
       "<table border=\"1\" class=\"dataframe\">\n",
       "  <thead>\n",
       "    <tr style=\"text-align: right;\">\n",
       "      <th></th>\n",
       "      <th>Date</th>\n",
       "      <th>Time</th>\n",
       "      <th>Global_active_power</th>\n",
       "      <th>Global_reactive_power</th>\n",
       "      <th>Voltage</th>\n",
       "      <th>Global_intensity</th>\n",
       "      <th>Sub_metering_1</th>\n",
       "      <th>Sub_metering_2</th>\n",
       "      <th>Sub_metering_3</th>\n",
       "    </tr>\n",
       "  </thead>\n",
       "  <tbody>\n",
       "    <tr>\n",
       "      <th>0</th>\n",
       "      <td>16/12/2006</td>\n",
       "      <td>17:24:00</td>\n",
       "      <td>4.216</td>\n",
       "      <td>0.418</td>\n",
       "      <td>234.840</td>\n",
       "      <td>18.400</td>\n",
       "      <td>0.000</td>\n",
       "      <td>1.000</td>\n",
       "      <td>17.0</td>\n",
       "    </tr>\n",
       "    <tr>\n",
       "      <th>1</th>\n",
       "      <td>16/12/2006</td>\n",
       "      <td>17:25:00</td>\n",
       "      <td>5.360</td>\n",
       "      <td>0.436</td>\n",
       "      <td>233.630</td>\n",
       "      <td>23.000</td>\n",
       "      <td>0.000</td>\n",
       "      <td>1.000</td>\n",
       "      <td>16.0</td>\n",
       "    </tr>\n",
       "    <tr>\n",
       "      <th>2</th>\n",
       "      <td>16/12/2006</td>\n",
       "      <td>17:26:00</td>\n",
       "      <td>5.374</td>\n",
       "      <td>0.498</td>\n",
       "      <td>233.290</td>\n",
       "      <td>23.000</td>\n",
       "      <td>0.000</td>\n",
       "      <td>2.000</td>\n",
       "      <td>17.0</td>\n",
       "    </tr>\n",
       "    <tr>\n",
       "      <th>3</th>\n",
       "      <td>16/12/2006</td>\n",
       "      <td>17:27:00</td>\n",
       "      <td>5.388</td>\n",
       "      <td>0.502</td>\n",
       "      <td>233.740</td>\n",
       "      <td>23.000</td>\n",
       "      <td>0.000</td>\n",
       "      <td>1.000</td>\n",
       "      <td>17.0</td>\n",
       "    </tr>\n",
       "    <tr>\n",
       "      <th>4</th>\n",
       "      <td>16/12/2006</td>\n",
       "      <td>17:28:00</td>\n",
       "      <td>3.666</td>\n",
       "      <td>0.528</td>\n",
       "      <td>235.680</td>\n",
       "      <td>15.800</td>\n",
       "      <td>0.000</td>\n",
       "      <td>1.000</td>\n",
       "      <td>17.0</td>\n",
       "    </tr>\n",
       "  </tbody>\n",
       "</table>\n",
       "</div>"
      ],
      "text/plain": [
       "         Date      Time Global_active_power Global_reactive_power  Voltage  \\\n",
       "0  16/12/2006  17:24:00               4.216                 0.418  234.840   \n",
       "1  16/12/2006  17:25:00               5.360                 0.436  233.630   \n",
       "2  16/12/2006  17:26:00               5.374                 0.498  233.290   \n",
       "3  16/12/2006  17:27:00               5.388                 0.502  233.740   \n",
       "4  16/12/2006  17:28:00               3.666                 0.528  235.680   \n",
       "\n",
       "  Global_intensity Sub_metering_1 Sub_metering_2  Sub_metering_3  \n",
       "0           18.400          0.000          1.000            17.0  \n",
       "1           23.000          0.000          1.000            16.0  \n",
       "2           23.000          0.000          2.000            17.0  \n",
       "3           23.000          0.000          1.000            17.0  \n",
       "4           15.800          0.000          1.000            17.0  "
      ]
     },
     "execution_count": 3,
     "metadata": {},
     "output_type": "execute_result"
    }
   ],
   "source": [
    "dataset.head()"
   ]
  },
  {
   "cell_type": "markdown",
   "metadata": {},
   "source": [
    "Attribute Information:\n",
    "\n",
    "1.date: Date in format dd/mm/yyyy\n",
    "\n",
    "2.time: time in format hh:mm:ss\n",
    "\n",
    "3.global_active_power: household global minute-averaged active power (in kilowatt)\n",
    "\n",
    "4.global_reactive_power: household global minute-averaged reactive power (in kilowatt)\n",
    "\n",
    "5.voltage: minute-averaged voltage (in volt)\n",
    "\n",
    "6.global_intensity: household global minute-averaged current intensity (in ampere)\n",
    "\n",
    "7.sub_metering_1: energy sub-metering No. 1 (in watt-hour of active energy). It corresponds to the kitchen, containing mainly a dishwasher, an oven and a microwave (hot plates are not electric but gas powered).\n",
    "\n",
    "8.sub_metering_2: energy sub-metering No. 2 (in watt-hour of active energy). It corresponds to the laundry room, containing a washing-machine, a tumble-drier, a refrigerator and a light.\n",
    "\n",
    "9.sub_metering_3: energy sub-metering No. 3 (in watt-hour of active energy). It corresponds to an electric water-heater and an air-conditioner.\n",
    "\n"
   ]
  },
  {
   "cell_type": "code",
   "execution_count": 4,
   "metadata": {},
   "outputs": [
    {
     "data": {
      "text/plain": [
       "pandas.core.frame.DataFrame"
      ]
     },
     "execution_count": 4,
     "metadata": {},
     "output_type": "execute_result"
    }
   ],
   "source": [
    "type(dataset)"
   ]
  },
  {
   "cell_type": "code",
   "execution_count": 5,
   "metadata": {},
   "outputs": [
    {
     "data": {
      "text/plain": [
       "(2075259, 9)"
      ]
     },
     "execution_count": 5,
     "metadata": {},
     "output_type": "execute_result"
    }
   ],
   "source": [
    "dataset.shape"
   ]
  },
  {
   "cell_type": "code",
   "execution_count": 6,
   "metadata": {},
   "outputs": [
    {
     "data": {
      "text/plain": [
       "Date                      object\n",
       "Time                      object\n",
       "Global_active_power       object\n",
       "Global_reactive_power     object\n",
       "Voltage                   object\n",
       "Global_intensity          object\n",
       "Sub_metering_1            object\n",
       "Sub_metering_2            object\n",
       "Sub_metering_3           float64\n",
       "dtype: object"
      ]
     },
     "execution_count": 6,
     "metadata": {},
     "output_type": "execute_result"
    }
   ],
   "source": [
    "dataset.dtypes"
   ]
  },
  {
   "cell_type": "code",
   "execution_count": 7,
   "metadata": {},
   "outputs": [
    {
     "data": {
      "text/plain": [
       "Date                         0\n",
       "Time                         0\n",
       "Global_active_power          0\n",
       "Global_reactive_power        0\n",
       "Voltage                      0\n",
       "Global_intensity             0\n",
       "Sub_metering_1               0\n",
       "Sub_metering_2               0\n",
       "Sub_metering_3           25979\n",
       "dtype: int64"
      ]
     },
     "execution_count": 7,
     "metadata": {},
     "output_type": "execute_result"
    }
   ],
   "source": [
    "# Checando se há valores missing\n",
    "dataset.isnull().sum()"
   ]
  },
  {
   "cell_type": "code",
   "execution_count": 8,
   "metadata": {},
   "outputs": [
    {
     "data": {
      "text/plain": [
       "Date                     0.0\n",
       "Time                     0.0\n",
       "Global_active_power      0.0\n",
       "Global_reactive_power    0.0\n",
       "Voltage                  0.0\n",
       "Global_intensity         0.0\n",
       "Sub_metering_1           0.0\n",
       "Sub_metering_2           0.0\n",
       "Sub_metering_3           1.0\n",
       "dtype: float64"
      ]
     },
     "execution_count": 8,
     "metadata": {},
     "output_type": "execute_result"
    }
   ],
   "source": [
    "porc_miss = dataset.isnull().mean() * 100\n",
    "round (porc_miss,0)"
   ]
  },
  {
   "cell_type": "code",
   "execution_count": 9,
   "metadata": {},
   "outputs": [],
   "source": [
    "# Remove os registros com valores NA e remove as duas primeiras colunas (não são necessárias)\n",
    "dataset = dataset.iloc[:, 2:9].dropna()"
   ]
  },
  {
   "cell_type": "code",
   "execution_count": 10,
   "metadata": {},
   "outputs": [
    {
     "data": {
      "text/html": [
       "<div>\n",
       "<style scoped>\n",
       "    .dataframe tbody tr th:only-of-type {\n",
       "        vertical-align: middle;\n",
       "    }\n",
       "\n",
       "    .dataframe tbody tr th {\n",
       "        vertical-align: top;\n",
       "    }\n",
       "\n",
       "    .dataframe thead th {\n",
       "        text-align: right;\n",
       "    }\n",
       "</style>\n",
       "<table border=\"1\" class=\"dataframe\">\n",
       "  <thead>\n",
       "    <tr style=\"text-align: right;\">\n",
       "      <th></th>\n",
       "      <th>Global_active_power</th>\n",
       "      <th>Global_reactive_power</th>\n",
       "      <th>Voltage</th>\n",
       "      <th>Global_intensity</th>\n",
       "      <th>Sub_metering_1</th>\n",
       "      <th>Sub_metering_2</th>\n",
       "      <th>Sub_metering_3</th>\n",
       "    </tr>\n",
       "  </thead>\n",
       "  <tbody>\n",
       "    <tr>\n",
       "      <th>0</th>\n",
       "      <td>4.216</td>\n",
       "      <td>0.418</td>\n",
       "      <td>234.840</td>\n",
       "      <td>18.400</td>\n",
       "      <td>0.000</td>\n",
       "      <td>1.000</td>\n",
       "      <td>17.0</td>\n",
       "    </tr>\n",
       "    <tr>\n",
       "      <th>1</th>\n",
       "      <td>5.360</td>\n",
       "      <td>0.436</td>\n",
       "      <td>233.630</td>\n",
       "      <td>23.000</td>\n",
       "      <td>0.000</td>\n",
       "      <td>1.000</td>\n",
       "      <td>16.0</td>\n",
       "    </tr>\n",
       "    <tr>\n",
       "      <th>2</th>\n",
       "      <td>5.374</td>\n",
       "      <td>0.498</td>\n",
       "      <td>233.290</td>\n",
       "      <td>23.000</td>\n",
       "      <td>0.000</td>\n",
       "      <td>2.000</td>\n",
       "      <td>17.0</td>\n",
       "    </tr>\n",
       "    <tr>\n",
       "      <th>3</th>\n",
       "      <td>5.388</td>\n",
       "      <td>0.502</td>\n",
       "      <td>233.740</td>\n",
       "      <td>23.000</td>\n",
       "      <td>0.000</td>\n",
       "      <td>1.000</td>\n",
       "      <td>17.0</td>\n",
       "    </tr>\n",
       "    <tr>\n",
       "      <th>4</th>\n",
       "      <td>3.666</td>\n",
       "      <td>0.528</td>\n",
       "      <td>235.680</td>\n",
       "      <td>15.800</td>\n",
       "      <td>0.000</td>\n",
       "      <td>1.000</td>\n",
       "      <td>17.0</td>\n",
       "    </tr>\n",
       "  </tbody>\n",
       "</table>\n",
       "</div>"
      ],
      "text/plain": [
       "  Global_active_power Global_reactive_power  Voltage Global_intensity  \\\n",
       "0               4.216                 0.418  234.840           18.400   \n",
       "1               5.360                 0.436  233.630           23.000   \n",
       "2               5.374                 0.498  233.290           23.000   \n",
       "3               5.388                 0.502  233.740           23.000   \n",
       "4               3.666                 0.528  235.680           15.800   \n",
       "\n",
       "  Sub_metering_1 Sub_metering_2  Sub_metering_3  \n",
       "0          0.000          1.000            17.0  \n",
       "1          0.000          1.000            16.0  \n",
       "2          0.000          2.000            17.0  \n",
       "3          0.000          1.000            17.0  \n",
       "4          0.000          1.000            17.0  "
      ]
     },
     "execution_count": 10,
     "metadata": {},
     "output_type": "execute_result"
    }
   ],
   "source": [
    "dataset.head()"
   ]
  },
  {
   "cell_type": "code",
   "execution_count": 11,
   "metadata": {},
   "outputs": [
    {
     "data": {
      "text/plain": [
       "False"
      ]
     },
     "execution_count": 11,
     "metadata": {},
     "output_type": "execute_result"
    }
   ],
   "source": [
    "# Checando se há valores missing\n",
    "dataset.isnull().values.any()"
   ]
  },
  {
   "cell_type": "code",
   "execution_count": 12,
   "metadata": {},
   "outputs": [
    {
     "data": {
      "text/plain": [
       "(2049280, 7)"
      ]
     },
     "execution_count": 12,
     "metadata": {},
     "output_type": "execute_result"
    }
   ],
   "source": [
    "dataset.shape"
   ]
  },
  {
   "cell_type": "code",
   "execution_count": 13,
   "metadata": {},
   "outputs": [],
   "source": [
    "# Obtém os valores dos atributos, extrai os valores, independentemente do tipo\n",
    "dataset_atrib = dataset.values"
   ]
  },
  {
   "cell_type": "code",
   "execution_count": 14,
   "metadata": {},
   "outputs": [
    {
     "data": {
      "text/plain": [
       "array([['4.216', '0.418', '234.840', ..., '0.000', '1.000', 17.0],\n",
       "       ['5.360', '0.436', '233.630', ..., '0.000', '1.000', 16.0],\n",
       "       ['5.374', '0.498', '233.290', ..., '0.000', '2.000', 17.0],\n",
       "       ...,\n",
       "       ['0.938', '0.000', '239.820', ..., '0.000', '0.000', 0.0],\n",
       "       ['0.934', '0.000', '239.700', ..., '0.000', '0.000', 0.0],\n",
       "       ['0.932', '0.000', '239.550', ..., '0.000', '0.000', 0.0]],\n",
       "      dtype=object)"
      ]
     },
     "execution_count": 14,
     "metadata": {},
     "output_type": "execute_result"
    }
   ],
   "source": [
    "dataset_atrib"
   ]
  },
  {
   "cell_type": "code",
   "execution_count": 15,
   "metadata": {},
   "outputs": [],
   "source": [
    "# Coleta uma amostra de 1% dos dados para não comprometer a memória do computador\n",
    "amostra1, amostra2 = train_test_split(dataset_atrib, train_size = .01)"
   ]
  },
  {
   "cell_type": "code",
   "execution_count": 16,
   "metadata": {},
   "outputs": [
    {
     "data": {
      "text/plain": [
       "(20492, 7)"
      ]
     },
     "execution_count": 16,
     "metadata": {},
     "output_type": "execute_result"
    }
   ],
   "source": [
    "amostra1.shape"
   ]
  },
  {
   "cell_type": "code",
   "execution_count": 17,
   "metadata": {},
   "outputs": [],
   "source": [
    "# Aplica redução de dimensionalidade\n",
    "pca = PCA(n_components = 2).fit_transform(amostra1)"
   ]
  },
  {
   "cell_type": "code",
   "execution_count": 18,
   "metadata": {},
   "outputs": [],
   "source": [
    "# Determinando um range de K\n",
    "k_range = range(1,12)"
   ]
  },
  {
   "cell_type": "code",
   "execution_count": 19,
   "metadata": {},
   "outputs": [],
   "source": [
    "# Aplicando o modelo K-Means para cada valor de K (esta célula pode levar bastante tempo para ser executada)\n",
    "k_means_var = [KMeans(n_clusters = k).fit(pca) for k in k_range]"
   ]
  },
  {
   "cell_type": "code",
   "execution_count": 20,
   "metadata": {},
   "outputs": [],
   "source": [
    "# Ajustando o centróide do cluster para cada modelo\n",
    "centroids = [X.cluster_centers_ for X in k_means_var]"
   ]
  },
  {
   "cell_type": "markdown",
   "metadata": {},
   "source": [
    "https://docs.scipy.org/doc/scipy/reference/generated/scipy.spatial.distance.pdist.html\n",
    "\n",
    "https://docs.scipy.org/doc/scipy/reference/generated/scipy.spatial.distance.cdist.html"
   ]
  },
  {
   "cell_type": "code",
   "execution_count": 21,
   "metadata": {},
   "outputs": [],
   "source": [
    "# Calculando a distância euclidiana de cada ponto de dado para o centróide\n",
    "k_euclid = [cdist(pca, cent, 'euclidean') for cent in centroids]\n",
    "dist = [np.min(ke, axis = 1) for ke in k_euclid]"
   ]
  },
  {
   "cell_type": "code",
   "execution_count": 22,
   "metadata": {},
   "outputs": [],
   "source": [
    "# Soma dos quadrados das distâncias dentro do cluster\n",
    "soma_quadrados_intra_cluster = [sum(d**2) for d in dist]"
   ]
  },
  {
   "cell_type": "code",
   "execution_count": 23,
   "metadata": {},
   "outputs": [],
   "source": [
    "# Soma total dos quadrados\n",
    "soma_total = sum(pdist(pca)**2)/pca.shape[0]"
   ]
  },
  {
   "cell_type": "code",
   "execution_count": 24,
   "metadata": {},
   "outputs": [],
   "source": [
    "# Soma dos quadrados entre clusters\n",
    "soma_quadrados_inter_cluster = soma_total - soma_quadrados_intra_cluster"
   ]
  },
  {
   "cell_type": "code",
   "execution_count": 25,
   "metadata": {},
   "outputs": [
    {
     "data": {
      "text/plain": [
       "Text(0.5, 1.0, 'Variância Explicada x Valor de K')"
      ]
     },
     "execution_count": 25,
     "metadata": {},
     "output_type": "execute_result"
    },
    {
     "data": {
      "image/png": "[encoded data removed]",
      "text/plain": [
       "<Figure size 432x288 with 1 Axes>"
      ]
     },
     "metadata": {
      "needs_background": "light"
     },
     "output_type": "display_data"
    }
   ],
   "source": [
    "# Curva de Elbow\n",
    "fig = plt.figure()\n",
    "ax = fig.add_subplot(111)\n",
    "ax.plot(k_range, soma_quadrados_inter_cluster/soma_total * 100, 'b*-')\n",
    "ax.set_ylim((0,100))\n",
    "plt.grid(True)\n",
    "plt.xlabel('Número de Clusters')\n",
    "plt.ylabel('Percentual de Variância Explicada')\n",
    "plt.title('Variância Explicada x Valor de K')"
   ]
  },
  {
   "cell_type": "code",
   "execution_count": 26,
   "metadata": {},
   "outputs": [
    {
     "data": {
      "text/plain": [
       "KMeans(algorithm='auto', copy_x=True, init='k-means++', max_iter=300,\n",
       "    n_clusters=8, n_init=10, n_jobs=None, precompute_distances='auto',\n",
       "    random_state=None, tol=0.0001, verbose=0)"
      ]
     },
     "execution_count": 26,
     "metadata": {},
     "output_type": "execute_result"
    }
   ],
   "source": [
    "# Criando um modelo com K = 8\n",
    "modelo_v1 = KMeans(n_clusters = 8)\n",
    "modelo_v1.fit(pca)"
   ]
  },
  {
   "cell_type": "code",
   "execution_count": 27,
   "metadata": {},
   "outputs": [],
   "source": [
    "# Obtém os valores mínimos e máximos e organiza o shape\n",
    "x_min, x_max = pca[:, 0].min() - 5, pca[:, 0].max() - 1\n",
    "y_min, y_max = pca[:, 1].min() + 1, pca[:, 1].max() + 5\n",
    "xx, yy = np.meshgrid(np.arange(x_min, x_max, .02), np.arange(y_min, y_max, .02))\n",
    "Z = modelo_v1.predict(np.c_[xx.ravel(), yy.ravel()])\n",
    "Z = Z.reshape(xx.shape)"
   ]
  },
  {
   "cell_type": "code",
   "execution_count": 28,
   "metadata": {},
   "outputs": [
    {
     "data": {
      "text/plain": [
       "<matplotlib.image.AxesImage at 0x1b241763b00>"
      ]
     },
     "execution_count": 28,
     "metadata": {},
     "output_type": "execute_result"
    },
    {
     "data": {
      "image/png": "[encoded data removed]",
      "text/plain": [
       "<Figure size 432x288 with 1 Axes>"
      ]
     },
     "metadata": {
      "needs_background": "light"
     },
     "output_type": "display_data"
    }
   ],
   "source": [
    "# Plot das áreas dos clusters\n",
    "plt.figure(1)\n",
    "plt.clf()\n",
    "plt.imshow(Z, \n",
    "           interpolation = 'nearest',\n",
    "           extent = (xx.min(), xx.max(), yy.min(), yy.max()),\n",
    "           cmap = plt.cm.Paired,\n",
    "           aspect = 'auto', \n",
    "           origin = 'lower')"
   ]
  },
  {
   "cell_type": "code",
   "execution_count": 29,
   "metadata": {},
   "outputs": [
    {
     "data": {
      "image/png": "[encoded data removed]",
      "text/plain": [
       "<Figure size 432x288 with 1 Axes>"
      ]
     },
     "metadata": {},
     "output_type": "display_data"
    }
   ],
   "source": [
    "# Plot dos centróides\n",
    "plt.plot(pca[:, 0], pca[:, 1], 'k.', markersize = 4)\n",
    "centroids = modelo_v1.cluster_centers_\n",
    "inert = modelo_v1.inertia_\n",
    "plt.scatter(centroids[:, 0], centroids[:, 1], marker = 'x', s = 169, linewidths = 3, color = 'r', zorder = 8)\n",
    "plt.xlim(x_min, x_max)\n",
    "plt.ylim(y_min, y_max)\n",
    "plt.xticks(())\n",
    "plt.yticks(())\n",
    "plt.show()"
   ]
  },
  {
   "cell_type": "code",
   "execution_count": 31,
   "metadata": {},
   "outputs": [
    {
     "data": {
      "text/plain": [
       "0.6248061846155978"
      ]
     },
     "execution_count": 31,
     "metadata": {},
     "output_type": "execute_result"
    }
   ],
   "source": [
    "# Silhouette Score\n",
    "labels = modelo_v1.labels_\n",
    "silhouette_score(pca, labels, metric = 'euclidean')"
   ]
  },
  {
   "cell_type": "code",
   "execution_count": 32,
   "metadata": {},
   "outputs": [
    {
     "data": {
      "text/plain": [
       "KMeans(algorithm='auto', copy_x=True, init='k-means++', max_iter=300,\n",
       "    n_clusters=10, n_init=10, n_jobs=None, precompute_distances='auto',\n",
       "    random_state=None, tol=0.0001, verbose=0)"
      ]
     },
     "execution_count": 32,
     "metadata": {},
     "output_type": "execute_result"
    }
   ],
   "source": [
    "# Criando um modelo com K = 10\n",
    "modelo_v2 = KMeans(n_clusters = 10)\n",
    "modelo_v2.fit(pca)"
   ]
  },
  {
   "cell_type": "code",
   "execution_count": 33,
   "metadata": {},
   "outputs": [],
   "source": [
    "# Obtém os valores mínimos e máximos e organiza o shape\n",
    "x_min, x_max = pca[:, 0].min() - 5, pca[:, 0].max() - 1\n",
    "y_min, y_max = pca[:, 1].min() + 1, pca[:, 1].max() + 5\n",
    "xx, yy = np.meshgrid(np.arange(x_min, x_max, .02), np.arange(y_min, y_max, .02))\n",
    "Z = modelo_v2.predict(np.c_[xx.ravel(), yy.ravel()])\n",
    "Z = Z.reshape(xx.shape)"
   ]
  },
  {
   "cell_type": "code",
   "execution_count": 34,
   "metadata": {},
   "outputs": [
    {
     "data": {
      "text/plain": [
       "<matplotlib.image.AxesImage at 0x1b241986588>"
      ]
     },
     "execution_count": 34,
     "metadata": {},
     "output_type": "execute_result"
    },
    {
     "data": {
      "image/png": "[encoded data removed]",
      "text/plain": [
       "<Figure size 432x288 with 1 Axes>"
      ]
     },
     "metadata": {
      "needs_background": "light"
     },
     "output_type": "display_data"
    }
   ],
   "source": [
    "# Plot das áreas dos clusters\n",
    "plt.figure(1)\n",
    "plt.clf()\n",
    "plt.imshow(Z, \n",
    "           interpolation = 'nearest',\n",
    "           extent = (xx.min(), xx.max(), yy.min(), yy.max()),\n",
    "           cmap = plt.cm.Paired,\n",
    "           aspect = 'auto', \n",
    "           origin = 'lower')"
   ]
  },
  {
   "cell_type": "code",
   "execution_count": 35,
   "metadata": {},
   "outputs": [
    {
     "data": {
      "image/png": "[encoded data removed]",
      "text/plain": [
       "<Figure size 432x288 with 1 Axes>"
      ]
     },
     "metadata": {},
     "output_type": "display_data"
    }
   ],
   "source": [
    "# Plot dos centróides\n",
    "plt.plot(pca[:, 0], pca[:, 1], 'k.', markersize = 4)\n",
    "centroids = modelo_v2.cluster_centers_\n",
    "inert = modelo_v2.inertia_\n",
    "plt.scatter(centroids[:, 0], centroids[:, 1], marker = 'x', s = 169, linewidths = 3, color = 'r', zorder = 8)\n",
    "plt.xlim(x_min, x_max)\n",
    "plt.ylim(y_min, y_max)\n",
    "plt.xticks(())\n",
    "plt.yticks(())\n",
    "plt.show()"
   ]
  },
  {
   "cell_type": "code",
   "execution_count": 36,
   "metadata": {},
   "outputs": [
    {
     "data": {
      "text/plain": [
       "0.59343414751858"
      ]
     },
     "execution_count": 36,
     "metadata": {},
     "output_type": "execute_result"
    }
   ],
   "source": [
    "# Silhouette Score\n",
    "labels = modelo_v2.labels_\n",
    "silhouette_score(pca, labels, metric = 'euclidean')"
   ]
  },
  {
   "cell_type": "code",
   "execution_count": 37,
   "metadata": {},
   "outputs": [
    {
     "data": {
      "text/plain": [
       "KMeans(algorithm='auto', copy_x=True, init='k-means++', max_iter=300,\n",
       "    n_clusters=6, n_init=10, n_jobs=None, precompute_distances='auto',\n",
       "    random_state=None, tol=0.0001, verbose=0)"
      ]
     },
     "execution_count": 37,
     "metadata": {},
     "output_type": "execute_result"
    }
   ],
   "source": [
    "# Criando um modelo com K = 6\n",
    "modelo_v3 = KMeans(n_clusters = 6)\n",
    "modelo_v3.fit(pca)"
   ]
  },
  {
   "cell_type": "code",
   "execution_count": 38,
   "metadata": {},
   "outputs": [],
   "source": [
    "# Obtém os valores mínimos e máximos e organiza o shape\n",
    "x_min, x_max = pca[:, 0].min() - 5, pca[:, 0].max() - 1\n",
    "y_min, y_max = pca[:, 1].min() + 1, pca[:, 1].max() + 5\n",
    "xx, yy = np.meshgrid(np.arange(x_min, x_max, .02), np.arange(y_min, y_max, .02))\n",
    "Z = modelo_v3.predict(np.c_[xx.ravel(), yy.ravel()])\n",
    "Z = Z.reshape(xx.shape)"
   ]
  },
  {
   "cell_type": "code",
   "execution_count": 39,
   "metadata": {},
   "outputs": [
    {
     "data": {
      "text/plain": [
       "<matplotlib.image.AxesImage at 0x1b241924be0>"
      ]
     },
     "execution_count": 39,
     "metadata": {},
     "output_type": "execute_result"
    },
    {
     "data": {
      "image/png": "[encoded data removed]",
      "text/plain": [
       "<Figure size 432x288 with 1 Axes>"
      ]
     },
     "metadata": {
      "needs_background": "light"
     },
     "output_type": "display_data"
    }
   ],
   "source": [
    "# Plot das áreas dos clusters\n",
    "plt.figure(1)\n",
    "plt.clf()\n",
    "plt.imshow(Z, \n",
    "           interpolation = 'nearest',\n",
    "           extent = (xx.min(), xx.max(), yy.min(), yy.max()),\n",
    "           cmap = plt.cm.Paired,\n",
    "           aspect = 'auto', \n",
    "           origin = 'lower')"
   ]
  },
  {
   "cell_type": "code",
   "execution_count": 40,
   "metadata": {},
   "outputs": [
    {
     "data": {
      "image/png": "[encoded data removed]",
      "text/plain": [
       "<Figure size 432x288 with 1 Axes>"
      ]
     },
     "metadata": {},
     "output_type": "display_data"
    }
   ],
   "source": [
    "# Plot dos centróides\n",
    "plt.plot(pca[:, 0], pca[:, 1], 'k.', markersize = 4)\n",
    "centroids = modelo_v3.cluster_centers_\n",
    "inert = modelo_v3.inertia_\n",
    "plt.scatter(centroids[:, 0], centroids[:, 1], marker = 'x', s = 169, linewidths = 3, color = 'r', zorder = 8)\n",
    "plt.xlim(x_min, x_max)\n",
    "plt.ylim(y_min, y_max)\n",
    "plt.xticks(())\n",
    "plt.yticks(())\n",
    "plt.show()"
   ]
  },
  {
   "cell_type": "code",
   "execution_count": 41,
   "metadata": {},
   "outputs": [
    {
     "data": {
      "text/plain": [
       "0.7892002945787543"
      ]
     },
     "execution_count": 41,
     "metadata": {},
     "output_type": "execute_result"
    }
   ],
   "source": [
    "# Silhouette Score\n",
    "labels = modelo_v3.labels_\n",
    "silhouette_score(pca, labels, metric = 'euclidean')"
   ]
  },
  {
   "cell_type": "markdown",
   "metadata": {},
   "source": [
    "### Criando o Cluster Map com os clusters do Modelo V3 que apresentou melhor Silhouette Score."
   ]
  },
  {
   "cell_type": "code",
   "execution_count": 42,
   "metadata": {},
   "outputs": [],
   "source": [
    "# Lista com nomes das colunas\n",
    "names = ['Global_active_power', 'Global_reactive_power', 'Voltage', 'Global_intensity', 'Sub_metering_1', 'Sub_metering_2', 'Sub_metering_3']"
   ]
  },
  {
   "cell_type": "code",
   "execution_count": 43,
   "metadata": {},
   "outputs": [],
   "source": [
    "# Cria o cluster map\n",
    "cluster_map = pd.DataFrame(amostra1, columns = names)\n",
    "cluster_map['Global_active_power'] = pd.to_numeric(cluster_map['Global_active_power'])\n",
    "cluster_map['cluster'] = modelo_v3.labels_"
   ]
  },
  {
   "cell_type": "code",
   "execution_count": 44,
   "metadata": {},
   "outputs": [
    {
     "data": {
      "text/html": [
       "<div>\n",
       "<style scoped>\n",
       "    .dataframe tbody tr th:only-of-type {\n",
       "        vertical-align: middle;\n",
       "    }\n",
       "\n",
       "    .dataframe tbody tr th {\n",
       "        vertical-align: top;\n",
       "    }\n",
       "\n",
       "    .dataframe thead th {\n",
       "        text-align: right;\n",
       "    }\n",
       "</style>\n",
       "<table border=\"1\" class=\"dataframe\">\n",
       "  <thead>\n",
       "    <tr style=\"text-align: right;\">\n",
       "      <th></th>\n",
       "      <th>Global_active_power</th>\n",
       "      <th>Global_reactive_power</th>\n",
       "      <th>Voltage</th>\n",
       "      <th>Global_intensity</th>\n",
       "      <th>Sub_metering_1</th>\n",
       "      <th>Sub_metering_2</th>\n",
       "      <th>Sub_metering_3</th>\n",
       "      <th>cluster</th>\n",
       "    </tr>\n",
       "  </thead>\n",
       "  <tbody>\n",
       "    <tr>\n",
       "      <th>0</th>\n",
       "      <td>1.450</td>\n",
       "      <td>0.090</td>\n",
       "      <td>243.460</td>\n",
       "      <td>6.000</td>\n",
       "      <td>0.000</td>\n",
       "      <td>0.000</td>\n",
       "      <td>18</td>\n",
       "      <td>3</td>\n",
       "    </tr>\n",
       "    <tr>\n",
       "      <th>1</th>\n",
       "      <td>0.232</td>\n",
       "      <td>0.000</td>\n",
       "      <td>244.470</td>\n",
       "      <td>1.000</td>\n",
       "      <td>0.000</td>\n",
       "      <td>0.000</td>\n",
       "      <td>0</td>\n",
       "      <td>1</td>\n",
       "    </tr>\n",
       "    <tr>\n",
       "      <th>2</th>\n",
       "      <td>3.658</td>\n",
       "      <td>0.212</td>\n",
       "      <td>239.400</td>\n",
       "      <td>15.600</td>\n",
       "      <td>0.000</td>\n",
       "      <td>18.000</td>\n",
       "      <td>18</td>\n",
       "      <td>2</td>\n",
       "    </tr>\n",
       "    <tr>\n",
       "      <th>3</th>\n",
       "      <td>1.446</td>\n",
       "      <td>0.104</td>\n",
       "      <td>237.070</td>\n",
       "      <td>6.000</td>\n",
       "      <td>0.000</td>\n",
       "      <td>0.000</td>\n",
       "      <td>17</td>\n",
       "      <td>3</td>\n",
       "    </tr>\n",
       "    <tr>\n",
       "      <th>4</th>\n",
       "      <td>4.476</td>\n",
       "      <td>0.234</td>\n",
       "      <td>237.220</td>\n",
       "      <td>18.800</td>\n",
       "      <td>37.000</td>\n",
       "      <td>0.000</td>\n",
       "      <td>17</td>\n",
       "      <td>2</td>\n",
       "    </tr>\n",
       "    <tr>\n",
       "      <th>5</th>\n",
       "      <td>0.562</td>\n",
       "      <td>0.000</td>\n",
       "      <td>242.530</td>\n",
       "      <td>2.200</td>\n",
       "      <td>0.000</td>\n",
       "      <td>0.000</td>\n",
       "      <td>0</td>\n",
       "      <td>1</td>\n",
       "    </tr>\n",
       "    <tr>\n",
       "      <th>6</th>\n",
       "      <td>2.206</td>\n",
       "      <td>0.120</td>\n",
       "      <td>242.300</td>\n",
       "      <td>9.000</td>\n",
       "      <td>0.000</td>\n",
       "      <td>1.000</td>\n",
       "      <td>18</td>\n",
       "      <td>3</td>\n",
       "    </tr>\n",
       "    <tr>\n",
       "      <th>7</th>\n",
       "      <td>0.230</td>\n",
       "      <td>0.046</td>\n",
       "      <td>243.470</td>\n",
       "      <td>1.000</td>\n",
       "      <td>0.000</td>\n",
       "      <td>0.000</td>\n",
       "      <td>0</td>\n",
       "      <td>1</td>\n",
       "    </tr>\n",
       "    <tr>\n",
       "      <th>8</th>\n",
       "      <td>0.104</td>\n",
       "      <td>0.000</td>\n",
       "      <td>241.340</td>\n",
       "      <td>0.400</td>\n",
       "      <td>0.000</td>\n",
       "      <td>0.000</td>\n",
       "      <td>0</td>\n",
       "      <td>1</td>\n",
       "    </tr>\n",
       "    <tr>\n",
       "      <th>9</th>\n",
       "      <td>0.220</td>\n",
       "      <td>0.000</td>\n",
       "      <td>243.350</td>\n",
       "      <td>0.800</td>\n",
       "      <td>0.000</td>\n",
       "      <td>0.000</td>\n",
       "      <td>0</td>\n",
       "      <td>1</td>\n",
       "    </tr>\n",
       "    <tr>\n",
       "      <th>10</th>\n",
       "      <td>0.332</td>\n",
       "      <td>0.244</td>\n",
       "      <td>241.030</td>\n",
       "      <td>1.800</td>\n",
       "      <td>0.000</td>\n",
       "      <td>1.000</td>\n",
       "      <td>1</td>\n",
       "      <td>1</td>\n",
       "    </tr>\n",
       "    <tr>\n",
       "      <th>11</th>\n",
       "      <td>0.164</td>\n",
       "      <td>0.000</td>\n",
       "      <td>242.660</td>\n",
       "      <td>0.800</td>\n",
       "      <td>0.000</td>\n",
       "      <td>0.000</td>\n",
       "      <td>0</td>\n",
       "      <td>1</td>\n",
       "    </tr>\n",
       "    <tr>\n",
       "      <th>12</th>\n",
       "      <td>1.404</td>\n",
       "      <td>0.000</td>\n",
       "      <td>241.390</td>\n",
       "      <td>5.800</td>\n",
       "      <td>0.000</td>\n",
       "      <td>0.000</td>\n",
       "      <td>17</td>\n",
       "      <td>3</td>\n",
       "    </tr>\n",
       "    <tr>\n",
       "      <th>13</th>\n",
       "      <td>0.240</td>\n",
       "      <td>0.108</td>\n",
       "      <td>238.660</td>\n",
       "      <td>1.000</td>\n",
       "      <td>0.000</td>\n",
       "      <td>0.000</td>\n",
       "      <td>1</td>\n",
       "      <td>1</td>\n",
       "    </tr>\n",
       "    <tr>\n",
       "      <th>14</th>\n",
       "      <td>0.486</td>\n",
       "      <td>0.046</td>\n",
       "      <td>238.320</td>\n",
       "      <td>2.200</td>\n",
       "      <td>0.000</td>\n",
       "      <td>0.000</td>\n",
       "      <td>0</td>\n",
       "      <td>1</td>\n",
       "    </tr>\n",
       "    <tr>\n",
       "      <th>15</th>\n",
       "      <td>0.854</td>\n",
       "      <td>0.178</td>\n",
       "      <td>244.910</td>\n",
       "      <td>3.600</td>\n",
       "      <td>0.000</td>\n",
       "      <td>0.000</td>\n",
       "      <td>1</td>\n",
       "      <td>1</td>\n",
       "    </tr>\n",
       "    <tr>\n",
       "      <th>16</th>\n",
       "      <td>0.218</td>\n",
       "      <td>0.124</td>\n",
       "      <td>239.470</td>\n",
       "      <td>1.000</td>\n",
       "      <td>0.000</td>\n",
       "      <td>0.000</td>\n",
       "      <td>0</td>\n",
       "      <td>1</td>\n",
       "    </tr>\n",
       "    <tr>\n",
       "      <th>17</th>\n",
       "      <td>0.256</td>\n",
       "      <td>0.000</td>\n",
       "      <td>246.630</td>\n",
       "      <td>1.000</td>\n",
       "      <td>0.000</td>\n",
       "      <td>0.000</td>\n",
       "      <td>0</td>\n",
       "      <td>1</td>\n",
       "    </tr>\n",
       "    <tr>\n",
       "      <th>18</th>\n",
       "      <td>0.242</td>\n",
       "      <td>0.000</td>\n",
       "      <td>243.390</td>\n",
       "      <td>1.000</td>\n",
       "      <td>0.000</td>\n",
       "      <td>0.000</td>\n",
       "      <td>1</td>\n",
       "      <td>1</td>\n",
       "    </tr>\n",
       "    <tr>\n",
       "      <th>19</th>\n",
       "      <td>1.552</td>\n",
       "      <td>0.354</td>\n",
       "      <td>240.440</td>\n",
       "      <td>6.600</td>\n",
       "      <td>0.000</td>\n",
       "      <td>0.000</td>\n",
       "      <td>19</td>\n",
       "      <td>3</td>\n",
       "    </tr>\n",
       "    <tr>\n",
       "      <th>20</th>\n",
       "      <td>0.262</td>\n",
       "      <td>0.000</td>\n",
       "      <td>244.500</td>\n",
       "      <td>1.000</td>\n",
       "      <td>0.000</td>\n",
       "      <td>0.000</td>\n",
       "      <td>0</td>\n",
       "      <td>1</td>\n",
       "    </tr>\n",
       "    <tr>\n",
       "      <th>21</th>\n",
       "      <td>0.100</td>\n",
       "      <td>0.000</td>\n",
       "      <td>233.390</td>\n",
       "      <td>0.400</td>\n",
       "      <td>0.000</td>\n",
       "      <td>0.000</td>\n",
       "      <td>0</td>\n",
       "      <td>1</td>\n",
       "    </tr>\n",
       "    <tr>\n",
       "      <th>22</th>\n",
       "      <td>1.268</td>\n",
       "      <td>0.000</td>\n",
       "      <td>240.930</td>\n",
       "      <td>5.200</td>\n",
       "      <td>0.000</td>\n",
       "      <td>0.000</td>\n",
       "      <td>19</td>\n",
       "      <td>3</td>\n",
       "    </tr>\n",
       "    <tr>\n",
       "      <th>23</th>\n",
       "      <td>0.312</td>\n",
       "      <td>0.202</td>\n",
       "      <td>244.010</td>\n",
       "      <td>1.600</td>\n",
       "      <td>0.000</td>\n",
       "      <td>1.000</td>\n",
       "      <td>0</td>\n",
       "      <td>1</td>\n",
       "    </tr>\n",
       "    <tr>\n",
       "      <th>24</th>\n",
       "      <td>0.256</td>\n",
       "      <td>0.112</td>\n",
       "      <td>238.820</td>\n",
       "      <td>1.200</td>\n",
       "      <td>0.000</td>\n",
       "      <td>0.000</td>\n",
       "      <td>1</td>\n",
       "      <td>1</td>\n",
       "    </tr>\n",
       "    <tr>\n",
       "      <th>25</th>\n",
       "      <td>0.874</td>\n",
       "      <td>0.000</td>\n",
       "      <td>243.680</td>\n",
       "      <td>3.600</td>\n",
       "      <td>0.000</td>\n",
       "      <td>0.000</td>\n",
       "      <td>0</td>\n",
       "      <td>1</td>\n",
       "    </tr>\n",
       "    <tr>\n",
       "      <th>26</th>\n",
       "      <td>1.460</td>\n",
       "      <td>0.192</td>\n",
       "      <td>241.410</td>\n",
       "      <td>6.000</td>\n",
       "      <td>0.000</td>\n",
       "      <td>0.000</td>\n",
       "      <td>18</td>\n",
       "      <td>3</td>\n",
       "    </tr>\n",
       "    <tr>\n",
       "      <th>27</th>\n",
       "      <td>1.434</td>\n",
       "      <td>0.420</td>\n",
       "      <td>238.640</td>\n",
       "      <td>6.200</td>\n",
       "      <td>0.000</td>\n",
       "      <td>3.000</td>\n",
       "      <td>12</td>\n",
       "      <td>3</td>\n",
       "    </tr>\n",
       "    <tr>\n",
       "      <th>28</th>\n",
       "      <td>0.262</td>\n",
       "      <td>0.128</td>\n",
       "      <td>240.580</td>\n",
       "      <td>1.200</td>\n",
       "      <td>0.000</td>\n",
       "      <td>0.000</td>\n",
       "      <td>1</td>\n",
       "      <td>1</td>\n",
       "    </tr>\n",
       "    <tr>\n",
       "      <th>29</th>\n",
       "      <td>0.382</td>\n",
       "      <td>0.100</td>\n",
       "      <td>244.700</td>\n",
       "      <td>1.600</td>\n",
       "      <td>0.000</td>\n",
       "      <td>0.000</td>\n",
       "      <td>0</td>\n",
       "      <td>1</td>\n",
       "    </tr>\n",
       "    <tr>\n",
       "      <th>...</th>\n",
       "      <td>...</td>\n",
       "      <td>...</td>\n",
       "      <td>...</td>\n",
       "      <td>...</td>\n",
       "      <td>...</td>\n",
       "      <td>...</td>\n",
       "      <td>...</td>\n",
       "      <td>...</td>\n",
       "    </tr>\n",
       "    <tr>\n",
       "      <th>20462</th>\n",
       "      <td>0.118</td>\n",
       "      <td>0.000</td>\n",
       "      <td>234.200</td>\n",
       "      <td>0.600</td>\n",
       "      <td>0.000</td>\n",
       "      <td>0.000</td>\n",
       "      <td>0</td>\n",
       "      <td>1</td>\n",
       "    </tr>\n",
       "    <tr>\n",
       "      <th>20463</th>\n",
       "      <td>1.694</td>\n",
       "      <td>0.104</td>\n",
       "      <td>242.500</td>\n",
       "      <td>7.000</td>\n",
       "      <td>0.000</td>\n",
       "      <td>1.000</td>\n",
       "      <td>18</td>\n",
       "      <td>3</td>\n",
       "    </tr>\n",
       "    <tr>\n",
       "      <th>20464</th>\n",
       "      <td>0.270</td>\n",
       "      <td>0.086</td>\n",
       "      <td>241.970</td>\n",
       "      <td>1.200</td>\n",
       "      <td>0.000</td>\n",
       "      <td>0.000</td>\n",
       "      <td>0</td>\n",
       "      <td>1</td>\n",
       "    </tr>\n",
       "    <tr>\n",
       "      <th>20465</th>\n",
       "      <td>0.238</td>\n",
       "      <td>0.142</td>\n",
       "      <td>243.340</td>\n",
       "      <td>1.000</td>\n",
       "      <td>0.000</td>\n",
       "      <td>0.000</td>\n",
       "      <td>1</td>\n",
       "      <td>1</td>\n",
       "    </tr>\n",
       "    <tr>\n",
       "      <th>20466</th>\n",
       "      <td>0.246</td>\n",
       "      <td>0.108</td>\n",
       "      <td>240.960</td>\n",
       "      <td>1.000</td>\n",
       "      <td>0.000</td>\n",
       "      <td>1.000</td>\n",
       "      <td>1</td>\n",
       "      <td>1</td>\n",
       "    </tr>\n",
       "    <tr>\n",
       "      <th>20467</th>\n",
       "      <td>0.966</td>\n",
       "      <td>0.240</td>\n",
       "      <td>238.420</td>\n",
       "      <td>4.200</td>\n",
       "      <td>0.000</td>\n",
       "      <td>0.000</td>\n",
       "      <td>12</td>\n",
       "      <td>3</td>\n",
       "    </tr>\n",
       "    <tr>\n",
       "      <th>20468</th>\n",
       "      <td>0.336</td>\n",
       "      <td>0.114</td>\n",
       "      <td>245.140</td>\n",
       "      <td>1.400</td>\n",
       "      <td>0.000</td>\n",
       "      <td>1.000</td>\n",
       "      <td>1</td>\n",
       "      <td>1</td>\n",
       "    </tr>\n",
       "    <tr>\n",
       "      <th>20469</th>\n",
       "      <td>1.260</td>\n",
       "      <td>0.094</td>\n",
       "      <td>234.830</td>\n",
       "      <td>5.400</td>\n",
       "      <td>0.000</td>\n",
       "      <td>0.000</td>\n",
       "      <td>17</td>\n",
       "      <td>3</td>\n",
       "    </tr>\n",
       "    <tr>\n",
       "      <th>20470</th>\n",
       "      <td>1.482</td>\n",
       "      <td>0.222</td>\n",
       "      <td>237.550</td>\n",
       "      <td>6.200</td>\n",
       "      <td>1.000</td>\n",
       "      <td>0.000</td>\n",
       "      <td>18</td>\n",
       "      <td>3</td>\n",
       "    </tr>\n",
       "    <tr>\n",
       "      <th>20471</th>\n",
       "      <td>0.328</td>\n",
       "      <td>0.124</td>\n",
       "      <td>243.900</td>\n",
       "      <td>1.400</td>\n",
       "      <td>0.000</td>\n",
       "      <td>0.000</td>\n",
       "      <td>1</td>\n",
       "      <td>1</td>\n",
       "    </tr>\n",
       "    <tr>\n",
       "      <th>20472</th>\n",
       "      <td>0.846</td>\n",
       "      <td>0.260</td>\n",
       "      <td>240.230</td>\n",
       "      <td>3.600</td>\n",
       "      <td>0.000</td>\n",
       "      <td>0.000</td>\n",
       "      <td>12</td>\n",
       "      <td>3</td>\n",
       "    </tr>\n",
       "    <tr>\n",
       "      <th>20473</th>\n",
       "      <td>0.344</td>\n",
       "      <td>0.092</td>\n",
       "      <td>239.500</td>\n",
       "      <td>1.400</td>\n",
       "      <td>0.000</td>\n",
       "      <td>1.000</td>\n",
       "      <td>1</td>\n",
       "      <td>1</td>\n",
       "    </tr>\n",
       "    <tr>\n",
       "      <th>20474</th>\n",
       "      <td>0.358</td>\n",
       "      <td>0.134</td>\n",
       "      <td>242.980</td>\n",
       "      <td>1.600</td>\n",
       "      <td>0.000</td>\n",
       "      <td>0.000</td>\n",
       "      <td>1</td>\n",
       "      <td>1</td>\n",
       "    </tr>\n",
       "    <tr>\n",
       "      <th>20475</th>\n",
       "      <td>0.460</td>\n",
       "      <td>0.128</td>\n",
       "      <td>242.820</td>\n",
       "      <td>2.000</td>\n",
       "      <td>0.000</td>\n",
       "      <td>0.000</td>\n",
       "      <td>0</td>\n",
       "      <td>1</td>\n",
       "    </tr>\n",
       "    <tr>\n",
       "      <th>20476</th>\n",
       "      <td>2.524</td>\n",
       "      <td>0.000</td>\n",
       "      <td>238.260</td>\n",
       "      <td>10.600</td>\n",
       "      <td>0.000</td>\n",
       "      <td>0.000</td>\n",
       "      <td>17</td>\n",
       "      <td>3</td>\n",
       "    </tr>\n",
       "    <tr>\n",
       "      <th>20477</th>\n",
       "      <td>3.708</td>\n",
       "      <td>0.296</td>\n",
       "      <td>238.520</td>\n",
       "      <td>16.200</td>\n",
       "      <td>32.000</td>\n",
       "      <td>0.000</td>\n",
       "      <td>0</td>\n",
       "      <td>4</td>\n",
       "    </tr>\n",
       "    <tr>\n",
       "      <th>20478</th>\n",
       "      <td>2.028</td>\n",
       "      <td>0.130</td>\n",
       "      <td>234.560</td>\n",
       "      <td>8.600</td>\n",
       "      <td>0.000</td>\n",
       "      <td>0.000</td>\n",
       "      <td>17</td>\n",
       "      <td>3</td>\n",
       "    </tr>\n",
       "    <tr>\n",
       "      <th>20479</th>\n",
       "      <td>1.374</td>\n",
       "      <td>0.046</td>\n",
       "      <td>238.760</td>\n",
       "      <td>5.600</td>\n",
       "      <td>0.000</td>\n",
       "      <td>0.000</td>\n",
       "      <td>18</td>\n",
       "      <td>3</td>\n",
       "    </tr>\n",
       "    <tr>\n",
       "      <th>20480</th>\n",
       "      <td>0.226</td>\n",
       "      <td>0.000</td>\n",
       "      <td>246.740</td>\n",
       "      <td>0.800</td>\n",
       "      <td>0.000</td>\n",
       "      <td>0.000</td>\n",
       "      <td>0</td>\n",
       "      <td>1</td>\n",
       "    </tr>\n",
       "    <tr>\n",
       "      <th>20481</th>\n",
       "      <td>0.274</td>\n",
       "      <td>0.222</td>\n",
       "      <td>240.770</td>\n",
       "      <td>1.400</td>\n",
       "      <td>0.000</td>\n",
       "      <td>1.000</td>\n",
       "      <td>0</td>\n",
       "      <td>1</td>\n",
       "    </tr>\n",
       "    <tr>\n",
       "      <th>20482</th>\n",
       "      <td>0.272</td>\n",
       "      <td>0.000</td>\n",
       "      <td>244.110</td>\n",
       "      <td>1.200</td>\n",
       "      <td>0.000</td>\n",
       "      <td>0.000</td>\n",
       "      <td>0</td>\n",
       "      <td>1</td>\n",
       "    </tr>\n",
       "    <tr>\n",
       "      <th>20483</th>\n",
       "      <td>1.448</td>\n",
       "      <td>0.096</td>\n",
       "      <td>240.860</td>\n",
       "      <td>6.000</td>\n",
       "      <td>1.000</td>\n",
       "      <td>0.000</td>\n",
       "      <td>18</td>\n",
       "      <td>3</td>\n",
       "    </tr>\n",
       "    <tr>\n",
       "      <th>20484</th>\n",
       "      <td>0.080</td>\n",
       "      <td>0.000</td>\n",
       "      <td>240.520</td>\n",
       "      <td>0.200</td>\n",
       "      <td>0.000</td>\n",
       "      <td>0.000</td>\n",
       "      <td>1</td>\n",
       "      <td>1</td>\n",
       "    </tr>\n",
       "    <tr>\n",
       "      <th>20485</th>\n",
       "      <td>0.356</td>\n",
       "      <td>0.108</td>\n",
       "      <td>241.990</td>\n",
       "      <td>1.400</td>\n",
       "      <td>0.000</td>\n",
       "      <td>0.000</td>\n",
       "      <td>0</td>\n",
       "      <td>1</td>\n",
       "    </tr>\n",
       "    <tr>\n",
       "      <th>20486</th>\n",
       "      <td>0.282</td>\n",
       "      <td>0.084</td>\n",
       "      <td>243.790</td>\n",
       "      <td>1.200</td>\n",
       "      <td>0.000</td>\n",
       "      <td>0.000</td>\n",
       "      <td>0</td>\n",
       "      <td>1</td>\n",
       "    </tr>\n",
       "    <tr>\n",
       "      <th>20487</th>\n",
       "      <td>0.528</td>\n",
       "      <td>0.156</td>\n",
       "      <td>237.320</td>\n",
       "      <td>2.400</td>\n",
       "      <td>0.000</td>\n",
       "      <td>0.000</td>\n",
       "      <td>0</td>\n",
       "      <td>1</td>\n",
       "    </tr>\n",
       "    <tr>\n",
       "      <th>20488</th>\n",
       "      <td>1.436</td>\n",
       "      <td>0.160</td>\n",
       "      <td>237.760</td>\n",
       "      <td>6.000</td>\n",
       "      <td>0.000</td>\n",
       "      <td>1.000</td>\n",
       "      <td>1</td>\n",
       "      <td>1</td>\n",
       "    </tr>\n",
       "    <tr>\n",
       "      <th>20489</th>\n",
       "      <td>1.378</td>\n",
       "      <td>0.052</td>\n",
       "      <td>241.270</td>\n",
       "      <td>5.600</td>\n",
       "      <td>0.000</td>\n",
       "      <td>0.000</td>\n",
       "      <td>18</td>\n",
       "      <td>3</td>\n",
       "    </tr>\n",
       "    <tr>\n",
       "      <th>20490</th>\n",
       "      <td>0.272</td>\n",
       "      <td>0.242</td>\n",
       "      <td>241.350</td>\n",
       "      <td>1.400</td>\n",
       "      <td>0.000</td>\n",
       "      <td>0.000</td>\n",
       "      <td>0</td>\n",
       "      <td>1</td>\n",
       "    </tr>\n",
       "    <tr>\n",
       "      <th>20491</th>\n",
       "      <td>3.276</td>\n",
       "      <td>0.134</td>\n",
       "      <td>237.650</td>\n",
       "      <td>13.800</td>\n",
       "      <td>0.000</td>\n",
       "      <td>35.000</td>\n",
       "      <td>1</td>\n",
       "      <td>4</td>\n",
       "    </tr>\n",
       "  </tbody>\n",
       "</table>\n",
       "<p>20492 rows × 8 columns</p>\n",
       "</div>"
      ],
      "text/plain": [
       "       Global_active_power Global_reactive_power  Voltage Global_intensity  \\\n",
       "0                    1.450                 0.090  243.460            6.000   \n",
       "1                    0.232                 0.000  244.470            1.000   \n",
       "2                    3.658                 0.212  239.400           15.600   \n",
       "3                    1.446                 0.104  237.070            6.000   \n",
       "4                    4.476                 0.234  237.220           18.800   \n",
       "5                    0.562                 0.000  242.530            2.200   \n",
       "6                    2.206                 0.120  242.300            9.000   \n",
       "7                    0.230                 0.046  243.470            1.000   \n",
       "8                    0.104                 0.000  241.340            0.400   \n",
       "9                    0.220                 0.000  243.350            0.800   \n",
       "10                   0.332                 0.244  241.030            1.800   \n",
       "11                   0.164                 0.000  242.660            0.800   \n",
       "12                   1.404                 0.000  241.390            5.800   \n",
       "13                   0.240                 0.108  238.660            1.000   \n",
       "14                   0.486                 0.046  238.320            2.200   \n",
       "15                   0.854                 0.178  244.910            3.600   \n",
       "16                   0.218                 0.124  239.470            1.000   \n",
       "17                   0.256                 0.000  246.630            1.000   \n",
       "18                   0.242                 0.000  243.390            1.000   \n",
       "19                   1.552                 0.354  240.440            6.600   \n",
       "20                   0.262                 0.000  244.500            1.000   \n",
       "21                   0.100                 0.000  233.390            0.400   \n",
       "22                   1.268                 0.000  240.930            5.200   \n",
       "23                   0.312                 0.202  244.010            1.600   \n",
       "24                   0.256                 0.112  238.820            1.200   \n",
       "25                   0.874                 0.000  243.680            3.600   \n",
       "26                   1.460                 0.192  241.410            6.000   \n",
       "27                   1.434                 0.420  238.640            6.200   \n",
       "28                   0.262                 0.128  240.580            1.200   \n",
       "29                   0.382                 0.100  244.700            1.600   \n",
       "...                    ...                   ...      ...              ...   \n",
       "20462                0.118                 0.000  234.200            0.600   \n",
       "20463                1.694                 0.104  242.500            7.000   \n",
       "20464                0.270                 0.086  241.970            1.200   \n",
       "20465                0.238                 0.142  243.340            1.000   \n",
       "20466                0.246                 0.108  240.960            1.000   \n",
       "20467                0.966                 0.240  238.420            4.200   \n",
       "20468                0.336                 0.114  245.140            1.400   \n",
       "20469                1.260                 0.094  234.830            5.400   \n",
       "20470                1.482                 0.222  237.550            6.200   \n",
       "20471                0.328                 0.124  243.900            1.400   \n",
       "20472                0.846                 0.260  240.230            3.600   \n",
       "20473                0.344                 0.092  239.500            1.400   \n",
       "20474                0.358                 0.134  242.980            1.600   \n",
       "20475                0.460                 0.128  242.820            2.000   \n",
       "20476                2.524                 0.000  238.260           10.600   \n",
       "20477                3.708                 0.296  238.520           16.200   \n",
       "20478                2.028                 0.130  234.560            8.600   \n",
       "20479                1.374                 0.046  238.760            5.600   \n",
       "20480                0.226                 0.000  246.740            0.800   \n",
       "20481                0.274                 0.222  240.770            1.400   \n",
       "20482                0.272                 0.000  244.110            1.200   \n",
       "20483                1.448                 0.096  240.860            6.000   \n",
       "20484                0.080                 0.000  240.520            0.200   \n",
       "20485                0.356                 0.108  241.990            1.400   \n",
       "20486                0.282                 0.084  243.790            1.200   \n",
       "20487                0.528                 0.156  237.320            2.400   \n",
       "20488                1.436                 0.160  237.760            6.000   \n",
       "20489                1.378                 0.052  241.270            5.600   \n",
       "20490                0.272                 0.242  241.350            1.400   \n",
       "20491                3.276                 0.134  237.650           13.800   \n",
       "\n",
       "      Sub_metering_1 Sub_metering_2 Sub_metering_3  cluster  \n",
       "0              0.000          0.000             18        3  \n",
       "1              0.000          0.000              0        1  \n",
       "2              0.000         18.000             18        2  \n",
       "3              0.000          0.000             17        3  \n",
       "4             37.000          0.000             17        2  \n",
       "5              0.000          0.000              0        1  \n",
       "6              0.000          1.000             18        3  \n",
       "7              0.000          0.000              0        1  \n",
       "8              0.000          0.000              0        1  \n",
       "9              0.000          0.000              0        1  \n",
       "10             0.000          1.000              1        1  \n",
       "11             0.000          0.000              0        1  \n",
       "12             0.000          0.000             17        3  \n",
       "13             0.000          0.000              1        1  \n",
       "14             0.000          0.000              0        1  \n",
       "15             0.000          0.000              1        1  \n",
       "16             0.000          0.000              0        1  \n",
       "17             0.000          0.000              0        1  \n",
       "18             0.000          0.000              1        1  \n",
       "19             0.000          0.000             19        3  \n",
       "20             0.000          0.000              0        1  \n",
       "21             0.000          0.000              0        1  \n",
       "22             0.000          0.000             19        3  \n",
       "23             0.000          1.000              0        1  \n",
       "24             0.000          0.000              1        1  \n",
       "25             0.000          0.000              0        1  \n",
       "26             0.000          0.000             18        3  \n",
       "27             0.000          3.000             12        3  \n",
       "28             0.000          0.000              1        1  \n",
       "29             0.000          0.000              0        1  \n",
       "...              ...            ...            ...      ...  \n",
       "20462          0.000          0.000              0        1  \n",
       "20463          0.000          1.000             18        3  \n",
       "20464          0.000          0.000              0        1  \n",
       "20465          0.000          0.000              1        1  \n",
       "20466          0.000          1.000              1        1  \n",
       "20467          0.000          0.000             12        3  \n",
       "20468          0.000          1.000              1        1  \n",
       "20469          0.000          0.000             17        3  \n",
       "20470          1.000          0.000             18        3  \n",
       "20471          0.000          0.000              1        1  \n",
       "20472          0.000          0.000             12        3  \n",
       "20473          0.000          1.000              1        1  \n",
       "20474          0.000          0.000              1        1  \n",
       "20475          0.000          0.000              0        1  \n",
       "20476          0.000          0.000             17        3  \n",
       "20477         32.000          0.000              0        4  \n",
       "20478          0.000          0.000             17        3  \n",
       "20479          0.000          0.000             18        3  \n",
       "20480          0.000          0.000              0        1  \n",
       "20481          0.000          1.000              0        1  \n",
       "20482          0.000          0.000              0        1  \n",
       "20483          1.000          0.000             18        3  \n",
       "20484          0.000          0.000              1        1  \n",
       "20485          0.000          0.000              0        1  \n",
       "20486          0.000          0.000              0        1  \n",
       "20487          0.000          0.000              0        1  \n",
       "20488          0.000          1.000              1        1  \n",
       "20489          0.000          0.000             18        3  \n",
       "20490          0.000          0.000              0        1  \n",
       "20491          0.000         35.000              1        4  \n",
       "\n",
       "[20492 rows x 8 columns]"
      ]
     },
     "execution_count": 44,
     "metadata": {},
     "output_type": "execute_result"
    }
   ],
   "source": [
    "cluster_map"
   ]
  },
  {
   "cell_type": "code",
   "execution_count": 45,
   "metadata": {},
   "outputs": [
    {
     "data": {
      "text/plain": [
       "cluster\n",
       "0    2.959052\n",
       "1    0.516405\n",
       "2    4.109532\n",
       "3    1.600268\n",
       "4    2.919277\n",
       "5    6.098259\n",
       "Name: Global_active_power, dtype: float64"
      ]
     },
     "execution_count": 45,
     "metadata": {},
     "output_type": "execute_result"
    }
   ],
   "source": [
    "# Calcula a média de consumo de energia por cluster\n",
    "cluster_map.groupby('cluster')['Global_active_power'].mean()"
   ]
  },
  {
   "cell_type": "markdown",
   "metadata": {},
   "source": [
    "### Fim"
   ]
  }
 ],
 "metadata": {
  "anaconda-cloud": {},
  "kernelspec": {
   "display_name": "Python 3",
   "language": "python",
   "name": "python3"
  },
  "language_info": {
   "codemirror_mode": {
    "name": "ipython",
    "version": 3
   },
   "file_extension": ".py",
   "mimetype": "text/x-python",
   "name": "python",
   "nbconvert_exporter": "python",
   "pygments_lexer": "ipython3",
   "version": "3.7.3"
  }
 },
 "nbformat": 4,
 "nbformat_minor": 1
}
